{
 "cells": [
  {
   "cell_type": "code",
   "execution_count": 42,
   "id": "95516590",
   "metadata": {},
   "outputs": [
    {
     "name": "stderr",
     "output_type": "stream",
     "text": [
      "\u001b[32m\u001b[1m   Resolving\u001b[22m\u001b[39m package versions...\n",
      "\u001b[32m\u001b[1m  No Changes\u001b[22m\u001b[39m to `~/.julia/environments/v1.8/Project.toml`\n",
      "\u001b[32m\u001b[1m  No Changes\u001b[22m\u001b[39m to `~/.julia/environments/v1.8/Manifest.toml`\n",
      "\u001b[32m\u001b[1m   Resolving\u001b[22m\u001b[39m package versions...\n",
      "\u001b[32m\u001b[1m  No Changes\u001b[22m\u001b[39m to `~/.julia/environments/v1.8/Project.toml`\n",
      "\u001b[32m\u001b[1m  No Changes\u001b[22m\u001b[39m to `~/.julia/environments/v1.8/Manifest.toml`\n",
      "\u001b[32m\u001b[1m   Resolving\u001b[22m\u001b[39m package versions...\n",
      "\u001b[32m\u001b[1m  No Changes\u001b[22m\u001b[39m to `~/.julia/environments/v1.8/Project.toml`\n",
      "\u001b[32m\u001b[1m  No Changes\u001b[22m\u001b[39m to `~/.julia/environments/v1.8/Manifest.toml`\n",
      "\u001b[32m\u001b[1m   Resolving\u001b[22m\u001b[39m package versions...\n",
      "\u001b[32m\u001b[1m  No Changes\u001b[22m\u001b[39m to `~/.julia/environments/v1.8/Project.toml`\n",
      "\u001b[32m\u001b[1m  No Changes\u001b[22m\u001b[39m to `~/.julia/environments/v1.8/Manifest.toml`\n",
      "\u001b[32m\u001b[1m   Resolving\u001b[22m\u001b[39m package versions...\n",
      "\u001b[32m\u001b[1m  No Changes\u001b[22m\u001b[39m to `~/.julia/environments/v1.8/Project.toml`\n",
      "\u001b[32m\u001b[1m  No Changes\u001b[22m\u001b[39m to `~/.julia/environments/v1.8/Manifest.toml`\n",
      "\u001b[32m\u001b[1m   Resolving\u001b[22m\u001b[39m package versions...\n",
      "\u001b[32m\u001b[1m  No Changes\u001b[22m\u001b[39m to `~/.julia/environments/v1.8/Project.toml`\n",
      "\u001b[32m\u001b[1m  No Changes\u001b[22m\u001b[39m to `~/.julia/environments/v1.8/Manifest.toml`\n",
      "\u001b[32m\u001b[1m   Resolving\u001b[22m\u001b[39m package versions...\n",
      "\u001b[32m\u001b[1m  No Changes\u001b[22m\u001b[39m to `~/.julia/environments/v1.8/Project.toml`\n",
      "\u001b[32m\u001b[1m  No Changes\u001b[22m\u001b[39m to `~/.julia/environments/v1.8/Manifest.toml`\n",
      "\u001b[32m\u001b[1m   Resolving\u001b[22m\u001b[39m package versions...\n",
      "\u001b[32m\u001b[1m  No Changes\u001b[22m\u001b[39m to `~/.julia/environments/v1.8/Project.toml`\n",
      "\u001b[32m\u001b[1m  No Changes\u001b[22m\u001b[39m to `~/.julia/environments/v1.8/Manifest.toml`\n",
      "\u001b[32m\u001b[1m   Resolving\u001b[22m\u001b[39m package versions...\n",
      "\u001b[32m\u001b[1m  No Changes\u001b[22m\u001b[39m to `~/.julia/environments/v1.8/Project.toml`\n",
      "\u001b[32m\u001b[1m  No Changes\u001b[22m\u001b[39m to `~/.julia/environments/v1.8/Manifest.toml`\n",
      "\u001b[32m\u001b[1m   Resolving\u001b[22m\u001b[39m package versions...\n",
      "\u001b[32m\u001b[1m  No Changes\u001b[22m\u001b[39m to `~/.julia/environments/v1.8/Project.toml`\n",
      "\u001b[32m\u001b[1m  No Changes\u001b[22m\u001b[39m to `~/.julia/environments/v1.8/Manifest.toml`\n",
      "\u001b[32m\u001b[1m   Resolving\u001b[22m\u001b[39m package versions...\n",
      "\u001b[32m\u001b[1m  No Changes\u001b[22m\u001b[39m to `~/.julia/environments/v1.8/Project.toml`\n",
      "\u001b[32m\u001b[1m  No Changes\u001b[22m\u001b[39m to `~/.julia/environments/v1.8/Manifest.toml`\n",
      "\u001b[32m\u001b[1m   Resolving\u001b[22m\u001b[39m package versions...\n",
      "\u001b[32m\u001b[1m  No Changes\u001b[22m\u001b[39m to `~/.julia/environments/v1.8/Project.toml`\n",
      "\u001b[32m\u001b[1m  No Changes\u001b[22m\u001b[39m to `~/.julia/environments/v1.8/Manifest.toml`\n",
      "\u001b[32m\u001b[1m   Resolving\u001b[22m\u001b[39m package versions...\n",
      "\u001b[32m\u001b[1m  No Changes\u001b[22m\u001b[39m to `~/.julia/environments/v1.8/Project.toml`\n",
      "\u001b[32m\u001b[1m  No Changes\u001b[22m\u001b[39m to `~/.julia/environments/v1.8/Manifest.toml`\n",
      "\u001b[32m\u001b[1m   Resolving\u001b[22m\u001b[39m package versions...\n",
      "\u001b[32m\u001b[1m  No Changes\u001b[22m\u001b[39m to `~/.julia/environments/v1.8/Project.toml`\n",
      "\u001b[32m\u001b[1m  No Changes\u001b[22m\u001b[39m to `~/.julia/environments/v1.8/Manifest.toml`\n",
      "\u001b[32m\u001b[1m   Resolving\u001b[22m\u001b[39m package versions...\n",
      "\u001b[32m\u001b[1m  No Changes\u001b[22m\u001b[39m to `~/.julia/environments/v1.8/Project.toml`\n",
      "\u001b[32m\u001b[1m  No Changes\u001b[22m\u001b[39m to `~/.julia/environments/v1.8/Manifest.toml`\n",
      "\u001b[32m\u001b[1m   Resolving\u001b[22m\u001b[39m package versions...\n",
      "\u001b[32m\u001b[1m  No Changes\u001b[22m\u001b[39m to `~/.julia/environments/v1.8/Project.toml`\n",
      "\u001b[32m\u001b[1m  No Changes\u001b[22m\u001b[39m to `~/.julia/environments/v1.8/Manifest.toml`\n",
      "\u001b[32m\u001b[1m   Resolving\u001b[22m\u001b[39m package versions...\n",
      "\u001b[32m\u001b[1m  No Changes\u001b[22m\u001b[39m to `~/.julia/environments/v1.8/Project.toml`\n",
      "\u001b[32m\u001b[1m  No Changes\u001b[22m\u001b[39m to `~/.julia/environments/v1.8/Manifest.toml`\n",
      "\u001b[32m\u001b[1m   Resolving\u001b[22m\u001b[39m package versions...\n",
      "\u001b[32m\u001b[1m  No Changes\u001b[22m\u001b[39m to `~/.julia/environments/v1.8/Project.toml`\n",
      "\u001b[32m\u001b[1m  No Changes\u001b[22m\u001b[39m to `~/.julia/environments/v1.8/Manifest.toml`\n",
      "\u001b[32m\u001b[1m   Resolving\u001b[22m\u001b[39m package versions...\n",
      "\u001b[32m\u001b[1m  No Changes\u001b[22m\u001b[39m to `~/.julia/environments/v1.8/Project.toml`\n",
      "\u001b[32m\u001b[1m  No Changes\u001b[22m\u001b[39m to `~/.julia/environments/v1.8/Manifest.toml`\n",
      "\u001b[32m\u001b[1m   Resolving\u001b[22m\u001b[39m package versions...\n",
      "\u001b[32m\u001b[1m  No Changes\u001b[22m\u001b[39m to `~/.julia/environments/v1.8/Project.toml`\n",
      "\u001b[32m\u001b[1m  No Changes\u001b[22m\u001b[39m to `~/.julia/environments/v1.8/Manifest.toml`\n",
      "\u001b[32m\u001b[1m   Resolving\u001b[22m\u001b[39m package versions...\n",
      "\u001b[32m\u001b[1m  No Changes\u001b[22m\u001b[39m to `~/.julia/environments/v1.8/Project.toml`\n",
      "\u001b[32m\u001b[1m  No Changes\u001b[22m\u001b[39m to `~/.julia/environments/v1.8/Manifest.toml`\n",
      "\u001b[32m\u001b[1m   Resolving\u001b[22m\u001b[39m package versions...\n",
      "\u001b[32m\u001b[1m  No Changes\u001b[22m\u001b[39m to `~/.julia/environments/v1.8/Project.toml`\n",
      "\u001b[32m\u001b[1m  No Changes\u001b[22m\u001b[39m to `~/.julia/environments/v1.8/Manifest.toml`\n",
      "\u001b[32m\u001b[1m   Resolving\u001b[22m\u001b[39m package versions...\n",
      "\u001b[32m\u001b[1m  No Changes\u001b[22m\u001b[39m to `~/.julia/environments/v1.8/Project.toml`\n",
      "\u001b[32m\u001b[1m  No Changes\u001b[22m\u001b[39m to `~/.julia/environments/v1.8/Manifest.toml`\n",
      "\u001b[32m\u001b[1m   Resolving\u001b[22m\u001b[39m package versions...\n",
      "\u001b[32m\u001b[1m  No Changes\u001b[22m\u001b[39m to `~/.julia/environments/v1.8/Project.toml`\n",
      "\u001b[32m\u001b[1m  No Changes\u001b[22m\u001b[39m to `~/.julia/environments/v1.8/Manifest.toml`\n"
     ]
    },
    {
     "ename": "LoadError",
     "evalue": "The following package names could not be resolved:\n * TVSD (not found in project, manifest or registry)\n\u001b[36m   Suggestions:\u001b[39m Rela\u001b[0m\u001b[1mt\u001b[22mi\u001b[0m\u001b[1mv\u001b[22mi\u001b[0m\u001b[1ms\u001b[22mtic\u001b[0m\u001b[1mD\u001b[22mynamics Wa\u001b[0m\u001b[1mt\u001b[22merWa\u001b[0m\u001b[1mv\u001b[22me\u001b[0m\u001b[1ms\u001b[22m1\u001b[0m\u001b[1mD\u001b[22m Adap\u001b[0m\u001b[1mt\u001b[22mi\u001b[0m\u001b[1mv\u001b[22me\u001b[0m\u001b[1mS\u001b[22mparseGri\u001b[0m\u001b[1md\u001b[22ms",
     "output_type": "error",
     "traceback": [
      "The following package names could not be resolved:\n * TVSD (not found in project, manifest or registry)\n\u001b[36m   Suggestions:\u001b[39m Rela\u001b[0m\u001b[1mt\u001b[22mi\u001b[0m\u001b[1mv\u001b[22mi\u001b[0m\u001b[1ms\u001b[22mtic\u001b[0m\u001b[1mD\u001b[22mynamics Wa\u001b[0m\u001b[1mt\u001b[22merWa\u001b[0m\u001b[1mv\u001b[22me\u001b[0m\u001b[1ms\u001b[22m1\u001b[0m\u001b[1mD\u001b[22m Adap\u001b[0m\u001b[1mt\u001b[22mi\u001b[0m\u001b[1mv\u001b[22me\u001b[0m\u001b[1mS\u001b[22mparseGri\u001b[0m\u001b[1md\u001b[22ms",
      "",
      "Stacktrace:",
      "  [1] pkgerror(msg::String)",
      "    @ Pkg.Types /opt/local/share/julia/stdlib/v1.8/Pkg/src/Types.jl:67",
      "  [2] ensure_resolved(ctx::Pkg.Types.Context, manifest::Pkg.Types.Manifest, pkgs::Vector{Pkg.Types.PackageSpec}; registry::Bool)",
      "    @ Pkg.Types /opt/local/share/julia/stdlib/v1.8/Pkg/src/Types.jl:952",
      "  [3] add(ctx::Pkg.Types.Context, pkgs::Vector{Pkg.Types.PackageSpec}; preserve::Pkg.Types.PreserveLevel, platform::Base.BinaryPlatforms.Platform, kwargs::Base.Pairs{Symbol, IJulia.IJuliaStdio{Base.PipeEndpoint}, Tuple{Symbol}, NamedTuple{(:io,), Tuple{IJulia.IJuliaStdio{Base.PipeEndpoint}}}})",
      "    @ Pkg.API /opt/local/share/julia/stdlib/v1.8/Pkg/src/API.jl:264",
      "  [4] add(pkgs::Vector{Pkg.Types.PackageSpec}; io::IJulia.IJuliaStdio{Base.PipeEndpoint}, kwargs::Base.Pairs{Symbol, Union{}, Tuple{}, NamedTuple{(), Tuple{}}})",
      "    @ Pkg.API /opt/local/share/julia/stdlib/v1.8/Pkg/src/API.jl:156",
      "  [5] add(pkgs::Vector{Pkg.Types.PackageSpec})",
      "    @ Pkg.API /opt/local/share/julia/stdlib/v1.8/Pkg/src/API.jl:145",
      "  [6] #add#27",
      "    @ /opt/local/share/julia/stdlib/v1.8/Pkg/src/API.jl:144 [inlined]",
      "  [7] add",
      "    @ /opt/local/share/julia/stdlib/v1.8/Pkg/src/API.jl:144 [inlined]",
      "  [8] #add#26",
      "    @ /opt/local/share/julia/stdlib/v1.8/Pkg/src/API.jl:143 [inlined]",
      "  [9] add(pkg::String)",
      "    @ Pkg.API /opt/local/share/julia/stdlib/v1.8/Pkg/src/API.jl:143",
      " [10] top-level scope",
      "    @ In[42]:26"
     ]
    }
   ],
   "source": [
    "import Pkg\n",
    "Pkg.add(\"Turing\")\n",
    "Pkg.add(\"Flux\")\n",
    "Pkg.add(\"NCDatasets\")\n",
    "Pkg.add(\"TSVD\")\n",
    "Pkg.add(\"Statistics\")\n",
    "Pkg.add(\"Compat\")\n",
    "Pkg.add(\"LinearAlgebra\")\n",
    "Pkg.add(\"Glob\")\n",
    "Pkg.add(\"CSV\")\n",
    "Pkg.add(\"DataFrames\")\n",
    "Pkg.add(\"Distributions\")\n",
    "Pkg.add(\"ProgressMeter\")\n",
    "Pkg.add(\"PyPlot\")\n",
    "Pkg.add(\"Random\")\n",
    "Pkg.add(\"StatsPlots\")\n",
    "Pkg.add(\"SpecialFunctions\")\n",
    "Pkg.add(\"ReverseDiff\")\n",
    "Pkg.add(\"BSON\")\n",
    "Pkg.add(\"TransformVariables\")\n",
    "Pkg.add(\"TransformedLogDensities\")\n",
    "Pkg.add(\"LogDensityProblems\")\n",
    "Pkg.add(\"LogDensityProblemsAD\")\n",
    "Pkg.add(\"DynamicHMC\")\n",
    "Pkg.add(\"Parameters\")\n",
    "Pkg.add(\"TVSD\")\n",
    "using Flux\n",
    "using Statistics\n",
    "using LinearAlgebra\n",
    "using Compat\n",
    "using Glob\n",
    "using TSVD\n",
    "using NCDatasets\n",
    "using CSV\n",
    "using DataFrames\n",
    "using Distributions: Categorical, Dirichlet, Gamma, Beta\n",
    "using ProgressMeter\n",
    "using PyPlot\n",
    "using Random\n",
    "using SpecialFunctions: loggamma\n",
    "using ReverseDiff\n",
    "using BSON: @load"
   ]
  },
  {
   "cell_type": "code",
   "execution_count": 2,
   "id": "7dbeac8c",
   "metadata": {},
   "outputs": [],
   "source": [
    "obs_file =\"../data/observed_speeds/greenland_vel_mosaic250_v1_g9000m.nc\"\n",
    "d_obs = NCDataset(obs_file)\n",
    "v_obs = d_obs[\"velsurf_mag\"][:]\n",
    "v_obs = nomissing(v_obs, 0.0);\n",
    "idx = findall(v_obs .> 0)\n",
    "Obs = v_obs[idx];\n",
    "\n",
    "n_grid_points = size(idx)[1];"
   ]
  },
  {
   "cell_type": "code",
   "execution_count": 19,
   "id": "d5373fe5",
   "metadata": {},
   "outputs": [
    {
     "name": "stderr",
     "output_type": "stream",
     "text": [
      "\u001b[32mProgress: 100%|█████████████████████████████████████████| Time: 0:00:03\u001b[39m\n"
     ]
    }
   ],
   "source": [
    "training_files = sort(glob(\"../tests/training_data/*.nc\"))\n",
    "\n",
    "nf = length(training_files)\n",
    "d = NCDataset(training_files[1], \"r\")\n",
    "v = d[\"velsurf_mag\"]\n",
    "nx, ny, nt = size(v)\n",
    "\n",
    "Data = zeros(n_grid_points, nf * nt)\n",
    "ids = zeros(Int64, nf)\n",
    "@showprogress for (k, training_file) in enumerate(training_files)\n",
    "    m_id = match(r\"id_(.+?)_\", training_file)\n",
    "    ids[k] = parse(Int, m_id[1])\n",
    "    d = NCDataset(training_file, \"r\")\n",
    "    v = d[\"velsurf_mag\"][:]\n",
    "    v = nomissing(v, 0.0)\n",
    "    Data[:, k] = v[idx]\n",
    "end"
   ]
  },
  {
   "cell_type": "markdown",
   "id": "031e1c0a",
   "metadata": {},
   "source": [
    "## Read training samples"
   ]
  },
  {
   "cell_type": "code",
   "execution_count": 20,
   "id": "fee568a2",
   "metadata": {},
   "outputs": [],
   "source": [
    "X_df = DataFrame(CSV.File(\"../data/samples/velocity_calibration_samples_50.csv\"))\n",
    "X_df = X_df[ [x in ids for x in X_df[!, :id]] ,:]\n",
    "X = transpose(Matrix(X_df[!, 2:9]))\n",
    "X_mean = mean(X, dims=2);\n",
    "X_std = std(X, dims=2);\n",
    "X_scaled = (X .- X_mean) ./ X_std;\n",
    "X_train = X_scaled;\n",
    "n_parameters, n_samples = size(X);"
   ]
  },
  {
   "cell_type": "markdown",
   "id": "c8dd2995",
   "metadata": {},
   "source": [
    "## Load the model\n",
    "\n",
    "Should be a commmand line argument\n",
    "\n",
    "That we have to define the struct again is not ok. How can we avoid this?"
   ]
  },
  {
   "cell_type": "code",
   "execution_count": 25,
   "id": "fbbb0caf",
   "metadata": {},
   "outputs": [],
   "source": [
    "struct NNModel\n",
    "    chain::Chain\n",
    "    V_hat::AbstractArray\n",
    "    F_mean::AbstractArray\n",
    "end\n",
    "\n",
    "function (m::NNModel)(x, add_mean=false)\n",
    "    if add_mean\n",
    "        return V_hat * m.chain(x) .+ F_mean\n",
    "    else\n",
    "        return V_hat * m.chain(x)\n",
    "    end\n",
    "\n",
    "end"
   ]
  },
  {
   "cell_type": "code",
   "execution_count": 26,
   "id": "1cdbeb54",
   "metadata": {},
   "outputs": [],
   "source": [
    "@load \"emulator_1.bson\" model"
   ]
  },
  {
   "cell_type": "code",
   "execution_count": 35,
   "id": "e9e6da35",
   "metadata": {},
   "outputs": [],
   "source": [
    "function get_eigenglaciers(omegas, F, q)\n",
    "    \n",
    "    F_mean = sum(F .* omegas, dims=2);\n",
    "    F_bar = F .- F_mean;\n",
    "\n",
    "    Z = diagm(sqrt.(omegas[1, :] * n_grid_points))\n",
    "    U, S, V = tsvd(Z * transpose(F_bar), q);\n",
    "    lamda = S.^2 / n_grid_points\n",
    "    V_hat = V * diagm(sqrt.(lamda));\n",
    "    \n",
    "    return V_hat, F_bar, F_mean\n",
    "end;"
   ]
  },
  {
   "cell_type": "code",
   "execution_count": 45,
   "id": "1faf9480",
   "metadata": {},
   "outputs": [],
   "source": [
    "q = 50\n",
    "F = log10.(Data)\n",
    "F = replace!(F, -Inf=>0)\n",
    "\n",
    "dirichlet_dist = Dirichlet(n_samples, 1)\n",
    "\n",
    "model_index = 1\n",
    "omegas = transpose(rand(dirichlet_dist, 1))\n",
    "omegas_0 = omegas ./ size(omegas)[1];\n",
    "    \n",
    "V_hat, F_bar, F_mean = get_eigenglaciers(omegas, F, q);"
   ]
  },
  {
   "cell_type": "code",
   "execution_count": 46,
   "id": "6f2f73b9",
   "metadata": {},
   "outputs": [],
   "source": [
    "alpha_b = 3;\n",
    "beta_b = 3;\n",
    "beta_dist = Beta(alpha_b, beta_b);\n",
    "X_prior = rand(beta_dist, n_parameters, 100000);\n",
    "X_0 = mean(X_prior, dims=2);"
   ]
  },
  {
   "cell_type": "code",
   "execution_count": 47,
   "id": "5ce47f56",
   "metadata": {},
   "outputs": [],
   "source": [
    "Y_target = log10.(Obs);\n",
    "Y_target = replace!(Y_target, -Inf=>0);"
   ]
  },
  {
   "cell_type": "code",
   "execution_count": 48,
   "id": "e25250d1",
   "metadata": {},
   "outputs": [],
   "source": [
    "grid_resolution = ones(n_grid_points) .* 9000\n",
    "sigma = 10\n",
    "rho = 1.0 / (1e4 .^ 2)\n",
    "point_area = (grid_resolution) .^ 2\n",
    "K = point_area .* rho\n",
    "sigma_hat = sqrt.(sigma .^ 2 ./ K .^ 2)\n",
    "\n",
    "X_min = minimum(X_scaled, dims=2);\n",
    "X_max = maximum(X_scaled, dims=2);"
   ]
  },
  {
   "cell_type": "code",
   "execution_count": 49,
   "id": "75e7c2da",
   "metadata": {},
   "outputs": [],
   "source": [
    "using TransformVariables, TransformedLogDensities, LogDensityProblems, LogDensityProblemsAD,\n",
    "    DynamicHMC, DynamicHMC.Diagnostics, Parameters, Statistics, Random"
   ]
  },
  {
   "cell_type": "code",
   "execution_count": 191,
   "id": "84099085",
   "metadata": {},
   "outputs": [],
   "source": [
    "struct SampleBayesProblem\n",
    "    nn\n",
    "    X_min::AbstractArray\n",
    "    X_max::AbstractArray\n",
    "    Y_target::AbstractArray\n",
    "    sigma_hat::AbstractArray\n",
    "    nu::Int\n",
    "    alpha::Float16\n",
    "end"
   ]
  },
  {
   "cell_type": "code",
   "execution_count": 236,
   "id": "3474f039",
   "metadata": {},
   "outputs": [],
   "source": [
    "function (problem::SampleBayesProblem)(θ)\n",
    "    @unpack α = θ               # extract the parameters\n",
    "    @unpack nn, X_min, X_max, Y_target, sigma_hat, nu, alpha = problem       # extract the data\n",
    "    \n",
    "    Y_pred = 10 .^ nn(α, true)\n",
    "    r = Y_pred .- Y_target\n",
    "    t = r ./ sigma_hat\n",
    "\n",
    "    # StudentT distribution\n",
    "    loglikelihood = sum(\n",
    "        loggamma((nu + 1) / 2)\n",
    "        - loggamma(nu / 2)\n",
    "        .- log.(sqrt.(pi * nu) .* sigma_hat)\n",
    "        .- (nu + 1) / 2.0 * log.(1 .+ 1.0 / nu .* t .^ 2)\n",
    "    )\n",
    "    # Beta prior\n",
    "    X_bar = (α .- X_min) ./ (X_max - X_min)\n",
    "    logprior = sum(\n",
    "        (alpha_b - 1) * log.(X_bar) + (beta_b - 1) * log.(1 .- X_bar) \n",
    "        .+ loggamma(alpha_b + beta_b) \n",
    "        .- loggamma(alpha_b)\n",
    "        .- loggamma(beta_b)\n",
    "    )\n",
    "    (alpha * loglikelihood + logprior)\n",
    "end"
   ]
  },
  {
   "cell_type": "code",
   "execution_count": 237,
   "id": "2e71af45",
   "metadata": {},
   "outputs": [
    {
     "data": {
      "text/plain": [
       "-1370.248332616955"
      ]
     },
     "execution_count": 237,
     "metadata": {},
     "output_type": "execute_result"
    }
   ],
   "source": [
    "nu = 1\n",
    "alpha = 0.01\n",
    "logp = SampleBayesProblem(model, X_min, X_max, Y_target, sigma_hat, nu, alpha)\n",
    "logp((α = X_0,)) # make sure that it works"
   ]
  },
  {
   "cell_type": "code",
   "execution_count": 242,
   "id": "ab2952a8",
   "metadata": {},
   "outputs": [
    {
     "data": {
      "text/plain": [
       "Zygote AD wrapper for TransformedLogDensity of dimension 8"
      ]
     },
     "execution_count": 242,
     "metadata": {},
     "output_type": "execute_result"
    }
   ],
   "source": [
    "trans = as((α = as(Array, as𝕀, n_parameters),))\n",
    "P = TransformedLogDensity(trans, logp)\n",
    "∇P = ADgradient(:Zygote, P)"
   ]
  },
  {
   "cell_type": "code",
   "execution_count": 244,
   "id": "2099d664",
   "metadata": {
    "scrolled": false
   },
   "outputs": [
    {
     "name": "stderr",
     "output_type": "stream",
     "text": [
      "\u001b[36m\u001b[1m┌ \u001b[22m\u001b[39m\u001b[36m\u001b[1mInfo: \u001b[22m\u001b[39mfound initial stepsize\n",
      "\u001b[36m\u001b[1m└ \u001b[22m\u001b[39m  ϵ = 0.502\n",
      "\u001b[36m\u001b[1m┌ \u001b[22m\u001b[39m\u001b[36m\u001b[1mInfo: \u001b[22m\u001b[39mStarting MCMC\n",
      "\u001b[36m\u001b[1m│ \u001b[22m\u001b[39m  total_steps = 75\n",
      "\u001b[36m\u001b[1m└ \u001b[22m\u001b[39m  tuning = \"stepsize\"\n",
      "\u001b[36m\u001b[1m┌ \u001b[22m\u001b[39m\u001b[36m\u001b[1mInfo: \u001b[22m\u001b[39mMCMC progress\n",
      "\u001b[36m\u001b[1m│ \u001b[22m\u001b[39m  step = 1\n",
      "\u001b[36m\u001b[1m│ \u001b[22m\u001b[39m  seconds_per_step = 0.027\n",
      "\u001b[36m\u001b[1m│ \u001b[22m\u001b[39m  estimated_seconds_left = 2.0\n",
      "\u001b[36m\u001b[1m└ \u001b[22m\u001b[39m  ϵ = 0.502\n"
     ]
    },
    {
     "ename": "LoadError",
     "evalue": "InterruptException:",
     "output_type": "error",
     "traceback": [
      "InterruptException:",
      "",
      "Stacktrace:",
      "  [1] Array",
      "    @ ./boot.jl:461 [inlined]",
      "  [2] Array",
      "    @ ./boot.jl:469 [inlined]",
      "  [3] Array",
      "    @ ./boot.jl:476 [inlined]",
      "  [4] similar",
      "    @ ./abstractarray.jl:841 [inlined]",
      "  [5] similar",
      "    @ ./abstractarray.jl:840 [inlined]",
      "  [6] similar",
      "    @ ./broadcast.jl:212 [inlined]",
      "  [7] similar",
      "    @ ./broadcast.jl:211 [inlined]",
      "  [8] copy",
      "    @ ./broadcast.jl:885 [inlined]",
      "  [9] materialize(bc::Base.Broadcast.Broadcasted{Base.Broadcast.DefaultArrayStyle{2}, Nothing, Zygote.var\"#937#942\"{Zygote.Context{false}, typeof(^)}, Tuple{Int64, Matrix{Float64}}})",
      "    @ Base.Broadcast ./broadcast.jl:860",
      " [10] _broadcast(::Zygote.var\"#937#942\"{Zygote.Context{false}, typeof(^)}, ::Int64, ::Vararg{Any})",
      "    @ Zygote ~/.julia/packages/Zygote/g2w9o/src/lib/broadcast.jl:177",
      " [11] adjoint",
      "    @ ~/.julia/packages/Zygote/g2w9o/src/lib/broadcast.jl:202 [inlined]",
      " [12] _pullback",
      "    @ ~/.julia/packages/ZygoteRules/AIbCs/src/adjoint.jl:65 [inlined]",
      " [13] _apply",
      "    @ ./boot.jl:816 [inlined]",
      " [14] adjoint",
      "    @ ~/.julia/packages/Zygote/g2w9o/src/lib/lib.jl:203 [inlined]",
      " [15] _pullback",
      "    @ ~/.julia/packages/ZygoteRules/AIbCs/src/adjoint.jl:65 [inlined]",
      " [16] _pullback",
      "    @ ./broadcast.jl:1304 [inlined]",
      " [17] _pullback(::Zygote.Context{false}, ::typeof(Base.Broadcast.broadcasted), ::typeof(^), ::Int64, ::Matrix{Float64})",
      "    @ Zygote ~/.julia/packages/Zygote/g2w9o/src/compiler/interface2.jl:0",
      " [18] _pullback",
      "    @ ./In[236]:5 [inlined]",
      " [19] _pullback(ctx::Zygote.Context{false}, f::SampleBayesProblem, args::NamedTuple{(:α,), Tuple{Vector{Float64}}})",
      "    @ Zygote ~/.julia/packages/Zygote/g2w9o/src/compiler/interface2.jl:0",
      " [20] _pullback",
      "    @ ~/.julia/packages/TransformVariables/fpJuU/src/generic.jl:217 [inlined]",
      " [21] _pullback(::Zygote.Context{false}, ::typeof(transform_logdensity), ::TransformVariables.TransformTuple{NamedTuple{(:α,), Tuple{TransformVariables.ArrayTransform{TransformVariables.ScaledShiftedLogistic{Int64}, 1}}}}, ::SampleBayesProblem, ::Vector{Float64})",
      "    @ Zygote ~/.julia/packages/Zygote/g2w9o/src/compiler/interface2.jl:0",
      " [22] _pullback",
      "    @ ~/.julia/packages/TransformedLogDensities/c6B0x/src/TransformedLogDensities.jl:56 [inlined]",
      " [23] _pullback(::Zygote.Context{false}, ::typeof(LogDensityProblems.logdensity), ::TransformedLogDensity{TransformVariables.TransformTuple{NamedTuple{(:α,), Tuple{TransformVariables.ArrayTransform{TransformVariables.ScaledShiftedLogistic{Int64}, 1}}}}, SampleBayesProblem}, ::Vector{Float64})",
      "    @ Zygote ~/.julia/packages/Zygote/g2w9o/src/compiler/interface2.jl:0",
      " [24] _pullback",
      "    @ ~/.julia/packages/Zygote/g2w9o/src/lib/base.jl:225 [inlined]",
      " [25] _pullback(ctx::Zygote.Context{false}, f::Zygote.var\"#fallback_Fix1#338\"{TransformedLogDensity{TransformVariables.TransformTuple{NamedTuple{(:α,), Tuple{TransformVariables.ArrayTransform{TransformVariables.ScaledShiftedLogistic{Int64}, 1}}}}, SampleBayesProblem}, typeof(LogDensityProblems.logdensity)}, args::Vector{Float64})",
      "    @ Zygote ~/.julia/packages/Zygote/g2w9o/src/compiler/interface2.jl:0",
      " [26] adjoint",
      "    @ ~/.julia/packages/Zygote/g2w9o/src/lib/base.jl:226 [inlined]",
      " [27] _pullback",
      "    @ ~/.julia/packages/ZygoteRules/AIbCs/src/adjoint.jl:65 [inlined]",
      " [28] pullback",
      "    @ ~/.julia/packages/Zygote/g2w9o/src/compiler/interface.jl:44 [inlined]",
      " [29] pullback",
      "    @ ~/.julia/packages/Zygote/g2w9o/src/compiler/interface.jl:42 [inlined]",
      " [30] logdensity_and_gradient(∇ℓ::LogDensityProblemsAD.ZygoteGradientLogDensity{TransformedLogDensity{TransformVariables.TransformTuple{NamedTuple{(:α,), Tuple{TransformVariables.ArrayTransform{TransformVariables.ScaledShiftedLogistic{Int64}, 1}}}}, SampleBayesProblem}}, x::Vector{Float64})",
      "    @ LogDensityProblemsAD ~/.julia/packages/LogDensityProblemsAD/aJ61o/src/AD_Zygote.jl:19",
      " [31] evaluate_ℓ(ℓ::LogDensityProblemsAD.ZygoteGradientLogDensity{TransformedLogDensity{TransformVariables.TransformTuple{NamedTuple{(:α,), Tuple{TransformVariables.ArrayTransform{TransformVariables.ScaledShiftedLogistic{Int64}, 1}}}}, SampleBayesProblem}}, q::Vector{Float64}; strict::Bool)",
      "    @ DynamicHMC ~/.julia/packages/DynamicHMC/Sg1nE/src/hamiltonian.jl:204",
      " [32] evaluate_ℓ",
      "    @ ~/.julia/packages/DynamicHMC/Sg1nE/src/hamiltonian.jl:202 [inlined]",
      " [33] leapfrog(H::DynamicHMC.Hamiltonian{GaussianKineticEnergy{Diagonal{Float64, FillArrays.Fill{Float64, 1, Tuple{Base.OneTo{Int64}}}}, Diagonal{Float64, Vector{Float64}}}, LogDensityProblemsAD.ZygoteGradientLogDensity{TransformedLogDensity{TransformVariables.TransformTuple{NamedTuple{(:α,), Tuple{TransformVariables.ArrayTransform{TransformVariables.ScaledShiftedLogistic{Int64}, 1}}}}, SampleBayesProblem}}}, z::DynamicHMC.PhasePoint{DynamicHMC.EvaluatedLogDensity{Vector{Float64}, Float64}, Vector{Float64}}, ϵ::Float64)",
      "    @ DynamicHMC ~/.julia/packages/DynamicHMC/Sg1nE/src/hamiltonian.jl:279",
      " [34] move",
      "    @ ~/.julia/packages/DynamicHMC/Sg1nE/src/NUTS.jl:30 [inlined]",
      " [35] adjacent_tree(rng::TaskLocalRNG, trajectory::DynamicHMC.TrajectoryNUTS{DynamicHMC.Hamiltonian{GaussianKineticEnergy{Diagonal{Float64, FillArrays.Fill{Float64, 1, Tuple{Base.OneTo{Int64}}}}, Diagonal{Float64, Vector{Float64}}}, LogDensityProblemsAD.ZygoteGradientLogDensity{TransformedLogDensity{TransformVariables.TransformTuple{NamedTuple{(:α,), Tuple{TransformVariables.ArrayTransform{TransformVariables.ScaledShiftedLogistic{Int64}, 1}}}}, SampleBayesProblem}}}, Float64, Val{:generalized}}, z::DynamicHMC.PhasePoint{DynamicHMC.EvaluatedLogDensity{Vector{Float64}, Float64}, Vector{Float64}}, i::Int64, depth::Int64, is_forward::Bool)",
      "    @ DynamicHMC ~/.julia/packages/DynamicHMC/Sg1nE/src/trees.jl:234",
      " [36] adjacent_tree(rng::TaskLocalRNG, trajectory::DynamicHMC.TrajectoryNUTS{DynamicHMC.Hamiltonian{GaussianKineticEnergy{Diagonal{Float64, FillArrays.Fill{Float64, 1, Tuple{Base.OneTo{Int64}}}}, Diagonal{Float64, Vector{Float64}}}, LogDensityProblemsAD.ZygoteGradientLogDensity{TransformedLogDensity{TransformVariables.TransformTuple{NamedTuple{(:α,), Tuple{TransformVariables.ArrayTransform{TransformVariables.ScaledShiftedLogistic{Int64}, 1}}}}, SampleBayesProblem}}}, Float64, Val{:generalized}}, z::DynamicHMC.PhasePoint{DynamicHMC.EvaluatedLogDensity{Vector{Float64}, Float64}, Vector{Float64}}, i::Int64, depth::Int64, is_forward::Bool) (repeats 2 times)",
      "    @ DynamicHMC ~/.julia/packages/DynamicHMC/Sg1nE/src/trees.jl:248",
      " [37] adjacent_tree(rng::TaskLocalRNG, trajectory::DynamicHMC.TrajectoryNUTS{DynamicHMC.Hamiltonian{GaussianKineticEnergy{Diagonal{Float64, FillArrays.Fill{Float64, 1, Tuple{Base.OneTo{Int64}}}}, Diagonal{Float64, Vector{Float64}}}, LogDensityProblemsAD.ZygoteGradientLogDensity{TransformedLogDensity{TransformVariables.TransformTuple{NamedTuple{(:α,), Tuple{TransformVariables.ArrayTransform{TransformVariables.ScaledShiftedLogistic{Int64}, 1}}}}, SampleBayesProblem}}}, Float64, Val{:generalized}}, z::DynamicHMC.PhasePoint{DynamicHMC.EvaluatedLogDensity{Vector{Float64}, Float64}, Vector{Float64}}, i::Int64, depth::Int64, is_forward::Bool)",
      "    @ DynamicHMC ~/.julia/packages/DynamicHMC/Sg1nE/src/trees.jl:243",
      "--- the last 2 lines are repeated 1 more time ---",
      "--- the last 2 lines are repeated 1 more time ---",
      " [42] sample_trajectory(rng::TaskLocalRNG, trajectory::DynamicHMC.TrajectoryNUTS{DynamicHMC.Hamiltonian{GaussianKineticEnergy{Diagonal{Float64, FillArrays.Fill{Float64, 1, Tuple{Base.OneTo{Int64}}}}, Diagonal{Float64, Vector{Float64}}}, LogDensityProblemsAD.ZygoteGradientLogDensity{TransformedLogDensity{TransformVariables.TransformTuple{NamedTuple{(:α,), Tuple{TransformVariables.ArrayTransform{TransformVariables.ScaledShiftedLogistic{Int64}, 1}}}}, SampleBayesProblem}}}, Float64, Val{:generalized}}, z::DynamicHMC.PhasePoint{DynamicHMC.EvaluatedLogDensity{Vector{Float64}, Float64}, Vector{Float64}}, max_depth::Int64, directions::DynamicHMC.Directions)",
      "    @ DynamicHMC ~/.julia/packages/DynamicHMC/Sg1nE/src/trees.jl:292",
      " [43] sample_tree(rng::TaskLocalRNG, algorithm::DynamicHMC.NUTS{Val{:generalized}}, H::DynamicHMC.Hamiltonian{GaussianKineticEnergy{Diagonal{Float64, FillArrays.Fill{Float64, 1, Tuple{Base.OneTo{Int64}}}}, Diagonal{Float64, Vector{Float64}}}, LogDensityProblemsAD.ZygoteGradientLogDensity{TransformedLogDensity{TransformVariables.TransformTuple{NamedTuple{(:α,), Tuple{TransformVariables.ArrayTransform{TransformVariables.ScaledShiftedLogistic{Int64}, 1}}}}, SampleBayesProblem}}}, Q::DynamicHMC.EvaluatedLogDensity{Vector{Float64}, Float64}, ϵ::Float64; p::Vector{Float64}, directions::DynamicHMC.Directions)",
      "    @ DynamicHMC ~/.julia/packages/DynamicHMC/Sg1nE/src/NUTS.jl:237",
      " [44] sample_tree(rng::TaskLocalRNG, algorithm::DynamicHMC.NUTS{Val{:generalized}}, H::DynamicHMC.Hamiltonian{GaussianKineticEnergy{Diagonal{Float64, FillArrays.Fill{Float64, 1, Tuple{Base.OneTo{Int64}}}}, Diagonal{Float64, Vector{Float64}}}, LogDensityProblemsAD.ZygoteGradientLogDensity{TransformedLogDensity{TransformVariables.TransformTuple{NamedTuple{(:α,), Tuple{TransformVariables.ArrayTransform{TransformVariables.ScaledShiftedLogistic{Int64}, 1}}}}, SampleBayesProblem}}}, Q::DynamicHMC.EvaluatedLogDensity{Vector{Float64}, Float64}, ϵ::Float64)",
      "    @ DynamicHMC ~/.julia/packages/DynamicHMC/Sg1nE/src/NUTS.jl:232",
      " [45] warmup(sampling_logdensity::DynamicHMC.SamplingLogDensity{TaskLocalRNG, LogDensityProblemsAD.ZygoteGradientLogDensity{TransformedLogDensity{TransformVariables.TransformTuple{NamedTuple{(:α,), Tuple{TransformVariables.ArrayTransform{TransformVariables.ScaledShiftedLogistic{Int64}, 1}}}}, SampleBayesProblem}}, DynamicHMC.NUTS{Val{:generalized}}, LogProgressReport{Nothing}}, tuning::TuningNUTS{Nothing, DualAveraging{Float64}}, warmup_state::DynamicHMC.WarmupState{DynamicHMC.EvaluatedLogDensity{Vector{Float64}, Float64}, GaussianKineticEnergy{Diagonal{Float64, FillArrays.Fill{Float64, 1, Tuple{Base.OneTo{Int64}}}}, Diagonal{Float64, Vector{Float64}}}, Float64})",
      "    @ DynamicHMC ~/.julia/packages/DynamicHMC/Sg1nE/src/mcmc.jl:248",
      " [46] (::DynamicHMC.var\"#32#33\"{DynamicHMC.SamplingLogDensity{TaskLocalRNG, LogDensityProblemsAD.ZygoteGradientLogDensity{TransformedLogDensity{TransformVariables.TransformTuple{NamedTuple{(:α,), Tuple{TransformVariables.ArrayTransform{TransformVariables.ScaledShiftedLogistic{Int64}, 1}}}}, SampleBayesProblem}}, DynamicHMC.NUTS{Val{:generalized}}, LogProgressReport{Nothing}}})(acc::Tuple{Tuple{NamedTuple{(:stage, :results, :warmup_state), Tuple{InitialStepsizeSearch, Nothing, DynamicHMC.WarmupState{DynamicHMC.EvaluatedLogDensity{Vector{Float64}, Float64}, GaussianKineticEnergy{Diagonal{Float64, FillArrays.Fill{Float64, 1, Tuple{Base.OneTo{Int64}}}}, Diagonal{Float64, Vector{Float64}}}, Float64}}}}, DynamicHMC.WarmupState{DynamicHMC.EvaluatedLogDensity{Vector{Float64}, Float64}, GaussianKineticEnergy{Diagonal{Float64, FillArrays.Fill{Float64, 1, Tuple{Base.OneTo{Int64}}}}, Diagonal{Float64, Vector{Float64}}}, Float64}}, stage::TuningNUTS{Nothing, DualAveraging{Float64}})",
      "    @ DynamicHMC ~/.julia/packages/DynamicHMC/Sg1nE/src/mcmc.jl:422",
      " [47] BottomRF",
      "    @ ./reduce.jl:81 [inlined]",
      " [48] afoldl(::Base.BottomRF{DynamicHMC.var\"#32#33\"{DynamicHMC.SamplingLogDensity{TaskLocalRNG, LogDensityProblemsAD.ZygoteGradientLogDensity{TransformedLogDensity{TransformVariables.TransformTuple{NamedTuple{(:α,), Tuple{TransformVariables.ArrayTransform{TransformVariables.ScaledShiftedLogistic{Int64}, 1}}}}, SampleBayesProblem}}, DynamicHMC.NUTS{Val{:generalized}}, LogProgressReport{Nothing}}}}, ::Tuple{Tuple{}, DynamicHMC.WarmupState{DynamicHMC.EvaluatedLogDensity{Vector{Float64}, Float64}, GaussianKineticEnergy{Diagonal{Float64, FillArrays.Fill{Float64, 1, Tuple{Base.OneTo{Int64}}}}, Diagonal{Float64, Vector{Float64}}}, Nothing}}, ::InitialStepsizeSearch, ::TuningNUTS{Nothing, DualAveraging{Float64}}, ::TuningNUTS{Diagonal, DualAveraging{Float64}}, ::TuningNUTS{Diagonal, DualAveraging{Float64}}, ::TuningNUTS{Diagonal, DualAveraging{Float64}}, ::TuningNUTS{Diagonal, DualAveraging{Float64}}, ::TuningNUTS{Diagonal, DualAveraging{Float64}}, ::TuningNUTS{Nothing, DualAveraging{Float64}})",
      "    @ Base ./operators.jl:549",
      " [49] _foldl_impl",
      "    @ ./tuple.jl:277 [inlined]",
      " [50] foldl_impl",
      "    @ ./reduce.jl:48 [inlined]",
      " [51] mapfoldl_impl",
      "    @ ./reduce.jl:44 [inlined]",
      " [52] #mapfoldl#259",
      "    @ ./reduce.jl:170 [inlined]",
      " [53] #foldl#260",
      "    @ ./reduce.jl:193 [inlined]",
      " [54] _warmup(sampling_logdensity::DynamicHMC.SamplingLogDensity{TaskLocalRNG, LogDensityProblemsAD.ZygoteGradientLogDensity{TransformedLogDensity{TransformVariables.TransformTuple{NamedTuple{(:α,), Tuple{TransformVariables.ArrayTransform{TransformVariables.ScaledShiftedLogistic{Int64}, 1}}}}, SampleBayesProblem}}, DynamicHMC.NUTS{Val{:generalized}}, LogProgressReport{Nothing}}, stages::Tuple{InitialStepsizeSearch, TuningNUTS{Nothing, DualAveraging{Float64}}, TuningNUTS{Diagonal, DualAveraging{Float64}}, TuningNUTS{Diagonal, DualAveraging{Float64}}, TuningNUTS{Diagonal, DualAveraging{Float64}}, TuningNUTS{Diagonal, DualAveraging{Float64}}, TuningNUTS{Diagonal, DualAveraging{Float64}}, TuningNUTS{Nothing, DualAveraging{Float64}}}, initial_warmup_state::DynamicHMC.WarmupState{DynamicHMC.EvaluatedLogDensity{Vector{Float64}, Float64}, GaussianKineticEnergy{Diagonal{Float64, FillArrays.Fill{Float64, 1, Tuple{Base.OneTo{Int64}}}}, Diagonal{Float64, Vector{Float64}}}, Nothing})",
      "    @ DynamicHMC ~/.julia/packages/DynamicHMC/Sg1nE/src/mcmc.jl:420",
      " [55] mcmc_keep_warmup(rng::TaskLocalRNG, ℓ::LogDensityProblemsAD.ZygoteGradientLogDensity{TransformedLogDensity{TransformVariables.TransformTuple{NamedTuple{(:α,), Tuple{TransformVariables.ArrayTransform{TransformVariables.ScaledShiftedLogistic{Int64}, 1}}}}, SampleBayesProblem}}, N::Int64; initialization::NamedTuple{(:q,), Tuple{Vector{Float64}}}, warmup_stages::Tuple{InitialStepsizeSearch, TuningNUTS{Nothing, DualAveraging{Float64}}, TuningNUTS{Diagonal, DualAveraging{Float64}}, TuningNUTS{Diagonal, DualAveraging{Float64}}, TuningNUTS{Diagonal, DualAveraging{Float64}}, TuningNUTS{Diagonal, DualAveraging{Float64}}, TuningNUTS{Diagonal, DualAveraging{Float64}}, TuningNUTS{Nothing, DualAveraging{Float64}}}, algorithm::DynamicHMC.NUTS{Val{:generalized}}, reporter::LogProgressReport{Nothing})",
      "    @ DynamicHMC ~/.julia/packages/DynamicHMC/Sg1nE/src/mcmc.jl:497",
      " [56] macro expansion",
      "    @ ~/.julia/packages/UnPack/EkESO/src/UnPack.jl:100 [inlined]"
     ]
    }
   ],
   "source": [
    "results = mcmc_with_warmup(Random.default_rng(), ∇P, 2; \n",
    "    initialization = (q = vec(X_0), ))"
   ]
  },
  {
   "cell_type": "code",
   "execution_count": 14,
   "id": "1b80318a",
   "metadata": {},
   "outputs": [
    {
     "ename": "LoadError",
     "evalue": "UndefVarError: results not defined",
     "output_type": "error",
     "traceback": [
      "UndefVarError: results not defined",
      "",
      "Stacktrace:",
      " [1] top-level scope",
      "   @ In[14]:1"
     ]
    }
   ],
   "source": [
    "summarize_tree_statistics(results.tree_statistics)"
   ]
  },
  {
   "cell_type": "code",
   "execution_count": 16,
   "id": "0685010a",
   "metadata": {},
   "outputs": [
    {
     "ename": "LoadError",
     "evalue": "UndefVarError: results not defined",
     "output_type": "error",
     "traceback": [
      "UndefVarError: results not defined",
      "",
      "Stacktrace:",
      " [1] top-level scope",
      "   @ In[16]:1"
     ]
    }
   ],
   "source": [
    "posterior = transform.(trans, eachcol(results.posterior_matrix))\n",
    "posterior_α = first.(posterior)\n",
    "mean(posterior_α)"
   ]
  },
  {
   "cell_type": "code",
   "execution_count": 246,
   "id": "6d6fdd14",
   "metadata": {},
   "outputs": [
    {
     "name": "stderr",
     "output_type": "stream",
     "text": [
      "\u001b[33m\u001b[1m┌ \u001b[22m\u001b[39m\u001b[33m\u001b[1mWarning: \u001b[22m\u001b[39m5 (33.3%) updates to the inverse Hessian estimate were rejected to keep it positive definite.\n",
      "\u001b[33m\u001b[1m└ \u001b[22m\u001b[39m\u001b[90m@ Pathfinder ~/.julia/packages/Pathfinder/ZV8MJ/src/singlepath.jl:216\u001b[39m\n"
     ]
    },
    {
     "data": {
      "text/plain": [
       "Single-path Pathfinder result\n",
       "  tries: 1\n",
       "  draws: 5\n",
       "  fit iteration: 3 (total: 14)\n",
       "  fit ELBO: -1371.45 ± 0.51\n",
       "  fit distribution: MvNormal{Float64, Pathfinder.WoodburyPDMat{Float64, Diagonal{Float64, Vector{Float64}}, Matrix{Float64}, Matrix{Float64}, Pathfinder.WoodburyPDFactorization{Float64, Diagonal{Float64, Vector{Float64}}, LinearAlgebra.QRCompactWYQ{Float64, Matrix{Float64}, Matrix{Float64}}, UpperTriangular{Float64, Matrix{Float64}}}}, Vector{Float64}}(\n",
       "dim: 8\n",
       "μ: [-1.0813196977168364, 0.37126320473869334, -1.1849660359519867, 0.617318696822632, -0.2605616707657209, 0.8880730024998509, 0.26528739046198485, -1.605444709739312]\n",
       "Σ: [1.3516982683983274 -0.44533806713299645 … -0.3050134611113764 0.1370283712889094; -0.44533806713299645 0.9040749637270831 … 0.216734523049508 -0.09492744687601606; … ; -0.3050134611113764 0.216734523049508 … 0.5718372866231103 -0.07182006806986431; 0.1370283712889094 -0.09492744687601606 … -0.07182006806986431 0.33530408954617047]\n",
       ")\n"
      ]
     },
     "execution_count": 246,
     "metadata": {},
     "output_type": "execute_result"
    }
   ],
   "source": [
    "logp_p(x) = LogDensityProblems.logdensity(P, x)\n",
    "∇logp_p(x) = LogDensityProblems.logdensity_and_gradient(∇P, x)[2]\n",
    "result_pf = pathfinder(logp_p, ∇logp_p; dim=8)"
   ]
  },
  {
   "cell_type": "code",
   "execution_count": null,
   "id": "a269cbf8",
   "metadata": {},
   "outputs": [],
   "source": [
    "init_params = result_pf.draws[:, 1]\n",
    "result_dhmc1 = mcmc_with_warmup(\n",
    "    Random.GLOBAL_RNG,\n",
    "    ∇P,\n",
    "    10;\n",
    "    initialization=(; q=init_params),\n",
    "    reporter=NoProgressReport(),\n",
    ")"
   ]
  },
  {
   "cell_type": "code",
   "execution_count": 118,
   "id": "26c8cf61",
   "metadata": {},
   "outputs": [
    {
     "name": "stderr",
     "output_type": "stream",
     "text": [
      "\u001b[32m\u001b[1m   Resolving\u001b[22m\u001b[39m package versions...\n",
      "\u001b[32m\u001b[1m    Updating\u001b[22m\u001b[39m `~/.julia/environments/v1.8/Project.toml`\n",
      " \u001b[90m [429524aa] \u001b[39m\u001b[92m+ Optim v1.7.4\u001b[39m\n",
      "\u001b[32m\u001b[1m  No Changes\u001b[22m\u001b[39m to `~/.julia/environments/v1.8/Manifest.toml`\n"
     ]
    }
   ],
   "source": [
    "Pkg.add(\"Optim\")\n",
    "using Optim"
   ]
  },
  {
   "cell_type": "code",
   "execution_count": 163,
   "id": "372b96a7",
   "metadata": {},
   "outputs": [
    {
     "name": "stderr",
     "output_type": "stream",
     "text": [
      "\u001b[32m\u001b[1m   Resolving\u001b[22m\u001b[39m package versions...\n",
      "\u001b[32m\u001b[1m    Updating\u001b[22m\u001b[39m `~/.julia/environments/v1.8/Project.toml`\n",
      " \u001b[90m [2913bbd2] \u001b[39m\u001b[92m+ StatsBase v0.33.21\u001b[39m\n",
      "\u001b[32m\u001b[1m  No Changes\u001b[22m\u001b[39m to `~/.julia/environments/v1.8/Manifest.toml`\n"
     ]
    }
   ],
   "source": [
    "Pkg.add(\"StatsBase\")\n",
    "using StatsBase"
   ]
  },
  {
   "cell_type": "code",
   "execution_count": 149,
   "id": "93930176",
   "metadata": {},
   "outputs": [
    {
     "name": "stdout",
     "output_type": "stream",
     "text": [
      "search: \u001b[0m\u001b[1mH\u001b[22m\u001b[0m\u001b[1mM\u001b[22m\u001b[0m\u001b[1mC\u001b[22m \u001b[0m\u001b[1mH\u001b[22m\u001b[0m\u001b[1mM\u001b[22m\u001b[0m\u001b[1mC\u001b[22mDA SG\u001b[0m\u001b[1mH\u001b[22m\u001b[0m\u001b[1mM\u001b[22m\u001b[0m\u001b[1mC\u001b[22m Dynamic\u001b[0m\u001b[1mH\u001b[22m\u001b[0m\u001b[1mM\u001b[22m\u001b[0m\u001b[1mC\u001b[22m eac\u001b[0m\u001b[1mh\u001b[22m\u001b[0m\u001b[1mm\u001b[22mat\u001b[0m\u001b[1mc\u001b[22mh \u001b[0m\u001b[1mH\u001b[22mypergeo\u001b[0m\u001b[1mm\u001b[22metri\u001b[0m\u001b[1mc\u001b[22m\n",
      "\n"
     ]
    },
    {
     "data": {
      "text/latex": [
       "\\begin{verbatim}\n",
       "HMC(ϵ::Float64, n_leapfrog::Int)\n",
       "\\end{verbatim}\n",
       "Hamiltonian Monte Carlo sampler with static trajectory.\n",
       "\n",
       "Arguments:\n",
       "\n",
       "\\begin{itemize}\n",
       "\\item \\texttt{ϵ::Float64} : The leapfrog step size to use.\n",
       "\n",
       "\n",
       "\\item \\texttt{n\\_leapfrog::Int} : The number of leapfrog steps to use.\n",
       "\n",
       "\\end{itemize}\n",
       "Usage:\n",
       "\n",
       "\\begin{verbatim}\n",
       "HMC(0.05, 10)\n",
       "\\end{verbatim}\n",
       "Tips:\n",
       "\n",
       "\\begin{itemize}\n",
       "\\item If you are receiving gradient errors when using \\texttt{HMC}, try reducing the leapfrog step size \\texttt{ϵ}, e.g.\n",
       "\n",
       "\\end{itemize}\n",
       "\\begin{verbatim}\n",
       "# Original step size\n",
       "sample(gdemo([1.5, 2]), HMC(0.1, 10), 1000)\n",
       "\n",
       "# Reduced step size\n",
       "sample(gdemo([1.5, 2]), HMC(0.01, 10), 1000)\n",
       "\\end{verbatim}\n"
      ],
      "text/markdown": [
       "```\n",
       "HMC(ϵ::Float64, n_leapfrog::Int)\n",
       "```\n",
       "\n",
       "Hamiltonian Monte Carlo sampler with static trajectory.\n",
       "\n",
       "Arguments:\n",
       "\n",
       "  * `ϵ::Float64` : The leapfrog step size to use.\n",
       "  * `n_leapfrog::Int` : The number of leapfrog steps to use.\n",
       "\n",
       "Usage:\n",
       "\n",
       "```julia\n",
       "HMC(0.05, 10)\n",
       "```\n",
       "\n",
       "Tips:\n",
       "\n",
       "  * If you are receiving gradient errors when using `HMC`, try reducing the leapfrog step size `ϵ`, e.g.\n",
       "\n",
       "```julia\n",
       "# Original step size\n",
       "sample(gdemo([1.5, 2]), HMC(0.1, 10), 1000)\n",
       "\n",
       "# Reduced step size\n",
       "sample(gdemo([1.5, 2]), HMC(0.01, 10), 1000)\n",
       "```\n"
      ],
      "text/plain": [
       "\u001b[36m  HMC(ϵ::Float64, n_leapfrog::Int)\u001b[39m\n",
       "\n",
       "  Hamiltonian Monte Carlo sampler with static trajectory.\n",
       "\n",
       "  Arguments:\n",
       "\n",
       "    •  \u001b[36mϵ::Float64\u001b[39m : The leapfrog step size to use.\n",
       "\n",
       "    •  \u001b[36mn_leapfrog::Int\u001b[39m : The number of leapfrog steps to use.\n",
       "\n",
       "  Usage:\n",
       "\n",
       "\u001b[36m  HMC(0.05, 10)\u001b[39m\n",
       "\n",
       "  Tips:\n",
       "\n",
       "    •  If you are receiving gradient errors when using \u001b[36mHMC\u001b[39m, try reducing\n",
       "       the leapfrog step size \u001b[36mϵ\u001b[39m, e.g.\n",
       "\n",
       "\u001b[36m  # Original step size\u001b[39m\n",
       "\u001b[36m  sample(gdemo([1.5, 2]), HMC(0.1, 10), 1000)\u001b[39m\n",
       "\u001b[36m  \u001b[39m\n",
       "\u001b[36m  # Reduced step size\u001b[39m\n",
       "\u001b[36m  sample(gdemo([1.5, 2]), HMC(0.01, 10), 1000)\u001b[39m"
      ]
     },
     "execution_count": 149,
     "metadata": {},
     "output_type": "execute_result"
    }
   ],
   "source": [
    "?HMC"
   ]
  },
  {
   "cell_type": "code",
   "execution_count": 124,
   "id": "5ba41a99",
   "metadata": {},
   "outputs": [
    {
     "data": {
      "text/plain": [
       "1000-element Vector{Float64}:\n",
       "   1.963095806225691\n",
       " -11.191839136683544\n",
       "  -0.5405180190802729\n",
       "   0.6754577528075394\n",
       "   1.223256402817003\n",
       "   0.06478276005202036\n",
       "   0.4067019823503065\n",
       "  -2.9572871790650477\n",
       "   2.0459740837569935\n",
       "   0.9584262297970466\n",
       "   0.5348255362067189\n",
       "   3.6399824310350817\n",
       "  -3.302387517366774\n",
       "   ⋮\n",
       "   2.945932632535606\n",
       "  -0.5223813025118502\n",
       "  -0.38266098471397475\n",
       "  24.001574437840446\n",
       "  -0.42581545950653066\n",
       "  -2.076358294464149\n",
       "   1.3742437673227927\n",
       "  -0.9366917561343404\n",
       "  -0.5768313165031164\n",
       "  -0.0058989115121783845\n",
       "  -0.2484742324077987\n",
       "   2.6743543860772565"
      ]
     },
     "execution_count": 124,
     "metadata": {},
     "output_type": "execute_result"
    }
   ],
   "source": [
    "tdist = TDist(nu)\n",
    "rand(tdist, 1000)"
   ]
  },
  {
   "cell_type": "code",
   "execution_count": 218,
   "id": "c645210f",
   "metadata": {},
   "outputs": [
    {
     "data": {
      "text/plain": [
       "8×1 Matrix{Float64}:\n",
       " 0.6484512218503838\n",
       " 0.647865052318695\n",
       " 0.6269898233495614\n",
       " 0.6481996742741711\n",
       " 0.650645159308533\n",
       " 0.6353300690661433\n",
       " 0.6486107349450604\n",
       " 0.6381724595183763"
      ]
     },
     "execution_count": 218,
     "metadata": {},
     "output_type": "execute_result"
    }
   ],
   "source": []
  },
  {
   "cell_type": "code",
   "execution_count": 217,
   "id": "bb081029",
   "metadata": {},
   "outputs": [
    {
     "name": "stdout",
     "output_type": "stream",
     "text": [
      "search: \u001b[0m\u001b[1mm\u001b[22m\u001b[0m\u001b[1mi\u001b[22m\u001b[0m\u001b[1mn\u001b[22m \u001b[0m\u001b[1mm\u001b[22m\u001b[0m\u001b[1mi\u001b[22m\u001b[0m\u001b[1mn\u001b[22mmax \u001b[0m\u001b[1mm\u001b[22m\u001b[0m\u001b[1mi\u001b[22m\u001b[0m\u001b[1mn\u001b[22mimum \u001b[0m\u001b[1mm\u001b[22m\u001b[0m\u001b[1mi\u001b[22m\u001b[0m\u001b[1mn\u001b[22mimum! \u001b[0m\u001b[1mm\u001b[22m\u001b[0m\u001b[1mi\u001b[22m\u001b[0m\u001b[1mn\u001b[22morticks_on \u001b[0m\u001b[1mm\u001b[22m\u001b[0m\u001b[1mi\u001b[22m\u001b[0m\u001b[1mn\u001b[22morticks_off F\u001b[0m\u001b[1mm\u001b[22m\u001b[0m\u001b[1mi\u001b[22m\u001b[0m\u001b[1mn\u001b[22mbox X_\u001b[0m\u001b[1mm\u001b[22m\u001b[0m\u001b[1mi\u001b[22m\u001b[0m\u001b[1mn\u001b[22m\n",
      "\n"
     ]
    },
    {
     "data": {
      "text/latex": [
       "\\begin{verbatim}\n",
       "min(x, y, ...)\n",
       "\\end{verbatim}\n",
       "Return the minimum of the arguments (with respect to \\href{@ref}{\\texttt{isless}}). See also the \\href{@ref}{\\texttt{minimum}} function to take the minimum element from a collection.\n",
       "\n",
       "\\section{Examples}\n",
       "\\begin{verbatim}\n",
       "julia> min(2, 5, 1)\n",
       "1\n",
       "\\end{verbatim}\n"
      ],
      "text/markdown": [
       "```\n",
       "min(x, y, ...)\n",
       "```\n",
       "\n",
       "Return the minimum of the arguments (with respect to [`isless`](@ref)). See also the [`minimum`](@ref) function to take the minimum element from a collection.\n",
       "\n",
       "# Examples\n",
       "\n",
       "```jldoctest\n",
       "julia> min(2, 5, 1)\n",
       "1\n",
       "```\n"
      ],
      "text/plain": [
       "\u001b[36m  min(x, y, ...)\u001b[39m\n",
       "\n",
       "  Return the minimum of the arguments (with respect to \u001b[36misless\u001b[39m). See also the\n",
       "  \u001b[36mminimum\u001b[39m function to take the minimum element from a collection.\n",
       "\n",
       "\u001b[1m  Examples\u001b[22m\n",
       "\u001b[1m  ≡≡≡≡≡≡≡≡≡≡\u001b[22m\n",
       "\n",
       "\u001b[36m  julia> min(2, 5, 1)\u001b[39m\n",
       "\u001b[36m  1\u001b[39m"
      ]
     },
     "execution_count": 217,
     "metadata": {},
     "output_type": "execute_result"
    }
   ],
   "source": [
    "?min"
   ]
  },
  {
   "cell_type": "code",
   "execution_count": null,
   "id": "29182947",
   "metadata": {},
   "outputs": [],
   "source": []
  }
 ],
 "metadata": {
  "kernelspec": {
   "display_name": "Julia 1.8.4",
   "language": "julia",
   "name": "julia-1.8"
  },
  "language_info": {
   "file_extension": ".jl",
   "mimetype": "application/julia",
   "name": "julia",
   "version": "1.8.4"
  }
 },
 "nbformat": 4,
 "nbformat_minor": 5
}
