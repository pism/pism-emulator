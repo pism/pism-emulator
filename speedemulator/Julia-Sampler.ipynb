{
 "cells": [
  {
   "cell_type": "code",
   "execution_count": null,
   "id": "95516590",
   "metadata": {},
   "outputs": [],
   "source": [
    "import Pkg\n",
    "Pkg.add(\"Turing\")\n",
    "Pkg.add(\"Flux\")\n",
    "Pkg.add(\"NCDatasets\")\n",
    "Pkg.add(\"TSVD\")\n",
    "Pkg.add(\"Statistics\")\n",
    "Pkg.add(\"Compat\")\n",
    "Pkg.add(\"LinearAlgebra\")\n",
    "Pkg.add(\"Glob\")\n",
    "Pkg.add(\"CSV\")\n",
    "Pkg.add(\"DataFrames\")\n",
    "Pkg.add(\"Distributions\")\n",
    "Pkg.add(\"ProgressMeter\")\n",
    "Pkg.add(\"PyPlot\")\n",
    "Pkg.add(\"Random\")\n",
    "Pkg.add(\"StatsPlots\")\n",
    "Pkg.add(\"SpecialFunctions\")\n",
    "Pkg.add(\"ReverseDiff\")\n",
    "Pkg.add(\"BSON\")\n",
    "Pkg.add(\"TransformVariables\")\n",
    "Pkg.add(\"TransformedLogDensities\")\n",
    "Pkg.add(\"LogDensityProblems\")\n",
    "Pkg.add(\"LogDensityProblemsAD\")\n",
    "Pkg.add(\"DynamicHMC\")\n",
    "Pkg.add(\"Parameters\")\n",
    "Pkg.add(\"TSVD\")\n",
    "Pkg.add(\"Glob\")"
   ]
  },
  {
   "cell_type": "code",
   "execution_count": null,
   "id": "d319996c",
   "metadata": {},
   "outputs": [],
   "source": [
    "using Flux\n",
    "using Statistics\n",
    "using LinearAlgebra\n",
    "using Compat\n",
    "using Glob\n",
    "using TSVD\n",
    "using NCDatasets\n",
    "using CSV\n",
    "using DataFrames\n",
    "using Distributions: Categorical, Dirichlet, Gamma, Beta\n",
    "using ProgressMeter\n",
    "using PyPlot\n",
    "using Random\n",
    "using SpecialFunctions: loggamma\n",
    "using ReverseDiff\n",
    "using BSON: @load"
   ]
  },
  {
   "cell_type": "code",
   "execution_count": null,
   "id": "7dbeac8c",
   "metadata": {},
   "outputs": [],
   "source": [
    "obs_file =\"../data/observed_speeds/greenland_vel_mosaic250_v1_g9000m.nc\"\n",
    "d_obs = NCDataset(obs_file)\n",
    "v_obs = d_obs[\"velsurf_mag\"][:]\n",
    "v_obs = nomissing(v_obs, 0.0);\n",
    "idx = findall(v_obs .> 0)\n",
    "Obs = v_obs[idx];\n",
    "\n",
    "n_grid_points = size(idx)[1];"
   ]
  },
  {
   "cell_type": "code",
   "execution_count": null,
   "id": "d5373fe5",
   "metadata": {},
   "outputs": [],
   "source": [
    "training_files = sort(glob(\"../tests/training_data/*.nc\"))\n",
    "\n",
    "nf = length(training_files)\n",
    "d = NCDataset(training_files[1], \"r\")\n",
    "v = d[\"velsurf_mag\"]\n",
    "nx, ny, nt = size(v)\n",
    "\n",
    "Data = zeros(n_grid_points, nf * nt)\n",
    "ids = zeros(Int64, nf)\n",
    "@showprogress for (k, training_file) in enumerate(training_files)\n",
    "    m_id = match(r\"id_(.+?)_\", training_file)\n",
    "    ids[k] = parse(Int, m_id[1])\n",
    "    d = NCDataset(training_file, \"r\")\n",
    "    v = d[\"velsurf_mag\"][:]\n",
    "    v = nomissing(v, 0.0)\n",
    "    Data[:, k] = v[idx]\n",
    "end"
   ]
  },
  {
   "cell_type": "markdown",
   "id": "031e1c0a",
   "metadata": {},
   "source": [
    "## Read training samples"
   ]
  },
  {
   "cell_type": "code",
   "execution_count": null,
   "id": "fee568a2",
   "metadata": {},
   "outputs": [],
   "source": [
    "X_df = DataFrame(CSV.File(\"../data/samples/velocity_calibration_samples_50.csv\"))\n",
    "X_df = X_df[ [x in ids for x in X_df[!, :id]] ,:]\n",
    "X = transpose(Matrix(X_df[!, 2:9]))\n",
    "X_mean = mean(X, dims=2);\n",
    "X_std = std(X, dims=2);\n",
    "X_scaled = (X .- X_mean) ./ X_std;\n",
    "X_train = X_scaled;\n",
    "n_parameters, n_samples = size(X);"
   ]
  },
  {
   "cell_type": "markdown",
   "id": "c8dd2995",
   "metadata": {},
   "source": [
    "## Load the model\n",
    "\n",
    "Should be a commmand line argument\n",
    "\n",
    "That we have to define the struct again is not ok. How can we avoid this?"
   ]
  },
  {
   "cell_type": "code",
   "execution_count": null,
   "id": "fbbb0caf",
   "metadata": {},
   "outputs": [],
   "source": [
    "struct NNModel\n",
    "    chain::Chain\n",
    "    V_hat::AbstractArray\n",
    "    F_mean::AbstractArray\n",
    "end\n",
    "\n",
    "function (m::NNModel)(x, add_mean=false)\n",
    "    if add_mean\n",
    "        return V_hat * m.chain(x) .+ F_mean\n",
    "    else\n",
    "        return V_hat * m.chain(x)\n",
    "    end\n",
    "\n",
    "end"
   ]
  },
  {
   "cell_type": "code",
   "execution_count": null,
   "id": "1cdbeb54",
   "metadata": {},
   "outputs": [],
   "source": [
    "@load \"emulator_1.bson\" model\n",
    "# model = Flux.loadmodel!(model, @load(\"mymodel.bson\"))"
   ]
  },
  {
   "cell_type": "code",
   "execution_count": null,
   "id": "e9e6da35",
   "metadata": {},
   "outputs": [],
   "source": [
    "function get_eigenglaciers(omegas, F, q)\n",
    "    \n",
    "    F_mean = sum(F .* omegas, dims=2);\n",
    "    F_bar = F .- F_mean;\n",
    "\n",
    "    Z = diagm(sqrt.(omegas[1, :] * n_grid_points))\n",
    "    U, S, V = tsvd(Z * transpose(F_bar), q);\n",
    "    lamda = S.^2 / n_grid_points\n",
    "    V_hat = V * diagm(sqrt.(lamda));\n",
    "    \n",
    "    return V_hat, F_bar, F_mean\n",
    "end;"
   ]
  },
  {
   "cell_type": "code",
   "execution_count": null,
   "id": "1faf9480",
   "metadata": {},
   "outputs": [],
   "source": [
    "q = 50\n",
    "F = log10.(Data)\n",
    "F = replace!(F, -Inf=>0)\n",
    "\n",
    "dirichlet_dist = Dirichlet(n_samples, 1)\n",
    "\n",
    "model_index = 1\n",
    "Random.seed!(model_index)\n",
    "omegas = transpose(rand(dirichlet_dist, 1))\n",
    "omegas_0 = omegas ./ size(omegas)[1];\n",
    "    \n",
    "V_hat, F_bar, F_mean = get_eigenglaciers(omegas, F, q);"
   ]
  },
  {
   "cell_type": "code",
   "execution_count": null,
   "id": "6f2f73b9",
   "metadata": {},
   "outputs": [],
   "source": [
    "alpha_b = 3;\n",
    "beta_b = 3;\n",
    "beta_dist = Beta(alpha_b, beta_b);\n",
    "X_prior = rand(beta_dist, n_parameters, 100000);\n",
    "X_0 = mean(X_prior, dims=2);"
   ]
  },
  {
   "cell_type": "code",
   "execution_count": null,
   "id": "5ce47f56",
   "metadata": {},
   "outputs": [],
   "source": [
    "Y_target = log10.(Obs);\n",
    "Y_target = replace!(Y_target, -Inf=>0);"
   ]
  },
  {
   "cell_type": "code",
   "execution_count": null,
   "id": "e25250d1",
   "metadata": {},
   "outputs": [],
   "source": [
    "grid_resolution = ones(n_grid_points) .* 9000\n",
    "sigma = 10\n",
    "rho = 1.0 / (1e4 .^ 2)\n",
    "point_area = (grid_resolution) .^ 2\n",
    "K = point_area .* rho\n",
    "sigma_hat = sqrt.(sigma .^ 2 ./ K .^ 2)\n",
    "\n",
    "X_min = minimum(X_scaled, dims=2);\n",
    "X_max = maximum(X_scaled, dims=2);"
   ]
  },
  {
   "cell_type": "code",
   "execution_count": null,
   "id": "75e7c2da",
   "metadata": {},
   "outputs": [],
   "source": [
    "using TransformVariables, TransformedLogDensities, LogDensityProblems, LogDensityProblemsAD,\n",
    "    DynamicHMC, DynamicHMC.Diagnostics, Parameters, Statistics, Random"
   ]
  },
  {
   "cell_type": "code",
   "execution_count": null,
   "id": "84099085",
   "metadata": {},
   "outputs": [],
   "source": [
    "struct SampleBayesProblem\n",
    "    nn\n",
    "    X_min::AbstractArray\n",
    "    X_max::AbstractArray\n",
    "    Y_target::AbstractArray\n",
    "    sigma_hat::AbstractArray\n",
    "    nu::Int\n",
    "    alpha::Float16\n",
    "end"
   ]
  },
  {
   "cell_type": "code",
   "execution_count": null,
   "id": "3474f039",
   "metadata": {},
   "outputs": [],
   "source": [
    "function (problem::SampleBayesProblem)(θ)\n",
    "    @unpack α = θ               # extract the parameters\n",
    "    @unpack nn, X_min, X_max, Y_target, sigma_hat, nu, alpha = problem       # extract the data\n",
    "    \n",
    "    Y_pred = 10 .^ nn(α, true)\n",
    "    r = Y_pred .- Y_target\n",
    "    t = r ./ sigma_hat\n",
    "\n",
    "    # StudentT distribution\n",
    "    loglikelihood = sum(\n",
    "        loggamma((nu + 1) / 2)\n",
    "        - loggamma(nu / 2)\n",
    "        .- log.(sqrt.(pi * nu) .* sigma_hat)\n",
    "        .- (nu + 1) / 2.0 * log.(1 .+ 1.0 / nu .* t .^ 2)\n",
    "    )\n",
    "    # Beta prior\n",
    "    X_bar = relu((α .- X_min) ./ (X_max - X_min))\n",
    "    logprior = sum(\n",
    "        (alpha_b - 1) * log.(X_bar) + (beta_b - 1) * log.(1 .- X_bar) \n",
    "        .+ loggamma(alpha_b + beta_b) \n",
    "        .- loggamma(alpha_b)\n",
    "        .- loggamma(beta_b)\n",
    "    )\n",
    "    return (alpha * loglikelihood + logprior)\n",
    "end"
   ]
  },
  {
   "cell_type": "code",
   "execution_count": null,
   "id": "2e71af45",
   "metadata": {},
   "outputs": [],
   "source": [
    "nu = 1\n",
    "alpha = 0.01\n"
   ]
  },
  {
   "cell_type": "code",
   "execution_count": null,
   "id": "d18e4458",
   "metadata": {},
   "outputs": [],
   "source": [
    "logp = SampleBayesProblem(model, X_min, X_max, Y_target, sigma_hat, nu, alpha)\n",
    "logp((α = X_0,)) # make sure that it works"
   ]
  },
  {
   "cell_type": "code",
   "execution_count": null,
   "id": "ab2952a8",
   "metadata": {},
   "outputs": [],
   "source": [
    "trans = as((α = as(Array, as𝕀, n_parameters),))\n",
    "P = TransformedLogDensity(trans, logp)\n",
    "∇P = ADgradient(:Zygote, P)"
   ]
  },
  {
   "cell_type": "code",
   "execution_count": null,
   "id": "2322c6cb",
   "metadata": {},
   "outputs": [],
   "source": [
    "using LineSearches\n",
    "using Optim\n"
   ]
  },
  {
   "cell_type": "code",
   "execution_count": null,
   "id": "76172a7e",
   "metadata": {},
   "outputs": [],
   "source": [
    "function log_prior(X_bar, alpha_b, beta_b)\n",
    "    sum(\n",
    "        (alpha_b - 1) * log.(X_bar) + (beta_b - 1) * log.(1 .- X_bar)\n",
    "        .+ loggamma(alpha_b + beta_b) \n",
    "        .- loggamma(alpha_b)\n",
    "        .- loggamma(beta_b)\n",
    "    )\n",
    "end\n",
    "\n",
    "function logp_g(α, nn, X_min, X_max, Y_target, sigma_hat, nu, alpha)\n",
    "    \n",
    "    Y_pred = 10 .^ nn(α, true)\n",
    "    r = Y_pred .- Y_target\n",
    "    t = r ./ sigma_hat\n",
    "\n",
    "    # StudentT distribution\n",
    "    loglikelihood = sum(\n",
    "        loggamma((nu + 1) / 2)\n",
    "        - loggamma(nu / 2)\n",
    "        .- log.(sqrt.(pi * nu) .* sigma_hat)\n",
    "        .- (nu + 1) / 2.0 * log.(1 .+ 1.0 / nu .* t .^ 2)\n",
    "    )\n",
    "    # Beta prior\n",
    "    X_bar = (α .- X_min) ./ (X_max - X_min)\n",
    "    insupport(X) = sum(X_bar .< 0) == 0\n",
    "    println(insupport(X))\n",
    "    logprior = insupport(X) ?  log_prior(X_bar, alpha_b, beta_b) : -Inf\n",
    "    \n",
    "    (alpha * loglikelihood + logprior)\n",
    "\n",
    "end\n",
    "\n",
    "\n",
    "ll(X_0) = logp_g(X_0, model, X_min, X_max, Y_target, sigma_hat, nu, alpha)\n",
    "res = optimize(ll, X_0, LBFGS(linesearch = LineSearches.MoreThuente(), ), Optim.Options(show_trace=true, iterations = 51))\n",
    "X_map = Optim.minimizer(res)"
   ]
  },
  {
   "cell_type": "code",
   "execution_count": null,
   "id": "6f93c491",
   "metadata": {},
   "outputs": [],
   "source": [
    "X_map .* X_std .+ X_mean"
   ]
  },
  {
   "cell_type": "code",
   "execution_count": null,
   "id": "2099d664",
   "metadata": {},
   "outputs": [],
   "source": [
    "results = mcmc_with_warmup(Random.default_rng(), ∇P, 2; \n",
    "    initialization = (q = vec(X_map), ))"
   ]
  },
  {
   "cell_type": "code",
   "execution_count": null,
   "id": "1b80318a",
   "metadata": {},
   "outputs": [],
   "source": [
    "summarize_tree_statistics(results.tree_statistics)"
   ]
  },
  {
   "cell_type": "code",
   "execution_count": null,
   "id": "0685010a",
   "metadata": {},
   "outputs": [],
   "source": [
    "posterior = transform.(trans, eachcol(results.posterior_matrix))\n",
    "posterior_α = first.(posterior)\n",
    "mean(posterior_α)"
   ]
  },
  {
   "cell_type": "code",
   "execution_count": null,
   "id": "6d6fdd14",
   "metadata": {},
   "outputs": [],
   "source": [
    "logp_p(x) = LogDensityProblems.logdensity(P, x)\n",
    "∇logp_p(x) = LogDensityProblems.logdensity_and_gradient(∇P, x)[2]\n",
    "result_pf = pathfinder(logp_p, ∇logp_p; dim=8)"
   ]
  },
  {
   "cell_type": "code",
   "execution_count": null,
   "id": "a269cbf8",
   "metadata": {},
   "outputs": [],
   "source": [
    "init_params = result_pf.draws[:, 1]\n",
    "result_dhmc1 = mcmc_with_warmup(\n",
    "    Random.GLOBAL_RNG,\n",
    "    ∇P,\n",
    "    1;\n",
    "    initialization=(; q=init_params),\n",
    "    reporter=NoProgressReport(),\n",
    ")"
   ]
  },
  {
   "cell_type": "code",
   "execution_count": null,
   "id": "26c8cf61",
   "metadata": {},
   "outputs": [],
   "source": [
    "Pkg.add(\"Optim\")\n",
    "using Optim"
   ]
  },
  {
   "cell_type": "code",
   "execution_count": null,
   "id": "372b96a7",
   "metadata": {},
   "outputs": [],
   "source": [
    "Pkg.add(\"StatsBase\")\n",
    "using StatsBase"
   ]
  },
  {
   "cell_type": "code",
   "execution_count": null,
   "id": "93930176",
   "metadata": {},
   "outputs": [],
   "source": [
    "Pkg.add(\"Pathfinder\")\n",
    "using Pathfinder"
   ]
  },
  {
   "cell_type": "code",
   "execution_count": null,
   "id": "bb081029",
   "metadata": {},
   "outputs": [],
   "source": [
    "Pkg.add(\"AdvancedMH\")\n",
    "Pkg.add(\"MCMCChains\")\n",
    "using AdvancedMH\n",
    "using MCMCChains"
   ]
  },
  {
   "cell_type": "code",
   "execution_count": null,
   "id": "29182947",
   "metadata": {},
   "outputs": [],
   "source": [
    "Pkg.add(\"StructArrays\")\n",
    "using LogDensityProblemsAD\n",
    "using LogDensityProblems\n",
    "using AdvancedMH\n",
    "using Distributions\n",
    "using MCMCChains\n",
    "using ForwardDiff\n",
    "using StructArrays\n",
    "\n"
   ]
  },
  {
   "cell_type": "code",
   "execution_count": null,
   "id": "e6005f57",
   "metadata": {},
   "outputs": [],
   "source": [
    "sample(∇P, logp, 100000; init_params=ones(2), chain_type=StructArray, param_names=[\"μ\", \"σ\"])"
   ]
  },
  {
   "cell_type": "code",
   "execution_count": null,
   "id": "142f44b5",
   "metadata": {},
   "outputs": [],
   "source": [
    "a =log(Complex(-3))"
   ]
  },
  {
   "cell_type": "code",
   "execution_count": null,
   "id": "986f7a6a",
   "metadata": {},
   "outputs": [],
   "source": [
    "real(a)"
   ]
  },
  {
   "cell_type": "code",
   "execution_count": null,
   "id": "bf6d6b6c",
   "metadata": {},
   "outputs": [],
   "source": [
    "?real"
   ]
  },
  {
   "cell_type": "code",
   "execution_count": null,
   "id": "04d2cd4f",
   "metadata": {},
   "outputs": [],
   "source": [
    "using LinearAlgebra\n",
    "using Distributions\n",
    "Pkg.add(\"Arpack\")\n",
    "using Arpack"
   ]
  },
  {
   "cell_type": "code",
   "execution_count": null,
   "id": "6c4ad123",
   "metadata": {},
   "outputs": [],
   "source": [
    "\n",
    "\n",
    "function mala(logdensity,gradient,h,M,niter,θinit)       \n",
    "        function gradientStep(θ,t)                                                                                                                                                                                 \n",
    "                θ-t*M*gradient(θ)                                                                                                                                                                                  \n",
    "        end        \n",
    "        print(θinit)\n",
    "        θtrace = zeros(length(θinit),niter)\n",
    "        #θtrace=Array{Float64}(length(θinit),niter)    \n",
    "        θ=θinit\n",
    "        θtrace[:,1]=θinit                                                                                                                                                                                          \n",
    "        for i=2:niter                                                                                                                                                                                              \n",
    "                θold=θ                                                                                                                                                                                             \n",
    "                θ=rand(MvNormal(gradientStep(θ,0.5*h),h*M))                                                                                                                                                        \n",
    "                d=logdensity(θ) - logdensity(θold) + logpdf(MvNormal(gradientStep(θ,0.5*h),h*M),θold) - logpdf(MvNormal(gradientStep(θold,0.5*h),h*M),θ)                                                           \n",
    "                if(!(log(rand(Uniform(0,1)))<d))                                                                                                                                                                   \n",
    "                        θ=θold                                                                                                                                                                                     \n",
    "                end                                                                                                                                                                                                \n",
    "                θtrace[:,i]=θ                                                                                                                                                                                      \n",
    "        end                                                                                                                                                                                                        \n",
    "        θtrace                                                                                                                                                                                                     \n",
    "end  "
   ]
  },
  {
   "cell_type": "code",
   "execution_count": null,
   "id": "884c3f30",
   "metadata": {},
   "outputs": [],
   "source": [
    "ρ²=0.8                                                                                                                                                                                                             \n",
    "Σ=[1 ρ²;ρ² 1]                                                                                                                                                                                                      \n",
    "                                                                                                                                                                                                                   \n",
    "function logdensity(θ)                                                                                                                                                                                             \n",
    "        logpdf(MvNormal(Σ),θ)                                                                                                                                                                                      \n",
    "end                                                                                                                                                                                                                \n",
    "                                                                                                                                                                                                                   \n",
    "function gradient(θ)                                                                                                                                                                                               \n",
    "        Σ\\θ                                                                                                                                                                                                        \n",
    "end  \n",
    " \n",
    "\n",
    "function Hinv\n",
    "    \n",
    "end\n",
    "\n",
    "\n",
    "gradient((α= X_0),)\n",
    "niter=1000                                                                                                                                                                                                         \n",
    "h=1/eigs(inv(Σ),nev=1)[1][1]                                                                                                                                                                                       \n",
    "#draws=mala(logp,gradient,h,I,niter,[5,50]);   #No preconditioning                                                                                                                                                                                                                                                                                                    \n",
    "pdraws=mala(logp,gradient,h,Σ,niter, X_0);       #With Preconditioning                                                                                                                                                    "
   ]
  },
  {
   "cell_type": "code",
   "execution_count": null,
   "id": "b1c81c56",
   "metadata": {},
   "outputs": [],
   "source": [
    "mean(pdraws, dims=2)"
   ]
  },
  {
   "cell_type": "code",
   "execution_count": null,
   "id": "413d4da3",
   "metadata": {},
   "outputs": [],
   "source": [
    "logp_gg(X_0) = logp_g(X_0, model, X_min, X_max, Y_target, sigma_hat, nu, alpha)"
   ]
  },
  {
   "cell_type": "code",
   "execution_count": null,
   "id": "9f865a08",
   "metadata": {},
   "outputs": [],
   "source": [
    "Zygote.gradient(logp_gg, X_0)"
   ]
  },
  {
   "cell_type": "code",
   "execution_count": null,
   "id": "5710594c",
   "metadata": {},
   "outputs": [],
   "source": [
    "g = Flux.gradient(logp_gg, X_0)\n",
    "g[1]"
   ]
  },
  {
   "cell_type": "code",
   "execution_count": null,
   "id": "81b886cd",
   "metadata": {},
   "outputs": [],
   "source": [
    "?gradient"
   ]
  },
  {
   "cell_type": "code",
   "execution_count": null,
   "id": "a4e59577",
   "metadata": {},
   "outputs": [],
   "source": [
    "Pkg.add(\"Zygote\")"
   ]
  },
  {
   "cell_type": "code",
   "execution_count": null,
   "id": "2be1d106",
   "metadata": {},
   "outputs": [],
   "source": [
    "using Zygote"
   ]
  },
  {
   "cell_type": "code",
   "execution_count": null,
   "id": "ff018f60",
   "metadata": {},
   "outputs": [],
   "source": [
    "function logpi(α, nn, X_min, X_max, Y_target, sigma_hat, nu, alpha)\n",
    "    \n",
    "    Y_pred = 10 .^ nn(α, true)\n",
    "    r = Y_pred .- Y_target\n",
    "    t = r ./ sigma_hat\n",
    "\n",
    "    # StudentT distribution\n",
    "    loglikelihood = sum(\n",
    "        loggamma((nu + 1) / 2)\n",
    "        - loggamma(nu / 2)\n",
    "        .- log.(sqrt.(pi * nu) .* sigma_hat)\n",
    "        .- (nu + 1) / 2.0 * log.(1 .+ 1.0 / nu .* t .^ 2)\n",
    "    )\n",
    "    # Beta prior\n",
    "    X_bar = (α .- X_min) ./ (X_max - X_min)\n",
    "    logprior = sum(\n",
    "        (alpha_b - 1) * log.(X_bar) + (beta_b - 1) * log.(1 .- X_bar)\n",
    "        .+ loggamma(alpha_b + beta_b) \n",
    "        .- loggamma(alpha_b)\n",
    "        .- loggamma(beta_b)\n",
    "    )\n",
    "\n",
    "    insupport(X) = sum(X_bar .< 0) == 0\n",
    "    insupport(X) ?  (alpha * loglikelihood + logprior) : -Inf\n",
    "\n",
    "end"
   ]
  },
  {
   "cell_type": "code",
   "execution_count": null,
   "id": "b57c2a1b",
   "metadata": {},
   "outputs": [],
   "source": [
    "llogpi(X_0) = logpi(X_0, model, X_min, X_max, Y_target, sigma_hat, nu, alpha)"
   ]
  },
  {
   "cell_type": "code",
   "execution_count": null,
   "id": "022e5d75",
   "metadata": {},
   "outputs": [],
   "source": [
    "function get_log_like_gradient_and_hessian(X;  eps=1e-2, compute_hessian=false)\n",
    "   log_pi =  llogpi(X)\n",
    "    if compute_hessian\n",
    "        g = Zygote.gradient(llogpi, X)\n",
    "        H = Zygote.hessian(llogpi, X)\n",
    "    end\n",
    "end"
   ]
  },
  {
   "cell_type": "code",
   "execution_count": null,
   "id": "965c64f6",
   "metadata": {},
   "outputs": [],
   "source": [
    "get_log_like_gradient_and_hessian(X_0, compute_hessian=true)"
   ]
  },
  {
   "cell_type": "code",
   "execution_count": null,
   "id": "33b84acb",
   "metadata": {},
   "outputs": [],
   "source": [
    "nu = 1\n",
    "alpha = 0.01"
   ]
  },
  {
   "cell_type": "code",
   "execution_count": null,
   "id": "7844470e",
   "metadata": {},
   "outputs": [],
   "source": [
    "Flux.hessian(llogpi, X_0)"
   ]
  },
  {
   "cell_type": "code",
   "execution_count": null,
   "id": "75b636ad",
   "metadata": {},
   "outputs": [],
   "source": [
    "Flux.gradient(llogpi(), X_0)"
   ]
  },
  {
   "cell_type": "code",
   "execution_count": null,
   "id": "9618772a",
   "metadata": {},
   "outputs": [],
   "source": [
    "?Zygote.hessian"
   ]
  },
  {
   "cell_type": "code",
   "execution_count": null,
   "id": "e900a165",
   "metadata": {},
   "outputs": [],
   "source": [
    "f(x, y) = sum((x .- y) .^ 2)"
   ]
  },
  {
   "cell_type": "code",
   "execution_count": null,
   "id": "ee7fe08e",
   "metadata": {},
   "outputs": [],
   "source": [
    "Flux.gradient(f, [2, 1], [2, 0])"
   ]
  },
  {
   "cell_type": "code",
   "execution_count": null,
   "id": "b4d8d2cc",
   "metadata": {},
   "outputs": [],
   "source": [
    "g(x, y, a, b) = sum((a .* x .- b .* y) .^ 2)"
   ]
  },
  {
   "cell_type": "code",
   "execution_count": null,
   "id": "d8740d64",
   "metadata": {},
   "outputs": [],
   "source": [
    "Flux.gradient(g, [2, 1], [2, 0], 1, 1)"
   ]
  },
  {
   "cell_type": "code",
   "execution_count": null,
   "id": "0e737cc4",
   "metadata": {},
   "outputs": [],
   "source": [
    "Zygote.hessian(logpi, X_0, model, X_min, X_max, Y_target, sigma_hat, nu, alpha)[1]"
   ]
  },
  {
   "cell_type": "code",
   "execution_count": null,
   "id": "3f4aca84",
   "metadata": {},
   "outputs": [],
   "source": [
    "function logpi(α, nn, X_min, X_max, Y_target, sigma_hat, nu, alpha)\n",
    "    Y_pred = 10 .^ nn(α, true);\n",
    "    r = Y_pred .- Y_target\n",
    "    t = r ./ sigma_hat\n",
    "\n",
    "    # StudentT distribution\n",
    "    loglikelihood = sum(\n",
    "        loggamma((nu + 1) / 2)\n",
    "        - loggamma(nu / 2)\n",
    "        .- log.(sqrt.(pi * nu) .* sigma_hat)\n",
    "        .- (nu + 1) / 2.0 * log.(1 .+ 1.0 / nu .* t .^ 2)\n",
    "    )\n",
    "    \n",
    "    println(\"Y_pred: \", mean(Y_pred))\n",
    "    \n",
    "    # Beta prior\n",
    "    X_bar = (α .- X_min) ./ (X_max - X_min)\n",
    "    logprior = sum(\n",
    "        (alpha_b - 1) * log.(X_bar) + (beta_b - 1) * log.(1 .- X_bar)\n",
    "        .+ loggamma(alpha_b + beta_b) \n",
    "        .- loggamma(alpha_b)\n",
    "        .- loggamma(beta_b)\n",
    "    )\n",
    "\n",
    "    insupport(X) = sum(X_bar .< 0) == 0\n",
    "    insupport(X) ?  (alpha * loglikelihood + logprior) : -Inf\n",
    "\n",
    "end\n",
    "\n",
    "lp = logpi(X_0, model, X_min, X_max, Y_target, sigma_hat, nu, alpha)\n",
    "println(\"Log_prob: \", lp)\n",
    "Flux.gradient(logpi, X_0, model, X_min, X_max, Y_target, sigma_hat, nu, alpha)[1]\n",
    "Flux.withgradient(logpi, X_0, model, X_min, X_max, Y_target, sigma_hat, nu, alpha)[1]"
   ]
  },
  {
   "cell_type": "code",
   "execution_count": null,
   "id": "7dee4aa0",
   "metadata": {},
   "outputs": [],
   "source": [
    "    Y_pred = 10 .^ model(X_0, true)\n",
    "    r = Y_pred .- Y_target\n",
    "    t = r ./ sigma_hat\n",
    "    mean(t)\n",
    "\n"
   ]
  },
  {
   "cell_type": "code",
   "execution_count": null,
   "id": "679bf1ce",
   "metadata": {},
   "outputs": [],
   "source": [
    "function logpii(α, nn)\n",
    "    Y_pred = 10 .^ nn(α, true)\n",
    "    println(mean(Y_pred))\n",
    "end\n"
   ]
  },
  {
   "cell_type": "code",
   "execution_count": null,
   "id": "3d6b47b4",
   "metadata": {},
   "outputs": [],
   "source": [
    "logpii(X_0, model)"
   ]
  },
  {
   "cell_type": "code",
   "execution_count": null,
   "id": "a00833f8",
   "metadata": {},
   "outputs": [],
   "source": [
    "model"
   ]
  },
  {
   "cell_type": "code",
   "execution_count": null,
   "id": "c5e574af",
   "metadata": {},
   "outputs": [],
   "source": [
    "?Flux.gradient"
   ]
  },
  {
   "cell_type": "code",
   "execution_count": null,
   "id": "1c7de2cf",
   "metadata": {},
   "outputs": [],
   "source": [
    "real(log(Complex(-1)))"
   ]
  },
  {
   "cell_type": "code",
   "execution_count": null,
   "id": "735a1e6a",
   "metadata": {},
   "outputs": [],
   "source": [
    "# Import the package.\n",
    "using AdvancedMH\n",
    "using Distributions\n",
    "using MCMCChains\n",
    "using ForwardDiff\n",
    "using StructArrays\n",
    "\n",
    "using LinearAlgebra\n",
    "\n",
    "μ_true = 2\n",
    "σ_true = 0.5\n",
    "# Generate a set of data from the posterior we want to estimate.\n",
    "data = rand(Normal(μ_true, σ_true), 100)\n",
    "\n",
    "# Define the components of a basic model.\n",
    "insupport(θ) = θ[2] >= 0\n",
    "likelihood(θ) = Normal(θ[1], θ[2])\n",
    "prior(θ) = Uniform(-10, 10)\n",
    "density(θ) = insupport(θ) ? sum(logpdf.(likelihood(θ), data)) + sum(logpdf.(prior(θ), data)) : -Inf\n",
    "\n",
    "# Construct a DensityModel.\n",
    "dmodel = DensityModel(density)\n",
    "\n",
    "# Set up the sampler with a multivariate Gaussian proposal.\n",
    "σ² = 0.01\n",
    "spl = MALA(x -> MvNormal((σ² / 2) .* x, σ² * I))\n",
    "\n",
    "# Sample from the posterior.\n",
    "chain = sample(dmodel, spl, 100000; init_params=ones(2), chain_type=StructArray, param_names=[\"μ\", \"σ\"])"
   ]
  },
  {
   "cell_type": "code",
   "execution_count": null,
   "id": "b8e92728",
   "metadata": {},
   "outputs": [],
   "source": [
    "using LogDensityProblemsAD\n",
    "#model_with_ad = LogDensityProblemsAD.ADgradient(Val(:ForwardDiff), ∇P)\n",
    "sample(logp, spl, 100000; init_params=X_0, chain_type=StructArray)"
   ]
  },
  {
   "cell_type": "code",
   "execution_count": null,
   "id": "32cb47a3",
   "metadata": {},
   "outputs": [],
   "source": [
    "trans = as((α = as(Array, as𝕀, n_parameters),))\n",
    "P = TransformedLogDensity(trans, logp)\n",
    "∇P = ADgradient(:Zygote, P)"
   ]
  },
  {
   "cell_type": "code",
   "execution_count": null,
   "id": "139dc8ed",
   "metadata": {},
   "outputs": [],
   "source": [
    "help logpdf"
   ]
  },
  {
   "cell_type": "code",
   "execution_count": null,
   "id": "33f2924b",
   "metadata": {},
   "outputs": [],
   "source": [
    "chain = psample(model, RWMH(init_params), 100000, 4; param_names=[\"μ\",\"σ\"], chain_type=Chains)"
   ]
  },
  {
   "cell_type": "code",
   "execution_count": null,
   "id": "73ec263e",
   "metadata": {},
   "outputs": [],
   "source": [
    "?logpdf"
   ]
  },
  {
   "cell_type": "code",
   "execution_count": null,
   "id": "75392b9d",
   "metadata": {},
   "outputs": [],
   "source": [
    "using Pkg\n",
    "Pkg.add(\"AbstractMCMC\")\n",
    "using AbstractMCMC"
   ]
  },
  {
   "cell_type": "code",
   "execution_count": null,
   "id": "9fe7f36e",
   "metadata": {},
   "outputs": [],
   "source": [
    "?LogDensityProblemsAD"
   ]
  },
  {
   "cell_type": "code",
   "execution_count": null,
   "id": "3086c155",
   "metadata": {},
   "outputs": [],
   "source": [
    "?LogDensityProblems"
   ]
  },
  {
   "cell_type": "code",
   "execution_count": null,
   "id": "61f173f7",
   "metadata": {},
   "outputs": [],
   "source": [
    "X_bar"
   ]
  },
  {
   "cell_type": "code",
   "execution_count": null,
   "id": "b032f497",
   "metadata": {},
   "outputs": [],
   "source": [
    "a = [2.5, 3, -1, 3]"
   ]
  },
  {
   "cell_type": "code",
   "execution_count": null,
   "id": "935097d0",
   "metadata": {},
   "outputs": [],
   "source": [
    "function logpi(α, nn, X_min, X_max, Y_target, sigma_hat; nu=1, alpha=0.01, alpha_b=3, beta_b=3)\n",
    "    \n",
    "    Y_pred = 10 .^ nn(α, true)\n",
    "    r = Y_pred .- Y_target\n",
    "    t = r ./ sigma_hat\n",
    "\n",
    "    # StudentT distribution\n",
    "    loglikelihood = sum(\n",
    "        loggamma((nu + 1) / 2)\n",
    "        - loggamma(nu / 2)\n",
    "        .- log.(sqrt.(pi * nu) .* sigma_hat)\n",
    "        .- (nu + 1) / 2.0 * log.(1 .+ 1.0 / nu .* t .^ 2)\n",
    "    )\n",
    "    # Beta prior\n",
    "    X_bar = (α .- X_min) ./ (X_max - X_min)\n",
    "    logprior = sum(\n",
    "        (alpha_b - 1) * log.(X_bar) + (beta_b - 1) * log.(1 .- X_bar)\n",
    "        .+ loggamma(alpha_b + beta_b) \n",
    "        .- loggamma(alpha_b)\n",
    "        .- loggamma(beta_b)\n",
    "    )\n",
    "\n",
    "    insupport(X) = sum(X_bar .< 0) == 0\n",
    "    insupport(X) ?  (alpha * loglikelihood + logprior) : -Inf\n",
    "    \n",
    "end"
   ]
  },
  {
   "cell_type": "code",
   "execution_count": null,
   "id": "40636f6b",
   "metadata": {},
   "outputs": [],
   "source": [
    "function bar(X, X_min, X_max)\n",
    "    (X .- X_min) ./ (X_max .- X_min)\n",
    "end\n",
    "\n",
    "insupport(X) = sum(bar(X, X_min, X_max) .< 0) == 0\n",
    "density(X) = insupport(X) ? logpi(X, model, X_min, X_max, Y_target, sigma_hat) : -Inf"
   ]
  },
  {
   "cell_type": "code",
   "execution_count": null,
   "id": "30b54025",
   "metadata": {},
   "outputs": [],
   "source": [
    "logpi(X_0, model, X_min, X_max, Y_target, sigma_hat)"
   ]
  },
  {
   "cell_type": "code",
   "execution_count": null,
   "id": "2cc1f3f2",
   "metadata": {},
   "outputs": [],
   "source": [
    "# Construct a DensityModel.\n",
    "dmodel = DensityModel(density)\n",
    "\n",
    "# Set up the sampler with a multivariate Gaussian proposal.\n",
    "H = Flux.hessian(logpi)\n",
    "σ² = 1 / H\n",
    "spl = MALA(x -> MvNormal((σ² / 2) .* x, σ² * I))\n",
    "\n",
    "# Sample from the posterior.\n",
    "chain = sample(dmodel, spl, 100000; init_params=X_0, chain_type=StructArray)"
   ]
  },
  {
   "cell_type": "code",
   "execution_count": null,
   "id": "e0d15477",
   "metadata": {},
   "outputs": [],
   "source": [
    "using Flux"
   ]
  },
  {
   "cell_type": "code",
   "execution_count": null,
   "id": "45644beb",
   "metadata": {},
   "outputs": [],
   "source": [
    "?Flux.hessian"
   ]
  },
  {
   "cell_type": "code",
   "execution_count": null,
   "id": "e47bfef7",
   "metadata": {},
   "outputs": [],
   "source": [
    "### A Pluto.jl notebook ###\n",
    "# v0.19.24\n",
    "\n",
    "import Pkg; \n",
    "Pkg.add(\"DynamicHMCModels\")\n",
    "using Markdown\n",
    "using InteractiveUtils\n",
    "\n",
    "# ╔═╡ c0452572-c9ba-4833-b22a-49c0889b16b2\n",
    "using Pkg\n",
    "\n",
    "# ╔═╡ a8c916a9-d464-4fe2-9b6b-ab61308bffed\n",
    "Pkg.activate(expanduser(\"~/.julia/dev/DynamicHMCModels\"))\n",
    "\n",
    "# ╔═╡ e5a5c94e-402c-48a8-b573-5b5c877dba69\n",
    "begin\n",
    "\tusing DynamicHMCModels\n",
    "\tusing BenchmarkTools\n",
    "\tusing RegressionAndOtherStories\n",
    "end\n",
    "\n",
    "# ╔═╡ c565bfd9-b5d2-4e50-9527-c8df52579858\n",
    "md\" ## Linear regression example\"\n",
    "\n",
    "# ╔═╡ 2cf37bf9-9412-42cf-a524-0041581b48f9\n",
    "html\"\"\"\n",
    "<style>\n",
    "\tmain {\n",
    "\t\tmargin: 0 auto;\n",
    "\t\tmax-width: 3500px;\n",
    "    \tpadding-left: max(10px, 5%);\n",
    "    \tpadding-right: max(10px, 5%);\n",
    "\t}\n",
    "</style>\n",
    "\"\"\"\n",
    "\n",
    "# ╔═╡ c897fe4c-4d26-40d0-9338-48022c7044bd\n",
    "md\" ### Estimate simple linear regression model with a half-T prior.\"\n",
    "\n",
    "# ╔═╡ b9e2f55a-f809-4467-b617-b292e12b55c3\n",
    "begin\n",
    "\t# A structure to hold the data: observables, covariates, and the degrees of freedom for the prior.\n",
    "\n",
    "\t\"\"\"\n",
    "\tLinear regression model ``y ∼ Xβ + ϵ``, where ``ϵ ∼ N(0, σ²)`` IID.\n",
    "\tWeakly informative prior for `β`, half-T for `σ`.\n",
    "\t\"\"\"\n",
    "\tstruct LinearRegressionProblem{TY <: AbstractVector, TX <: AbstractMatrix, Tν <: Real}\n",
    "\t    \"Observations.\"\n",
    "\t    y::TY\n",
    "\t    \"Covariates\"\n",
    "\t    X::TX\n",
    "\t    \"Degrees of freedom for prior.\"\n",
    "\t    ν::Tν\n",
    "\tend\n",
    "\t\n",
    "\t# Make the type callable with the parameters *as a single argument*.\n",
    "\n",
    "\tfunction (problem::LinearRegressionProblem)(θ)\n",
    "\t    @unpack y, X, ν = problem                    # extract the data\n",
    "\t    @unpack β, σ = θ                             # works on the named tuple too\n",
    "\t    ϵ_distribution = Normal(0, σ)                # the error term\n",
    "\t\t                                             # likelihood for error\n",
    "\t    ℓ_error = mapreduce((y, x) -> logpdf(ϵ_distribution, y - dot(x, β)), +, y, eachrow(X)) \n",
    "\t    ℓ_σ = logpdf(TDist(ν), σ)                    # prior for σ\n",
    "\t    ℓ_β = loglikelihood(Normal(0, 10), β)        # prior for β\n",
    "\t    ℓ_error + ℓ_σ + ℓ_β\n",
    "\tend\n",
    "end\n",
    "\n",
    "# ╔═╡ 52bcf291-bae0-484d-83ac-2b72487584c9\n",
    "# Make up random data and test the function runs.\n",
    "\n",
    "begin\n",
    "\tN = 100\n",
    "\tX = hcat(ones(N), randn(N, 2));\n",
    "\tβ = [1.0, 2.0, -1.0]\n",
    "\tσ = 0.5\n",
    "\ty = X*β .+ randn(N) .* σ;\n",
    "\tp = LinearRegressionProblem(y, X, 1.0);\n",
    "\tp((β = β, σ = σ))\n",
    "end\n",
    "\n",
    "# ╔═╡ 404098e3-543c-492e-8bff-0ac0c770dd3e\n",
    "md\" ##### It is usually a good idea to benchmark and optimize your log posterior code at this stage. Above, we have carefully optimized allocations away using `mapreduce`.\"\n",
    "\n",
    "# ╔═╡ c3294c81-72a3-4435-8019-b0285ad33f6d\n",
    "@btime p((β = $β, σ = $σ))\n",
    "\n",
    "# ╔═╡ 21f09380-9554-47b3-b8b8-d04b6fc7260e\n",
    "md\" ##### For this problem, we write a function to return the transformation (as it varies with the number of covariates).\"\n",
    "\n",
    "# ╔═╡ 14d716cb-6c14-45c0-8ef3-0065b2076b57\n",
    "function problem_transformation(p::LinearRegressionProblem)\n",
    "    as((β = as(Array, size(p.X, 2)), σ = asℝ₊))\n",
    "end\n",
    "\n",
    "# ╔═╡ f825e1bb-13d1-42f5-9808-de29b85604a2\n",
    "md\" ##### Wrap the problem with a transformation, then use ForwardDiff for the gradient.\"\n",
    "\n",
    "# ╔═╡ 8519b5bd-797a-4513-82b3-1cfc072db755\n",
    "t = problem_transformation(p)\n",
    "\n",
    "# ╔═╡ 70418813-3ea7-4143-9804-3a98f3f682dc\n",
    "P = TransformedLogDensity(t, p)\n",
    "\n",
    "# ╔═╡ 275a0030-11ef-4533-b412-4ac82a8c795f\n",
    "∇P = ADgradient(:ForwardDiff, P);\n",
    "\n",
    "# ╔═╡ ce7f9c63-6f71-480b-ad5b-95dae7f08dac\n",
    "md\" ##### Sample from the posterior. `results` holds the chain, positions, diagnostic information, and the tuned sampler (which would allow continuation of sampling).\"\n",
    "\n",
    "# ╔═╡ 3b727805-8d0a-4d72-8b8c-7135095e1ff5\n",
    "results = map(_ -> mcmc_with_warmup(Random.default_rng(), ∇P, 1000), 1:5)\n",
    "\n",
    "# ╔═╡ 83bef086-3538-4ae8-ac10-778fb1d0ce30\n",
    "md\" ##### We use the transformation to obtain the posterior from the chain.\"\n",
    "\n",
    "# ╔═╡ 0d3a5d33-e49f-4a41-b190-a44ca915a1a4\n",
    "posterior = TransformVariables.transform.(t, eachcol(pool_posterior_matrices(results)))\n",
    "\n",
    "# ╔═╡ 7a8ec9c6-2f00-450c-8d5a-2754f8e443d9\n",
    "md\" ##### Extract the parameter posterior means: `β`.\"\n",
    "\n",
    "# ╔═╡ 11d815b2-8375-4229-970e-f66187b4d014\n",
    "posterior_β = mean(first, posterior)\n",
    "\n",
    "# ╔═╡ 4c790100-a9c9-452b-9e6a-6d9147a8d807\n",
    "md\" ##### then `σ`:\"\n",
    "\n",
    "# ╔═╡ bfd42f7a-6d73-45cc-8112-c44749c2c1e7\n",
    "posterior_σ = mean(last, posterior)\n",
    "\n",
    "# ╔═╡ fee2b723-23b7-45d3-add4-6657396a389b\n",
    "md\" ##### Effective sample sizes (of untransformed draws)\"\n",
    "\n",
    "# ╔═╡ 2eeecb48-f659-4a26-89b1-0b16d64450ec\n",
    "ess, R̂ = ess_rhat(stack_posterior_matrices(results))\n",
    "\n",
    "# ╔═╡ e3c07642-86f0-4d5c-b9e3-dc4f59731604\n",
    "md\" ##### Summarize NUTS-specific statistics of all chains\"\n",
    "\n",
    "# ╔═╡ 2580659d-1186-481b-a1e7-d0f21cf08d94\n",
    "summarize_tree_statistics(mapreduce(x -> x.tree_statistics, vcat, results))\n",
    "\n",
    "# ╔═╡ Cell order:\n",
    "# ╟─c565bfd9-b5d2-4e50-9527-c8df52579858\n",
    "# ╠═2cf37bf9-9412-42cf-a524-0041581b48f9\n",
    "# ╠═c0452572-c9ba-4833-b22a-49c0889b16b2\n",
    "# ╠═a8c916a9-d464-4fe2-9b6b-ab61308bffed\n",
    "# ╟─c897fe4c-4d26-40d0-9338-48022c7044bd\n",
    "# ╠═e5a5c94e-402c-48a8-b573-5b5c877dba69\n",
    "# ╠═b9e2f55a-f809-4467-b617-b292e12b55c3\n",
    "# ╠═52bcf291-bae0-484d-83ac-2b72487584c9\n",
    "# ╟─404098e3-543c-492e-8bff-0ac0c770dd3e\n",
    "# ╠═c3294c81-72a3-4435-8019-b0285ad33f6d\n",
    "# ╟─21f09380-9554-47b3-b8b8-d04b6fc7260e\n",
    "# ╠═14d716cb-6c14-45c0-8ef3-0065b2076b57\n",
    "# ╟─f825e1bb-13d1-42f5-9808-de29b85604a2\n",
    "# ╠═8519b5bd-797a-4513-82b3-1cfc072db755\n",
    "# ╠═70418813-3ea7-4143-9804-3a98f3f682dc\n",
    "# ╠═275a0030-11ef-4533-b412-4ac82a8c795f\n",
    "# ╟─ce7f9c63-6f71-480b-ad5b-95dae7f08dac\n",
    "# ╠═3b727805-8d0a-4d72-8b8c-7135095e1ff5\n",
    "# ╟─83bef086-3538-4ae8-ac10-778fb1d0ce30\n",
    "# ╠═0d3a5d33-e49f-4a41-b190-a44ca915a1a4\n",
    "# ╟─7a8ec9c6-2f00-450c-8d5a-2754f8e443d9\n",
    "# ╠═11d815b2-8375-4229-970e-f66187b4d014\n",
    "# ╟─4c790100-a9c9-452b-9e6a-6d9147a8d807\n",
    "# ╠═bfd42f7a-6d73-45cc-8112-c44749c2c1e7\n",
    "# ╟─fee2b723-23b7-45d3-add4-6657396a389b\n",
    "# ╠═2eeecb48-f659-4a26-89b1-0b16d64450ec\n",
    "# ╟─e3c07642-86f0-4d5c-b9e3-dc4f59731604\n",
    "# ╠═2580659d-1186-481b-a1e7-d0f21cf08d94"
   ]
  },
  {
   "cell_type": "code",
   "execution_count": null,
   "id": "5d36bf0a",
   "metadata": {},
   "outputs": [],
   "source": []
  }
 ],
 "metadata": {
  "kernelspec": {
   "display_name": "Julia 1.8.3",
   "language": "julia",
   "name": "julia-1.8"
  },
  "language_info": {
   "file_extension": ".jl",
   "mimetype": "application/julia",
   "name": "julia"
  }
 },
 "nbformat": 4,
 "nbformat_minor": 5
}
