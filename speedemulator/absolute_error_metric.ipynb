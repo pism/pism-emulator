{
 "cells": [
  {
   "cell_type": "markdown",
   "id": "8fc0e5e2",
   "metadata": {},
   "source": [
    "# Show metrics are the same"
   ]
  },
  {
   "cell_type": "markdown",
   "id": "8c3a59ee",
   "metadata": {},
   "source": [
    "Create some tensors"
   ]
  },
  {
   "cell_type": "code",
   "execution_count": 25,
   "id": "f6956514",
   "metadata": {},
   "outputs": [],
   "source": [
    "x = torch.tensor([[0, 1, 2, 3], [1, 2, 3, 4]]).T\n",
    "y = torch.tensor([[0, 1, 2, 1], [2, 3, 4, 4]]).T\n",
    "o = torch.tensor([0.25, 0.25, 0.3, 0.2])\n",
    "a = torch.tensor([0.25, 0.25])"
   ]
  },
  {
   "cell_type": "markdown",
   "id": "e61c3887",
   "metadata": {},
   "source": [
    "Absolute Error Metrics implementation"
   ]
  },
  {
   "cell_type": "code",
   "execution_count": 35,
   "id": "c9723987",
   "metadata": {},
   "outputs": [],
   "source": [
    "from torch import Tensor\n",
    "from torchmetrics.utilities.checks import _check_same_shape\n",
    "from torchmetrics import Metric\n",
    "\n",
    "def _absolute_error_update(preds: Tensor, target: Tensor, area: Tensor) -> Tensor:\n",
    "    _check_same_shape(preds, target)\n",
    "    diff = torch.abs(preds - target)\n",
    "    sum_absolute_error = torch.sum(diff * diff * area, axis=1)\n",
    "    return sum_absolute_error\n",
    "\n",
    "\n",
    "def _absolute_error_compute(sum_absolute_error: Tensor, omegas: Tensor) -> Tensor:\n",
    "    return torch.sum(sum_absolute_error * omegas.squeeze())\n",
    "\n",
    "\n",
    "def absolute_error(\n",
    "    preds: Tensor, target: Tensor, omegas: Tensor, area: Tensor\n",
    ") -> Tensor:\n",
    "    \"\"\"\n",
    "    Computes squared absolute error\n",
    "    Args:\n",
    "        preds: estimated labels\n",
    "        target: ground truth labels\n",
    "        omegas\n",
    "    Return:\n",
    "        Tensor with ASE\n",
    "    Example:\n",
    "        >>> from torchmetrics.functional import mean_squared_error\n",
    "        >>> x = torch.tensor([0., 1, 2, 3])\n",
    "        >>> y = torch.tensor([0., 1, 2, 2])\n",
    "        >>> mean_squared_error(x, y)\n",
    "        tensor(0.2500)\n",
    "    \"\"\"\n",
    "    sum_abs_error = _absolute_error_update(preds, target, area)\n",
    "    return _absolute_error_compute(sum_abs_error, omegas)\n"
   ]
  },
  {
   "cell_type": "markdown",
   "id": "1da7a8ab",
   "metadata": {},
   "source": [
    "Criteriona AE implementation"
   ]
  },
  {
   "cell_type": "code",
   "execution_count": 36,
   "id": "0a60130b",
   "metadata": {},
   "outputs": [],
   "source": [
    "def criterion_ae(F_pred, F_obs, omegas, area):\n",
    "    instance_misfit = torch.sum(torch.abs(F_pred - F_obs) ** 2 * area, axis=1)\n",
    "    return torch.sum(instance_misfit * omegas.squeeze())"
   ]
  },
  {
   "cell_type": "code",
   "execution_count": 40,
   "id": "dc97d141",
   "metadata": {},
   "outputs": [],
   "source": [
    "from numpy.testing import assert_almost_equal"
   ]
  },
  {
   "cell_type": "markdown",
   "id": "2f7ee529",
   "metadata": {},
   "source": [
    "This shows that both codes produce the same result"
   ]
  },
  {
   "cell_type": "code",
   "execution_count": 49,
   "id": "6f129d86",
   "metadata": {},
   "outputs": [
    {
     "name": "stdout",
     "output_type": "stream",
     "text": [
      "tensor(0.4000)\n",
      "tensor(0.4000)\n"
     ]
    }
   ],
   "source": [
    "print(absolute_error(x, y, o, a))\n",
    "print(criterion_ae(x, y, o, a))\n",
    "assert_almost_equal(absolute_error(x, y, o, a), criterion_ae(x, y, o, a), decimal=4)"
   ]
  },
  {
   "cell_type": "markdown",
   "id": "f5075ebe",
   "metadata": {},
   "source": [
    "Now split into 2 batches"
   ]
  },
  {
   "cell_type": "code",
   "execution_count": 50,
   "id": "5998c1a1",
   "metadata": {},
   "outputs": [],
   "source": [
    "sum_ae_1 = _absolute_error_update(x[0:2], y[0:2], a)\n",
    "sum_ae_2 = _absolute_error_update(x[2:4], y[2:4], a)\n",
    "sum_ae = _absolute_error_compute(sum_ae_1, o[0:2]) + _absolute_error_compute(sum_ae_2, o[2:4])"
   ]
  },
  {
   "cell_type": "markdown",
   "id": "4f6d454c",
   "metadata": {},
   "source": [
    "This shows that we can compute the absolute error per batch and then sum up:"
   ]
  },
  {
   "cell_type": "code",
   "execution_count": 52,
   "id": "36c16389",
   "metadata": {},
   "outputs": [],
   "source": [
    "assert_almost_equal(absolute_error(x, y, o, a), sum_ae, decimal=4)"
   ]
  },
  {
   "cell_type": "markdown",
   "id": "f43ac882",
   "metadata": {},
   "source": [
    "However, we do have to refactor the code to properly implement it"
   ]
  },
  {
   "cell_type": "code",
   "execution_count": null,
   "id": "c62ec95b",
   "metadata": {},
   "outputs": [],
   "source": []
  }
 ],
 "metadata": {
  "kernelspec": {
   "display_name": "Python 3",
   "language": "python",
   "name": "python3"
  },
  "language_info": {
   "codemirror_mode": {
    "name": "ipython",
    "version": 3
   },
   "file_extension": ".py",
   "mimetype": "text/x-python",
   "name": "python",
   "nbconvert_exporter": "python",
   "pygments_lexer": "ipython3",
   "version": "3.8.8"
  }
 },
 "nbformat": 4,
 "nbformat_minor": 5
}
