{
 "cells": [
  {
   "cell_type": "code",
   "execution_count": 2,
   "id": "95516590",
   "metadata": {},
   "outputs": [
    {
     "name": "stderr",
     "output_type": "stream",
     "text": [
      "\u001b[32m\u001b[1m    Updating\u001b[22m\u001b[39m registry at `~/.julia/registries/General.toml`\n",
      "\u001b[32m\u001b[1m   Resolving\u001b[22m\u001b[39m package versions...\n",
      "\u001b[32m\u001b[1m  No Changes\u001b[22m\u001b[39m to `~/.julia/environments/v1.8/Project.toml`\n",
      "\u001b[32m\u001b[1m  No Changes\u001b[22m\u001b[39m to `~/.julia/environments/v1.8/Manifest.toml`\n",
      "\u001b[32m\u001b[1m   Resolving\u001b[22m\u001b[39m package versions...\n",
      "\u001b[32m\u001b[1m  No Changes\u001b[22m\u001b[39m to `~/.julia/environments/v1.8/Project.toml`\n",
      "\u001b[32m\u001b[1m  No Changes\u001b[22m\u001b[39m to `~/.julia/environments/v1.8/Manifest.toml`\n",
      "\u001b[32m\u001b[1m   Resolving\u001b[22m\u001b[39m package versions...\n",
      "\u001b[32m\u001b[1m  No Changes\u001b[22m\u001b[39m to `~/.julia/environments/v1.8/Project.toml`\n",
      "\u001b[32m\u001b[1m  No Changes\u001b[22m\u001b[39m to `~/.julia/environments/v1.8/Manifest.toml`\n",
      "\u001b[32m\u001b[1m   Resolving\u001b[22m\u001b[39m package versions...\n",
      "\u001b[32m\u001b[1m  No Changes\u001b[22m\u001b[39m to `~/.julia/environments/v1.8/Project.toml`\n",
      "\u001b[32m\u001b[1m  No Changes\u001b[22m\u001b[39m to `~/.julia/environments/v1.8/Manifest.toml`\n",
      "\u001b[32m\u001b[1m   Resolving\u001b[22m\u001b[39m package versions...\n",
      "\u001b[32m\u001b[1m  No Changes\u001b[22m\u001b[39m to `~/.julia/environments/v1.8/Project.toml`\n",
      "\u001b[32m\u001b[1m  No Changes\u001b[22m\u001b[39m to `~/.julia/environments/v1.8/Manifest.toml`\n",
      "\u001b[32m\u001b[1m   Resolving\u001b[22m\u001b[39m package versions...\n",
      "\u001b[32m\u001b[1m  No Changes\u001b[22m\u001b[39m to `~/.julia/environments/v1.8/Project.toml`\n",
      "\u001b[32m\u001b[1m  No Changes\u001b[22m\u001b[39m to `~/.julia/environments/v1.8/Manifest.toml`\n",
      "\u001b[32m\u001b[1m   Resolving\u001b[22m\u001b[39m package versions...\n",
      "\u001b[32m\u001b[1m  No Changes\u001b[22m\u001b[39m to `~/.julia/environments/v1.8/Project.toml`\n",
      "\u001b[32m\u001b[1m  No Changes\u001b[22m\u001b[39m to `~/.julia/environments/v1.8/Manifest.toml`\n",
      "\u001b[32m\u001b[1m   Resolving\u001b[22m\u001b[39m package versions...\n",
      "\u001b[32m\u001b[1m  No Changes\u001b[22m\u001b[39m to `~/.julia/environments/v1.8/Project.toml`\n",
      "\u001b[32m\u001b[1m  No Changes\u001b[22m\u001b[39m to `~/.julia/environments/v1.8/Manifest.toml`\n",
      "\u001b[32m\u001b[1m   Resolving\u001b[22m\u001b[39m package versions...\n",
      "\u001b[32m\u001b[1m  No Changes\u001b[22m\u001b[39m to `~/.julia/environments/v1.8/Project.toml`\n",
      "\u001b[32m\u001b[1m  No Changes\u001b[22m\u001b[39m to `~/.julia/environments/v1.8/Manifest.toml`\n",
      "\u001b[32m\u001b[1m   Resolving\u001b[22m\u001b[39m package versions...\n",
      "\u001b[32m\u001b[1m  No Changes\u001b[22m\u001b[39m to `~/.julia/environments/v1.8/Project.toml`\n",
      "\u001b[32m\u001b[1m  No Changes\u001b[22m\u001b[39m to `~/.julia/environments/v1.8/Manifest.toml`\n",
      "\u001b[32m\u001b[1m   Resolving\u001b[22m\u001b[39m package versions...\n",
      "\u001b[32m\u001b[1m  No Changes\u001b[22m\u001b[39m to `~/.julia/environments/v1.8/Project.toml`\n",
      "\u001b[32m\u001b[1m  No Changes\u001b[22m\u001b[39m to `~/.julia/environments/v1.8/Manifest.toml`\n",
      "\u001b[32m\u001b[1m   Resolving\u001b[22m\u001b[39m package versions...\n",
      "\u001b[32m\u001b[1m  No Changes\u001b[22m\u001b[39m to `~/.julia/environments/v1.8/Project.toml`\n",
      "\u001b[32m\u001b[1m  No Changes\u001b[22m\u001b[39m to `~/.julia/environments/v1.8/Manifest.toml`\n",
      "\u001b[32m\u001b[1m   Resolving\u001b[22m\u001b[39m package versions...\n",
      "\u001b[32m\u001b[1m  No Changes\u001b[22m\u001b[39m to `~/.julia/environments/v1.8/Project.toml`\n",
      "\u001b[32m\u001b[1m  No Changes\u001b[22m\u001b[39m to `~/.julia/environments/v1.8/Manifest.toml`\n",
      "\u001b[32m\u001b[1m   Resolving\u001b[22m\u001b[39m package versions...\n",
      "\u001b[32m\u001b[1m  No Changes\u001b[22m\u001b[39m to `~/.julia/environments/v1.8/Project.toml`\n",
      "\u001b[32m\u001b[1m  No Changes\u001b[22m\u001b[39m to `~/.julia/environments/v1.8/Manifest.toml`\n",
      "\u001b[32m\u001b[1m   Resolving\u001b[22m\u001b[39m package versions...\n",
      "\u001b[32m\u001b[1m  No Changes\u001b[22m\u001b[39m to `~/.julia/environments/v1.8/Project.toml`\n",
      "\u001b[32m\u001b[1m  No Changes\u001b[22m\u001b[39m to `~/.julia/environments/v1.8/Manifest.toml`\n"
     ]
    }
   ],
   "source": [
    "import Pkg\n",
    "Pkg.add(\"Flux\")\n",
    "Pkg.add(\"NCDatasets\")\n",
    "Pkg.add(\"TSVD\")\n",
    "Pkg.add(\"Statistics\")\n",
    "Pkg.add(\"Compat\")\n",
    "Pkg.add(\"LinearAlgebra\")\n",
    "Pkg.add(\"Glob\")\n",
    "Pkg.add(\"CSV\")\n",
    "Pkg.add(\"DataFrames\")\n",
    "Pkg.add(\"Distributions\")\n",
    "Pkg.add(\"ProgressMeter\")\n",
    "Pkg.add(\"PyPlot\")\n",
    "Pkg.add(\"Random\")\n",
    "Pkg.add(\"SpecialFunctions\")\n",
    "Pkg.add(\"BSON\")\n",
    "using Turing\n",
    "using Flux\n",
    "using Flux: train!\n",
    "using TSVD\n",
    "using Statistics\n",
    "using LinearAlgebra\n",
    "using Compat\n",
    "using Glob\n",
    "using NCDatasets\n",
    "using CSV\n",
    "using DataFrames\n",
    "using Distributions: Categorical, Dirichlet\n",
    "using ProgressMeter\n",
    "using PyPlot\n",
    "using Random\n",
    "using SpecialFunctions: loggamma\n",
    "using BSON: @save"
   ]
  },
  {
   "cell_type": "code",
   "execution_count": 3,
   "id": "7dbeac8c",
   "metadata": {},
   "outputs": [],
   "source": [
    "obs_file =\"../data/observed_speeds/greenland_vel_mosaic250_v1_g9000m.nc\"\n",
    "d_obs = NCDataset(obs_file)\n",
    "v_obs = d_obs[\"velsurf_mag\"][:]\n",
    "v_obs = nomissing(v_obs, 0.0);\n",
    "idx = findall(v_obs .> 0)\n",
    "Obs = v_obs[idx];\n",
    "\n",
    "n_grid_points = size(idx)[1];"
   ]
  },
  {
   "cell_type": "markdown",
   "id": "10dc033e",
   "metadata": {},
   "source": [
    "## Load the training data"
   ]
  },
  {
   "cell_type": "code",
   "execution_count": 4,
   "id": "65fd3002",
   "metadata": {},
   "outputs": [
    {
     "name": "stderr",
     "output_type": "stream",
     "text": [
      "\u001b[32mProgress: 100%|█████████████████████████████████████████| Time: 0:00:02\u001b[39m\n"
     ]
    }
   ],
   "source": [
    "training_files = sort(glob(\"../tests/training_data/*.nc\"))\n",
    "\n",
    "nf = length(training_files)\n",
    "d = NCDataset(training_files[1], \"r\")\n",
    "v = d[\"velsurf_mag\"]\n",
    "nx, ny, nt = size(v)\n",
    "\n",
    "Data = zeros(n_grid_points, nf * nt)\n",
    "ids = zeros(Int64, nf)\n",
    "@showprogress for (k, training_file) in enumerate(training_files)\n",
    "    m_id = match(r\"id_(.+?)_\", training_file)\n",
    "    ids[k] = parse(Int, m_id[1])\n",
    "    d = NCDataset(training_file, \"r\")\n",
    "    v = d[\"velsurf_mag\"][:]\n",
    "    v = nomissing(v, 0.0)\n",
    "    Data[:, k] = v[idx]\n",
    "end"
   ]
  },
  {
   "cell_type": "markdown",
   "id": "031e1c0a",
   "metadata": {},
   "source": [
    "## Read training samples"
   ]
  },
  {
   "cell_type": "code",
   "execution_count": 5,
   "id": "fee568a2",
   "metadata": {},
   "outputs": [],
   "source": [
    "X_df = DataFrame(CSV.File(\"../data/samples/velocity_calibration_samples_50.csv\"))\n",
    "X_df = X_df[ [x in ids for x in X_df[!, :id]] ,:]\n",
    "X = transpose(Matrix(X_df[!, 2:9]))\n",
    "X_mean = mean(X, dims=2);\n",
    "X_std = std(X, dims=2);\n",
    "X_scaled = (X .- X_mean) ./ X_std;\n",
    "X_train = X_scaled;\n",
    "n_parameters, n_samples = size(X);"
   ]
  },
  {
   "cell_type": "markdown",
   "id": "c8dd2995",
   "metadata": {},
   "source": [
    "## Data preprocessing\n",
    "\n",
    "Log10-transform the training data and set -Inf to 0"
   ]
  },
  {
   "cell_type": "code",
   "execution_count": 6,
   "id": "a271ab8d",
   "metadata": {},
   "outputs": [],
   "source": [
    "F = log10.(Data)\n",
    "F = replace!(F, -Inf=>0)\n",
    "dirichlet_dist = Dirichlet(n_samples, 1)\n",
    "\n",
    "area = ones(n_grid_points);\n",
    "area = area ./ sum(area);\n",
    "\n",
    "# Number of eigenglaciers\n",
    "q = 50;"
   ]
  },
  {
   "cell_type": "markdown",
   "id": "a0c40cee",
   "metadata": {},
   "source": [
    "## Function to get Eigenglaciers using SVD"
   ]
  },
  {
   "cell_type": "code",
   "execution_count": 7,
   "id": "fe79ae9e",
   "metadata": {},
   "outputs": [],
   "source": [
    "function get_eigenglaciers(omegas, F, q)\n",
    "    \n",
    "    F_mean = sum(F .* omegas, dims=2);\n",
    "    F_bar = F .- F_mean;\n",
    "\n",
    "    Z = diagm(sqrt.(omegas[1, :] * n_grid_points))\n",
    "    U, S, V = tsvd(Z * transpose(F_bar), q);\n",
    "    lamda = S.^2 / n_grid_points\n",
    "    V_hat = V * diagm(sqrt.(lamda));\n",
    "    \n",
    "    return V_hat, F_bar, F_mean\n",
    "end;"
   ]
  },
  {
   "cell_type": "markdown",
   "id": "62f35efd",
   "metadata": {},
   "source": [
    "## Set up the Neural Network"
   ]
  },
  {
   "cell_type": "code",
   "execution_count": 8,
   "id": "f9370444",
   "metadata": {},
   "outputs": [],
   "source": [
    "n_hidden = 128\n",
    "\n",
    "struct NNModel\n",
    "    chain::Chain\n",
    "    V_hat::AbstractArray\n",
    "    F_mean::AbstractArray\n",
    "end\n",
    "\n",
    "function (m::NNModel)(x, add_mean=false)\n",
    "    if add_mean\n",
    "        return V_hat * m.chain(x) .+ F_mean\n",
    "    else\n",
    "        return V_hat * m.chain(x)\n",
    "    end\n",
    "\n",
    "end\n",
    "\n",
    "# Call @functor to allow for training.\n",
    "Flux.@functor NNModel\n",
    "\n",
    "chain = Chain(\n",
    "    Dense(n_parameters, n_hidden),\n",
    "    LayerNorm(n_hidden),\n",
    "    Dropout(0.0),\n",
    "    Dense(n_hidden, n_hidden),\n",
    "    LayerNorm(n_hidden),\n",
    "    Dropout(0.5),\n",
    "    Dense(n_hidden, n_hidden),\n",
    "    LayerNorm(n_hidden),\n",
    "    Dropout(0.5),\n",
    "    Dense(n_hidden, n_hidden),\n",
    "    LayerNorm(n_hidden),\n",
    "    Dropout(0.3),\n",
    "    Dense(n_hidden, q, bias=false),\n",
    "    );"
   ]
  },
  {
   "cell_type": "code",
   "execution_count": 9,
   "id": "8c9a6550",
   "metadata": {},
   "outputs": [],
   "source": [
    "no_models = 1\n",
    "n_epochs = 101\n",
    "opt = Adam(0.1, (0.9, 0.8));"
   ]
  },
  {
   "cell_type": "markdown",
   "id": "ebd855ed",
   "metadata": {},
   "source": [
    "## Loss function"
   ]
  },
  {
   "cell_type": "code",
   "execution_count": 10,
   "id": "6eefae53",
   "metadata": {},
   "outputs": [],
   "source": [
    "loss(y_pred, y, o) = sum(sum(abs.((y_pred - y)).^2 .* area, dims=1) .* o);"
   ]
  },
  {
   "cell_type": "code",
   "execution_count": 16,
   "id": "2aa23013",
   "metadata": {},
   "outputs": [],
   "source": [
    "model_index = 1\n",
    "Random.seed!(model_index)\n",
    "omegas = transpose(rand(dirichlet_dist, 1))\n",
    "omegas_0 = omegas ./ size(omegas)[1];\n",
    "    \n",
    "V_hat, F_bar, F_mean = get_eigenglaciers(omegas, F, q);\n"
   ]
  },
  {
   "cell_type": "markdown",
   "id": "975cf2ab",
   "metadata": {},
   "source": [
    "## We're ready for training"
   ]
  },
  {
   "cell_type": "code",
   "execution_count": 15,
   "id": "e5bbf4a2",
   "metadata": {},
   "outputs": [
    {
     "name": "stdout",
     "output_type": "stream",
     "text": [
      "Training surrogate model 1\n",
      "  epoch, train_loss, test_loss\n"
     ]
    },
    {
     "name": "stderr",
     "output_type": "stream",
     "text": [
      "\u001b[32mProgress:   5%|██                                       |  ETA: 0:00:44\u001b[39m"
     ]
    },
    {
     "name": "stdout",
     "output_type": "stream",
     "text": [
      "  5 0.04823658970474349 0.04823658970474349\n"
     ]
    },
    {
     "name": "stderr",
     "output_type": "stream",
     "text": [
      "\u001b[32mProgress:  10%|████                                     |  ETA: 0:00:38\u001b[39m"
     ]
    },
    {
     "name": "stdout",
     "output_type": "stream",
     "text": [
      "  10 0.047918362077878245 0.047918362077878245\n"
     ]
    },
    {
     "name": "stderr",
     "output_type": "stream",
     "text": [
      "\u001b[32mProgress:  15%|██████▏                                  |  ETA: 0:00:37\u001b[39m"
     ]
    },
    {
     "name": "stdout",
     "output_type": "stream",
     "text": [
      "  15 0.04664111612933372 0.04664111612933372\n"
     ]
    },
    {
     "name": "stderr",
     "output_type": "stream",
     "text": [
      "\u001b[32mProgress:  20%|████████▏                                |  ETA: 0:00:34\u001b[39m"
     ]
    },
    {
     "name": "stdout",
     "output_type": "stream",
     "text": [
      "  20 0.046623055102250184 0.046623055102250184\n"
     ]
    },
    {
     "name": "stderr",
     "output_type": "stream",
     "text": [
      "\u001b[32mProgress:  25%|██████████▏                              |  ETA: 0:00:32\u001b[39m"
     ]
    },
    {
     "name": "stdout",
     "output_type": "stream",
     "text": [
      "  25 0.051435338130577074 0.051435338130577074\n"
     ]
    },
    {
     "name": "stderr",
     "output_type": "stream",
     "text": [
      "\u001b[32mProgress:  30%|████████████▏                            |  ETA: 0:00:29\u001b[39m"
     ]
    },
    {
     "name": "stdout",
     "output_type": "stream",
     "text": [
      "  30 0.046124720096050405 0.046124720096050405\n"
     ]
    },
    {
     "name": "stderr",
     "output_type": "stream",
     "text": [
      "\u001b[32mProgress:  35%|██████████████▎                          |  ETA: 0:00:27\u001b[39m"
     ]
    },
    {
     "name": "stdout",
     "output_type": "stream",
     "text": [
      "  35 0.05612905826797932 0.05612905826797932\n"
     ]
    },
    {
     "name": "stderr",
     "output_type": "stream",
     "text": [
      "\u001b[32mProgress:  40%|████████████████▎                        |  ETA: 0:00:25\u001b[39m"
     ]
    },
    {
     "name": "stdout",
     "output_type": "stream",
     "text": [
      "  40 0.04783679693054662 0.04783679693054662\n"
     ]
    },
    {
     "name": "stderr",
     "output_type": "stream",
     "text": [
      "\u001b[32mProgress:  45%|██████████████████▎                      |  ETA: 0:00:23\u001b[39m"
     ]
    },
    {
     "name": "stdout",
     "output_type": "stream",
     "text": [
      "  45 0.046448247186607325 0.046448247186607325\n"
     ]
    },
    {
     "name": "stderr",
     "output_type": "stream",
     "text": [
      "\u001b[32mProgress:  50%|████████████████████▎                    |  ETA: 0:00:21\u001b[39m"
     ]
    },
    {
     "name": "stdout",
     "output_type": "stream",
     "text": [
      "  50 0.0466383788743949 0.0466383788743949\n"
     ]
    },
    {
     "name": "stderr",
     "output_type": "stream",
     "text": [
      "\u001b[32mProgress:  54%|██████████████████████▍                  |  ETA: 0:00:18\u001b[39m"
     ]
    },
    {
     "name": "stdout",
     "output_type": "stream",
     "text": [
      "  55 0.04417950969423714 0.04417950969423714\n"
     ]
    },
    {
     "name": "stderr",
     "output_type": "stream",
     "text": [
      "\u001b[32mProgress:  59%|████████████████████████▍                |  ETA: 0:00:16\u001b[39m"
     ]
    },
    {
     "name": "stdout",
     "output_type": "stream",
     "text": [
      "  60 0.04679514001321053 0.04679514001321053\n"
     ]
    },
    {
     "name": "stderr",
     "output_type": "stream",
     "text": [
      "\u001b[32mProgress:  64%|██████████████████████████▍              |  ETA: 0:00:14\u001b[39m"
     ]
    },
    {
     "name": "stdout",
     "output_type": "stream",
     "text": [
      "  65 0.04520935773762517 0.04520935773762517\n"
     ]
    },
    {
     "name": "stderr",
     "output_type": "stream",
     "text": [
      "\u001b[32mProgress:  69%|████████████████████████████▍            |  ETA: 0:00:12\u001b[39m"
     ]
    },
    {
     "name": "stdout",
     "output_type": "stream",
     "text": [
      "  70 0.04443434337131435 0.04443434337131435\n"
     ]
    },
    {
     "name": "stderr",
     "output_type": "stream",
     "text": [
      "\u001b[32mProgress:  74%|██████████████████████████████▌          |  ETA: 0:00:10\u001b[39m"
     ]
    },
    {
     "name": "stdout",
     "output_type": "stream",
     "text": [
      "  75 0.04597930421693824 0.04597930421693824\n"
     ]
    },
    {
     "name": "stderr",
     "output_type": "stream",
     "text": [
      "\u001b[32mProgress:  79%|████████████████████████████████▌        |  ETA: 0:00:08\u001b[39m"
     ]
    },
    {
     "name": "stdout",
     "output_type": "stream",
     "text": [
      "  80 0.04417147722203125 0.04417147722203125\n"
     ]
    },
    {
     "name": "stderr",
     "output_type": "stream",
     "text": [
      "\u001b[32mProgress:  84%|██████████████████████████████████▌      |  ETA: 0:00:06\u001b[39m"
     ]
    },
    {
     "name": "stdout",
     "output_type": "stream",
     "text": [
      "  85 0.046846919812912516 0.046846919812912516\n"
     ]
    },
    {
     "name": "stderr",
     "output_type": "stream",
     "text": [
      "\u001b[32mProgress:  89%|████████████████████████████████████▌    |  ETA: 0:00:04\u001b[39m"
     ]
    },
    {
     "name": "stdout",
     "output_type": "stream",
     "text": [
      "  90 0.04548427819133511 0.04548427819133511\n"
     ]
    },
    {
     "name": "stderr",
     "output_type": "stream",
     "text": [
      "\u001b[32mProgress:  94%|██████████████████████████████████████▋  |  ETA: 0:00:02\u001b[39m"
     ]
    },
    {
     "name": "stdout",
     "output_type": "stream",
     "text": [
      "  95 0.04519498228779372 0.04519498228779372\n"
     ]
    },
    {
     "name": "stderr",
     "output_type": "stream",
     "text": [
      "\u001b[32mProgress:  99%|████████████████████████████████████████▋|  ETA: 0:00:00\u001b[39m"
     ]
    },
    {
     "name": "stdout",
     "output_type": "stream",
     "text": [
      "  100 0.0445480442103653 0.0445480442103653\n"
     ]
    },
    {
     "name": "stderr",
     "output_type": "stream",
     "text": [
      "\r",
      "\u001b[32mProgress: 100%|█████████████████████████████████████████| Time: 0:00:39\u001b[39m\n"
     ]
    }
   ],
   "source": [
    "models = []\n",
    "for model_index in 1:no_models\n",
    "    println(\"Training surrogate model \", model_index)\n",
    "    Random.seed!(model_index)\n",
    "    omegas = transpose(rand(dirichlet_dist, 1))\n",
    "    omegas_0 = omegas ./ size(omegas)[1];\n",
    "    \n",
    "    V_hat, F_bar, F_mean = get_eigenglaciers(omegas, F, q);\n",
    "    \n",
    "    train_loader = Flux.DataLoader((X_train, F_bar, omegas), batchsize = 128, shuffle = true)\n",
    "    model = NNModel(chain, V_hat, F_mean);\n",
    "    ps = Flux.params(model);\n",
    "    opt_state = Flux.setup(opt, model);\n",
    "    \n",
    "    println(\"  epoch, train_loss, test_loss\")\n",
    "    @showprogress for epoch in 1:n_epochs\n",
    "        for (x, y, o) in train_loader\n",
    "\n",
    "          # Calculate the gradient of the objective\n",
    "          # with respect to the parameters within the model:\n",
    "          grads = Flux.gradient(model) do m\n",
    "              y_pred = m(x)\n",
    "              loss(y_pred, y, o)\n",
    "          end\n",
    "\n",
    "          # Update the parameters so as to reduce the objective,\n",
    "          # according the chosen optimisation rule:\n",
    "          Flux.update!(opt_state, model, grads[1])\n",
    "        end\n",
    "        F_pred = model(X_scaled)\n",
    "        train_loss = loss(F_pred, F_bar, omegas)\n",
    "        test_loss = loss(F_pred, F_bar, omegas_0)\n",
    "        if epoch % 5 == 0\n",
    "            println(\"  \", epoch, \" \", train_loss, \" \", test_loss)\n",
    "        end\n",
    "    end\n",
    "    @save \"emulator_$model_index.bson\" model\n",
    "    push!(models, model)\n",
    "end"
   ]
  },
  {
   "cell_type": "code",
   "execution_count": 13,
   "id": "d7e4257c",
   "metadata": {},
   "outputs": [],
   "source": [
    "n_glaciers = 10\n",
    "p = ones(n_samples)\n",
    "p = p / sum(p)\n",
    "# This does sampling with replacement, need to figure out how to do\n",
    "# sampling without replacement\n",
    "P = Categorical(p)\n",
    "glaciers = rand(P, n_glaciers);"
   ]
  },
  {
   "cell_type": "markdown",
   "id": "27d80de5",
   "metadata": {},
   "source": [
    "## Now calcuate some metrics to assess the surrogate committee"
   ]
  },
  {
   "cell_type": "code",
   "execution_count": 14,
   "id": "be5b12c2",
   "metadata": {},
   "outputs": [
    {
     "name": "stdout",
     "output_type": "stream",
     "text": [
      "MAE: 33.04986513207935"
     ]
    }
   ],
   "source": [
    "F_train = F\n",
    "maes = []\n",
    "for m in glaciers\n",
    "    for (model_index, model) in enumerate(models)\n",
    "        X_val = X_train[:, m]\n",
    "        Y_val = F_train[:, m]\n",
    "        Y_pred = model(X_val, true)\n",
    "        mae = Flux.mae(10 .^ mean(Y_pred, dims=2), 10 .^ mean(Y_val, dims=2))\n",
    "        push!(maes, mae)\n",
    "    end\n",
    "end\n",
    "mae = mean(maes)\n",
    "print(\"MAE: \", mae)"
   ]
  },
  {
   "cell_type": "code",
   "execution_count": null,
   "id": "b130f140",
   "metadata": {},
   "outputs": [],
   "source": []
  }
 ],
 "metadata": {
  "kernelspec": {
   "display_name": "Julia 1.8.3",
   "language": "julia",
   "name": "julia-1.8"
  },
  "language_info": {
   "file_extension": ".jl",
   "mimetype": "application/julia",
   "name": "julia",
   "version": "1.8.3"
  }
 },
 "nbformat": 4,
 "nbformat_minor": 5
}
