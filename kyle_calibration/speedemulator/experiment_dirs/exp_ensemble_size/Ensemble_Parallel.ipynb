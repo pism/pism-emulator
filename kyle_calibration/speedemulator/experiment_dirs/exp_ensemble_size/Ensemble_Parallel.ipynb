{
 "cells": [
  {
   "cell_type": "code",
   "execution_count": 6,
   "id": "4e31f797",
   "metadata": {},
   "outputs": [],
   "source": [
    "#!/bin/env python3\n",
    "\n",
    "from argparse import ArgumentParser\n",
    "from ast import Str\n",
    "\n",
    "import numpy as np\n",
    "import os\n",
    "from os.path import join\n",
    "\n",
    "from pathlib import Path\n",
    "\n",
    "import pandas as pd\n",
    "import pylab as plt\n",
    "import random\n",
    "import time\n",
    "import warnings\n",
    "\n",
    "from matplotlib.ticker import NullFormatter\n",
    "from matplotlib.patches import Polygon\n",
    "from matplotlib.lines import Line2D\n",
    "\n",
    "\n",
    "# wrapper for pylab, designed to do statistical plots using pandas dataframe \n",
    "\n",
    "from scipy.stats import beta, gaussian_kde\n",
    "\n",
    "\n",
    "import sys\n",
    "sys.path.append('/home/kblum/local/pism/sources/pism-emulator/')\n",
    "\n",
    "from pismemulator.utils import param_keys_dict as keys_dict\n",
    "from pismemulator.utils import kl_divergence\n",
    "from pismemulator.kyle_utils import plot_random_groups, plot_posteriors, kl_divergences\n",
    "\n",
    "import seaborn as sns\n",
    "\n"
   ]
  },
  {
   "cell_type": "code",
   "execution_count": 7,
   "id": "d62c3f50",
   "metadata": {},
   "outputs": [],
   "source": [
    "# Work in progess, this notebook is meant to plot several different randomly selected ensembles, subsets of the 200 that are avaiable"
   ]
  },
  {
   "cell_type": "code",
   "execution_count": 8,
   "id": "03c9ecc6",
   "metadata": {},
   "outputs": [
    {
     "name": "stdout",
     "output_type": "stream",
     "text": [
      "pp\n",
      "Loading prior samples\n",
      "\n"
     ]
    }
   ],
   "source": [
    "emulator_dirs = ['/data/work/antarctica_calibration/speedemulator/legacy_dirs/2021_11_pseudo_plastic_kb']\n",
    "samples_files = {}\n",
    "\n",
    "rc_samples_file = \"/data/work/antarctica_calibration/speed_calibration_regularized_coulomb_128.csv\"\n",
    "pp_samples_file = \"/data/work/antarctica_calibration/speed_calibration_pseudo_plastic_128.csv\"\n",
    "\n",
    "for emulator_dir in emulator_dirs:\n",
    "    # This is janky, should find a better way to do this\n",
    "    if 'rc_' in emulator_dir:\n",
    "        samples_files[emulator_dir] = rc_samples_file\n",
    "        print('rc')\n",
    "    else:\n",
    "        samples_files[emulator_dir] = pp_samples_file\n",
    "        print('pp')\n",
    "\n",
    "frac         = 0.1\n",
    "\n",
    "print(\"Loading prior samples\\n\")\n",
    "rc_samples = pd.read_csv(rc_samples_file).drop(columns=[\"id\"])\n",
    "pp_samples = pd.read_csv(pp_samples_file).drop(columns=[\"id\"])\n",
    "\n",
    "X_keys = rc_samples.keys()\n",
    "\n",
    "l_post = []\n"
   ]
  },
  {
   "cell_type": "code",
   "execution_count": 9,
   "id": "45633c8a",
   "metadata": {
    "scrolled": true
   },
   "outputs": [
    {
     "name": "stdout",
     "output_type": "stream",
     "text": [
      "Loading posterior samples\n",
      "\n",
      "Merging posteriors into dataframe\n"
     ]
    }
   ],
   "source": [
    "posterior_dfs = []\n",
    "df_models     = []\n",
    "titles        = []\n",
    "for emulator_dir in emulator_dirs:\n",
    "    X_list = []\n",
    "    p = Path(f\"{emulator_dir}/posterior_samples/\")\n",
    "    print(\"Loading posterior samples\\n\")\n",
    "    for m, m_file in enumerate(sorted(p.glob(\"X_posterior_model_*.csv.gz\"))):\n",
    "        #print(f\"  -- {m_file}\")\n",
    "        df = pd.read_csv(m_file).sample(frac=frac)\n",
    "        if \"Unnamed: 0\" in df.columns:\n",
    "            df.drop(columns=[\"Unnamed: 0\"], inplace=True)\n",
    "        model = m_file.name.split(\"_\")[-1].split(\".\")[0]\n",
    "        df[\"Model\"] = int(model)\n",
    "        X_list.append(df)\n",
    "\n",
    "    print(f\"Merging posteriors into dataframe\")\n",
    "    posterior_df = pd.concat(X_list)\n",
    "    posterior_dfs.append(posterior_df)\n",
    "    #X_posterior = posterior_df.drop(columns=[\"Model\"]).values\n",
    "    models = posterior_df['Model'].unique()\n",
    "    df_models.append(models)\n",
    "    titles.append(emulator_dir)\n",
    "\n"
   ]
  },
  {
   "cell_type": "code",
   "execution_count": 10,
   "id": "5d04d8f5",
   "metadata": {},
   "outputs": [
    {
     "name": "stderr",
     "output_type": "stream",
     "text": [
      "/home/kblum/local/pism/sources/pism-emulator/pismemulator/utils.py:693: RuntimeWarning: divide by zero encountered in true_divide\n",
      "  np.logical_and(np.logical_and(p != 0, q != 0), np.isfinite(p / q)),\n",
      "/home/kblum/local/pism/sources/pism-emulator/pismemulator/utils.py:694: RuntimeWarning: divide by zero encountered in true_divide\n",
      "  p * np.log(p / q),\n",
      "/home/kblum/local/pism/sources/pism-emulator/pismemulator/utils.py:693: RuntimeWarning: divide by zero encountered in true_divide\n",
      "  np.logical_and(np.logical_and(p != 0, q != 0), np.isfinite(p / q)),\n",
      "/home/kblum/local/pism/sources/pism-emulator/pismemulator/utils.py:694: RuntimeWarning: divide by zero encountered in true_divide\n",
      "  p * np.log(p / q),\n",
      "/home/kblum/local/pism/sources/pism-emulator/pismemulator/utils.py:693: RuntimeWarning: divide by zero encountered in true_divide\n",
      "  np.logical_and(np.logical_and(p != 0, q != 0), np.isfinite(p / q)),\n",
      "/home/kblum/local/pism/sources/pism-emulator/pismemulator/utils.py:694: RuntimeWarning: divide by zero encountered in true_divide\n",
      "  p * np.log(p / q),\n",
      "/home/kblum/local/pism/sources/pism-emulator/pismemulator/utils.py:693: RuntimeWarning: divide by zero encountered in true_divide\n",
      "  np.logical_and(np.logical_and(p != 0, q != 0), np.isfinite(p / q)),\n",
      "/home/kblum/local/pism/sources/pism-emulator/pismemulator/utils.py:694: RuntimeWarning: divide by zero encountered in true_divide\n",
      "  p * np.log(p / q),\n"
     ]
    },
    {
     "name": "stdout",
     "output_type": "stream",
     "text": [
      "Program finished in 73.45968066412024 seconds\n"
     ]
    }
   ],
   "source": [
    "import time\n",
    "from joblib import Parallel, delayed\n",
    "\n",
    "def kl_divergences_p(df=None, variables=None, models=None, per_group=10, num_groups=10):\n",
    "    # df : data frame of all models for true avg\n",
    "    # vars: list of variable (column) names\n",
    "    # models: list of available models (0,1,2 ...)\n",
    "    # num_groups: number of ensembles\n",
    "    # per_group: number of emulators per ensemble\n",
    "\n",
    "    divs = {}\n",
    "    groups = []\n",
    "\n",
    "    random.seed(8675309)\n",
    "    for i in range(num_groups):\n",
    "        groups.append(random.sample(sorted(models), per_group))\n",
    "    bar = 0\n",
    "    for m_var in variables:\n",
    "        kl_average = 0\n",
    "        p = np.histogram(df[m_var], bins=30,density=True)[0]\n",
    "        for group in groups:\n",
    "            temp = df[df['Model'].isin(group)]\n",
    "            q = np.histogram(temp[m_var],bins=30,density=True)[0]\n",
    "            kl_average += np.abs(kl_divergence(p,q))\n",
    "        kl_average  = kl_average / num_groups\n",
    "        divs[m_var] = kl_average\n",
    "    return (per_group, divs)\n",
    "\n",
    "n_jobs = 4\n",
    "start_time = time.perf_counter()\n",
    "result = Parallel(n_jobs=n_jobs)(delayed(kl_divergences_p)(df=posterior_dfs[0], variables=X_keys, \n",
    "                                                         per_group=i, \n",
    "                                                         models=models, num_groups=20) for i in range(1, 50))\n",
    "finish_time = time.perf_counter()\n",
    "print(f\"Program finished in {finish_time-start_time} seconds\")\n",
    "kld_df = pd.concat([pd.DataFrame(data=result[i][1], index=[result[i][0]]) for i in range(len(result))])"
   ]
  },
  {
   "cell_type": "code",
   "execution_count": null,
   "id": "f72d184b",
   "metadata": {},
   "outputs": [],
   "source": []
  }
 ],
 "metadata": {
  "kernelspec": {
   "display_name": "Python 3 (ipykernel)",
   "language": "python",
   "name": "python3"
  },
  "language_info": {
   "codemirror_mode": {
    "name": "ipython",
    "version": 3
   },
   "file_extension": ".py",
   "mimetype": "text/x-python",
   "name": "python",
   "nbconvert_exporter": "python",
   "pygments_lexer": "ipython3",
   "version": "3.10.6"
  },
  "vscode": {
   "interpreter": {
    "hash": "916dbcbb3f70747c44a77c7bcd40155683ae19c65e1c03b4aa3499c5328201f1"
   }
  }
 },
 "nbformat": 4,
 "nbformat_minor": 5
}
