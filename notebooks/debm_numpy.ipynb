{
 "cells": [
  {
   "cell_type": "code",
   "execution_count": 1,
   "id": "9d4ba4c0-bce6-4f92-943b-ce0b7e2b6bd2",
   "metadata": {},
   "outputs": [],
   "source": [
    "import numpy as np\n",
    "import torch\n",
    "from numpy.testing import assert_almost_equal, assert_array_almost_equal\n",
    "\n",
    "from pism_emulator.models.debm import DEBMModel"
   ]
  },
  {
   "cell_type": "code",
   "execution_count": 2,
   "id": "0979f2e2-53c4-4644-8292-9553683f5bae",
   "metadata": {},
   "outputs": [],
   "source": [
    "debm = DEBMModel()"
   ]
  },
  {
   "cell_type": "code",
   "execution_count": 3,
   "id": "955dc4ae-5137-4bdd-8580-636482ec3a10",
   "metadata": {},
   "outputs": [],
   "source": [
    "    eccentricity = np.array([0.0167, 0.03])\n",
    "    obliquity = np.deg2rad(np.array([23.14, 22.10]))\n",
    "    perihelion_longitude = np.deg2rad(np.array([102.94719, -44.3]))\n",
    "    debm = DEBMModel()\n",
    "    d = debm.distance_factor_paleo(eccentricity, perihelion_longitude, obliquity)\n"
   ]
  },
  {
   "cell_type": "code",
   "execution_count": 4,
   "id": "2f52f0f6-b196-4b36-b021-1731b4e62661",
   "metadata": {},
   "outputs": [],
   "source": [
    "    solar_constant = np.array([1361.0])\n",
    "    distance_factor = np.array([1.1])\n",
    "    hour_angle = np.array([0.8])\n",
    "    latitude = np.array([np.pi / 4])\n",
    "    declination = np.array([np.pi / 8])\n",
    "\n",
    "    debm = DEBMModel()\n",
    "    insolation = debm.insolation(solar_constant, distance_factor, hour_angle, latitude, declination)\n"
   ]
  },
  {
   "cell_type": "code",
   "execution_count": 5,
   "id": "319cf389-bae4-4937-bd29-aa509ba314dd",
   "metadata": {
    "scrolled": true
   },
   "outputs": [
    {
     "data": {
      "text/plain": [
       "{'declination': array([0.083785]), 'distance_factor': array([1.000671])}"
      ]
     },
     "execution_count": 5,
     "metadata": {},
     "output_type": "execute_result"
    }
   ],
   "source": [
    "time = np.array([2022.25])\n",
    "debm = DEBMModel()\n",
    "debm.orbital_parameters(time)"
   ]
  },
  {
   "cell_type": "code",
   "execution_count": 6,
   "id": "5fc38abc-236c-45bb-91be-9ca20f7f7f2b",
   "metadata": {},
   "outputs": [
    {
     "data": {
      "text/plain": [
       "{'declination': array([0.07843061]), 'distance_factor': array([0.99889585])}"
      ]
     },
     "execution_count": 6,
     "metadata": {},
     "output_type": "execute_result"
    }
   ],
   "source": [
    "debm = DEBMModel(paleo_enabled=True)\n",
    "debm.orbital_parameters(time)"
   ]
  },
  {
   "cell_type": "code",
   "execution_count": 7,
   "id": "f14597b4-1a61-414e-85fa-d5cb15063966",
   "metadata": {},
   "outputs": [],
   "source": [
    "debm = DEBMModel()\n",
    "elevation = np.array([0.0, 1000.0, 2000.0])\n",
    "transmissivity = debm.atmosphere_transmissivity(elevation)\n"
   ]
  },
  {
   "cell_type": "code",
   "execution_count": 8,
   "id": "3c96a33b-2a8a-4213-b79d-345573dbc100",
   "metadata": {},
   "outputs": [
    {
     "data": {
      "text/plain": [
       "array([0.65 , 0.682, 0.714])"
      ]
     },
     "execution_count": 8,
     "metadata": {},
     "output_type": "execute_result"
    }
   ],
   "source": [
    "transmissivity"
   ]
  },
  {
   "cell_type": "code",
   "execution_count": 9,
   "id": "1306a7a1-217b-40b5-8740-76acd1711dbd",
   "metadata": {},
   "outputs": [],
   "source": [
    "melt_rate = np.array([1.])\n",
    "debm = DEBMModel()\n",
    "albedo = debm.albedo(melt_rate)\n"
   ]
  },
  {
   "cell_type": "code",
   "execution_count": 10,
   "id": "470a841c-08a6-4c41-aa3f-535ccf0d9a41",
   "metadata": {},
   "outputs": [
    {
     "data": {
      "text/plain": [
       "array([0.47])"
      ]
     },
     "execution_count": 10,
     "metadata": {},
     "output_type": "execute_result"
    }
   ],
   "source": [
    "albedo"
   ]
  },
  {
   "cell_type": "code",
   "execution_count": 11,
   "id": "9112b809-92fc-4ccf-b46d-37b39df88425",
   "metadata": {},
   "outputs": [],
   "source": [
    "#    pism_config:surface.debm_simple.albedo_slope_units = \"m2 s kg-1\";\n"
   ]
  },
  {
   "cell_type": "code",
   "execution_count": 12,
   "id": "e006681a-ce8d-4552-98ef-b8aed35f68e8",
   "metadata": {},
   "outputs": [],
   "source": [
    "\n",
    "import numpy as np\n",
    "import torch\n",
    "from numpy.testing import assert_array_almost_equal\n",
    "import xarray as xr\n",
    "\n",
    "from pism_emulator.models.pdd import ReferencePDDModel, TorchPDDModel\n",
    "\n",
    "\n",
    "def make_fake_climate() -> tuple[np.ndarray, np.ndarray, np.ndarray]:\n",
    "    \"\"\"\n",
    "    Make fake climate to test surface models\n",
    "    \"\"\"\n",
    "\n",
    "    temp = np.array(\n",
    "        [\n",
    "            [-3.12],\n",
    "            [-2.41],\n",
    "            [-0.62],\n",
    "            [1.93],\n",
    "            [4.41],\n",
    "            [6.20],\n",
    "            [6.91],\n",
    "            [6.21],\n",
    "            [4.40],\n",
    "            [1.92],\n",
    "            [-0.61],\n",
    "            [-2.41],\n",
    "        ],\n",
    "    )\n",
    "    precip = np.array(\n",
    "        [\n",
    "            [1.58],\n",
    "            [1.47],\n",
    "            [1.18],\n",
    "            [0.79],\n",
    "            [0.39],\n",
    "            [0.11],\n",
    "            [-0.01],\n",
    "            [0.10],\n",
    "            [0.39],\n",
    "            [0.79],\n",
    "            [1.18],\n",
    "            [1.47],\n",
    "        ],\n",
    "        dtype=np.float64,\n",
    "    )\n",
    "    sd = np.array(\n",
    "        [\n",
    "            [0.0],\n",
    "            [0.18],\n",
    "            [0.70],\n",
    "            [1.40],\n",
    "            [2.11],\n",
    "            [2.61],\n",
    "            [2.81],\n",
    "            [2.61],\n",
    "            [2.10],\n",
    "            [1.40],\n",
    "            [0.72],\n",
    "            [0.18],\n",
    "        ],\n",
    "    )\n",
    "    return temp, precip, sd\n",
    "\n",
    "\n",
    "def make_fake_climate_2d(filename=None):\n",
    "    \"\"\"Create an artificial temperature and precipitation file.\n",
    "\n",
    "    This function is used if pypdd.py is called as a script without an input\n",
    "    file. The file produced contains an idealized, three-dimensional (t, x, y)\n",
    "    distribution of near-surface air temperature, precipitation rate and\n",
    "    standard deviation of near-surface air temperature to be read by\n",
    "    `PDDModel.nco`.\n",
    "\n",
    "    filename: str, optional\n",
    "        Name of output file.\n",
    "    \"\"\"\n",
    "\n",
    "    ATTRIBUTES = {\n",
    "\n",
    "        # coordinate variables\n",
    "        'x': {\n",
    "            'axis': 'X',\n",
    "            'long_name': 'x-coordinate in Cartesian system',\n",
    "            'standard_name': 'projection_x_coordinate',\n",
    "            'units': 'm'},\n",
    "        'y': {\n",
    "            'axis': 'Y',\n",
    "            'long_name': 'y-coordinate in Cartesian system',\n",
    "            'standard_name': 'projection_y_coordinate',\n",
    "            'units': 'm'},\n",
    "        'time': {\n",
    "            'axis': 'T',\n",
    "            'long_name': 'time',\n",
    "            'standard_name': 'time',\n",
    "            'bounds': 'time_bounds',\n",
    "            'units': 'yr'},\n",
    "        'time_bounds': {},\n",
    "\n",
    "        # climatic variables\n",
    "        'temp': {\n",
    "            'long_name': 'near-surface air temperature',\n",
    "            'units':     'degC'},\n",
    "        'prec': {\n",
    "            'long_name': 'ice-equivalent precipitation rate',\n",
    "            'units':     'm yr-1'},\n",
    "        'stdv': {\n",
    "            'long_name': 'standard deviation of near-surface air temperature',\n",
    "            'units':     'K'},\n",
    "\n",
    "        # cumulative quantities\n",
    "        'smb': {\n",
    "            'standard_name': 'land_ice_surface_specific_mass_balance',\n",
    "            'long_name': 'cumulative ice-equivalent surface mass balance',\n",
    "            'units':     'm yr-1'},\n",
    "        'pdd': {\n",
    "            'long_name': 'cumulative number of positive degree days',\n",
    "            'units':     'degC day'},\n",
    "        'accu': {\n",
    "            'long_name': 'cumulative ice-equivalent surface accumulation',\n",
    "            'units':     'm'},\n",
    "        'snow_melt': {\n",
    "            'long_name': 'cumulative ice-equivalent surface melt of snow',\n",
    "            'units':     'm'},\n",
    "        'ice_melt': {\n",
    "            'long_name': 'cumulative ice-equivalent surface melt of ice',\n",
    "            'units':     'm'},\n",
    "        'melt': {\n",
    "            'long_name': 'cumulative ice-equivalent surface melt',\n",
    "            'units':     'm'},\n",
    "        'runoff': {\n",
    "            'long_name': 'cumulative ice-equivalent surface meltwater runoff',\n",
    "            'units':     'm yr-1'},\n",
    "\n",
    "        # instantaneous quantities\n",
    "        'inst_pdd': {\n",
    "            'long_name': 'instantaneous positive degree days',\n",
    "            'units':     'degC day'},\n",
    "        'accu_rate': {\n",
    "            'long_name': 'instantaneous ice-equivalent surface accumulation rate',\n",
    "            'units':     'm yr-1'},\n",
    "        'snow_melt_rate': {\n",
    "            'long_name': 'instantaneous ice-equivalent surface melt rate of snow',\n",
    "            'units':     'm yr-1'},\n",
    "        'ice_melt_rate': {\n",
    "            'long_name': 'instantaneous ice-equivalent surface melt rate of ice',\n",
    "            'units':     'm yr-1'},\n",
    "        'melt_rate': {\n",
    "            'long_name': 'instantaneous ice-equivalent surface melt rate',\n",
    "            'units':     'm yr-1'},\n",
    "        'runoff_rate': {\n",
    "            'long_name': 'instantaneous ice-equivalent surface runoff rate',\n",
    "            'units':     'm yr-1'},\n",
    "        'inst_smb': {\n",
    "            'long_name': 'instantaneous ice-equivalent surface mass balance',\n",
    "            'units':     'm yr-1'},\n",
    "        'snow_depth': {\n",
    "            'long_name': 'depth of snow cover',\n",
    "            'units':     'm'}}\n",
    "\n",
    "    # FIXME code could be simplified a lot more but we need a better test not\n",
    "    # relying on exact reproducibility of this toy climate data.\n",
    "\n",
    "    # assign coordinate values\n",
    "    lx = ly = 750000\n",
    "    x = xr.DataArray(np.linspace(-lx, lx, 201, dtype='f4'), dims='x')\n",
    "    y = xr.DataArray(np.linspace(-ly, ly, 201, dtype='f4'), dims='y')\n",
    "    time = xr.DataArray((np.arange(12, dtype='f4')+0.5) / 12, dims='time')\n",
    "    tboundsvar = np.empty((12, 2), dtype='f4')\n",
    "    tboundsvar[:, 0] = time[:] - 1.0/24\n",
    "    tboundsvar[:, 1] = time[:] + 1.0/24\n",
    "\n",
    "    # seasonality index from winter to summer\n",
    "    season = xr.DataArray(-np.cos(np.arange(12)*2*np.pi/12), dims='time')\n",
    "\n",
    "    # order of operation is dictated by test md5sum and legacy f4 dtype\n",
    "    temp = 5 * season - 10 * x / lx + 0 * y\n",
    "    prec = y / ly * (season.astype('f4') + 0 * x + np.sign(y))\n",
    "    stdv = (2+y/ly-x/lx) * (1+season)\n",
    "\n",
    "    # this is also why transpose is needed here, and final type conversion\n",
    "    temp = temp.transpose('time', 'x', 'y').astype('f4')\n",
    "    prec = prec.transpose('time', 'x', 'y').astype('f4')\n",
    "    stdv = stdv.transpose('time', 'x', 'y').astype('f4')\n",
    "\n",
    "    # assign variable attributes\n",
    "    temp.attrs.update(ATTRIBUTES['temp'])\n",
    "    prec.attrs.update(ATTRIBUTES['prec'])\n",
    "    stdv.attrs.update(ATTRIBUTES['stdv'])\n",
    "\n",
    "    # make a dataset\n",
    "    ds = xr.Dataset(\n",
    "        data_vars={'temp': temp, 'prec': prec, 'stdv': stdv},\n",
    "        coords={\n",
    "            'time': time, 'x': x, 'y': y,\n",
    "            'time_bounds': (['time', 'nv'], tboundsvar[:]),\n",
    "        },\n",
    "    )\n",
    "\n",
    "    # write dataset to file\n",
    "    if filename is not None:\n",
    "        ds.to_netcdf(filename)\n",
    "\n",
    "    # return dataset\n",
    "    return ds\n",
    "\n",
    "def test_torch_model():\n",
    "    \"\"\"\n",
    "    Test the TorchPDDModel by comparing it to the ReferencePDDModel\n",
    "    \"\"\"\n",
    "    temp, precip, sd = make_fake_climate()\n",
    "\n",
    "    pdd_ref = ReferencePDDModel(\n",
    "        pdd_factor_snow=0.003,\n",
    "        pdd_factor_ice=0.008,\n",
    "        refreeze_snow=0.6,\n",
    "        refreeze_ice=0.1,\n",
    "        temp_snow=0.0,\n",
    "        temp_rain=2.0,\n",
    "        interpolate_rule=\"linear\",\n",
    "        interpolate_n=52,\n",
    "    )\n",
    "    result_ref = pdd_ref(temp, precip, sd)\n",
    "\n",
    "    pdd_torch = TorchPDDModel(\n",
    "        pdd_factor_snow=3.0,\n",
    "        pdd_factor_ice=8.0,\n",
    "        refreeze_snow=0.6,\n",
    "        refreeze_ice=0.1,\n",
    "        temp_snow=0.0,\n",
    "        temp_rain=2.0,\n",
    "        interpolate_rule=\"linear\",\n",
    "        interpolate_n=52,\n",
    "    )\n",
    "    result_torch = pdd_torch.forward(temp, precip, sd)\n",
    "\n",
    "    for m_var in [\n",
    "        \"temp\",\n",
    "        \"prec\",\n",
    "        \"accumulation_rate\",\n",
    "        \"inst_pdd\",\n",
    "        \"snow_depth\",\n",
    "        \"snow_melt_rate\",\n",
    "        \"ice_melt_rate\",\n",
    "        \"melt_rate\",\n",
    "        \"smb\",\n",
    "    ]:\n",
    "        print(f\"Comparing Reference and Torch implementation for variable {m_var}\")\n",
    "        assert_array_almost_equal(result_ref[m_var], result_torch[m_var], decimal=3)\n",
    "\n",
    "def test_torch_model_2d():\n",
    "    \"\"\"\n",
    "    Test the TorchPDDModel by comparing it to the ReferencePDDModel\n",
    "    \"\"\"\n",
    "    ds = make_fake_climate_2d()\n",
    "    \n",
    "    temp = ds[\"temp\"].to_numpy()\n",
    "    precip = ds[\"prec\"].to_numpy()\n",
    "    sd = ds[\"stdv\"].to_numpy()\n",
    "\n",
    "    pdd_ref = ReferencePDDModel(\n",
    "        pdd_factor_snow=0.003,\n",
    "        pdd_factor_ice=0.008,\n",
    "        refreeze_snow=0.6,\n",
    "        refreeze_ice=0.1,\n",
    "        temp_snow=0.0,\n",
    "        temp_rain=2.0,\n",
    "        interpolate_rule=\"linear\",\n",
    "        interpolate_n=52,\n",
    "    )\n",
    "    result_ref = pdd_ref(temp, precip, sd)\n",
    "\n",
    "    pdd_torch = TorchPDDModel(\n",
    "        pdd_factor_snow=3.0,\n",
    "        pdd_factor_ice=8.0,\n",
    "        refreeze_snow=0.6,\n",
    "        refreeze_ice=0.1,\n",
    "        temp_snow=0.0,\n",
    "        temp_rain=2.0,\n",
    "        interpolate_rule=\"linear\",\n",
    "        interpolate_n=52,\n",
    "    )\n",
    "    result_torch = pdd_torch.forward(temp, precip, sd)\n",
    "\n",
    "    for m_var in [\n",
    "        \"temp\",\n",
    "        \"prec\",\n",
    "        \"accumulation_rate\",\n",
    "        \"inst_pdd\",\n",
    "        \"snow_depth\",\n",
    "        \"snow_melt_rate\",\n",
    "        \"ice_melt_rate\",\n",
    "        \"melt_rate\",\n",
    "        \"smb\",\n",
    "    ]:\n",
    "        print(f\"Comparing Reference and Torch implementation for variable {m_var}\")\n",
    "        assert_array_almost_equal(result_ref[m_var], result_torch[m_var], decimal=3)\n",
    "\n"
   ]
  },
  {
   "cell_type": "code",
   "execution_count": 13,
   "id": "69fafd0c-4de4-4bba-8a80-29d2a767c16a",
   "metadata": {},
   "outputs": [],
   "source": [
    "    ds = make_fake_climate_2d()\n",
    "    \n",
    "    temp = ds[\"temp\"].to_numpy()\n",
    "    temp_K = ds[\"temp\"].to_numpy() + 273.15\n",
    "    precip = ds[\"prec\"].to_numpy()\n",
    "    sd = ds[\"stdv\"].to_numpy()\n",
    "\n",
    "    pdd_ref = ReferencePDDModel(\n",
    "        pdd_factor_snow=0.003,\n",
    "        pdd_factor_ice=0.008,\n",
    "        refreeze_snow=0.6,\n",
    "        refreeze_ice=0.1,\n",
    "        temp_snow=0.0,\n",
    "        temp_rain=2.0,\n",
    "        interpolate_rule=\"linear\",\n",
    "        interpolate_n=52,\n",
    "    )\n",
    "    result_ref = pdd_ref(temp, precip, sd)"
   ]
  },
  {
   "cell_type": "code",
   "execution_count": 14,
   "id": "67770bce-ef53-462c-8182-ea47ad6f6556",
   "metadata": {},
   "outputs": [
    {
     "data": {
      "text/plain": [
       "<matplotlib.colorbar.Colorbar at 0x7f6ef5403b50>"
      ]
     },
     "execution_count": 14,
     "metadata": {},
     "output_type": "execute_result"
    },
    {
     "data": {
      "image/png": "[encoded data removed]",
      "text/plain": [
       "<Figure size 640x480 with 2 Axes>"
      ]
     },
     "metadata": {},
     "output_type": "display_data"
    }
   ],
   "source": [
    "import pylab as plt\n",
    "\n",
    "plt.imshow(result_ref[\"snow_depth\"][0])\n",
    "plt.colorbar()"
   ]
  },
  {
   "cell_type": "code",
   "execution_count": 15,
   "id": "fe3b7d43-3ee9-4b69-95a5-a4db6bd9aeb9",
   "metadata": {},
   "outputs": [],
   "source": [
    "debm = DEBMModel()\n",
    "surface_elevation = np.zeros_like(temp) + 10\n",
    "latitude = np.zeros_like(temp) \n",
    "albedo = np.zeros_like(temp) + 0.47"
   ]
  },
  {
   "cell_type": "code",
   "execution_count": 16,
   "id": "1085a008-63cb-4562-a2f0-4857c805eaba",
   "metadata": {},
   "outputs": [
    {
     "name": "stderr",
     "output_type": "stream",
     "text": [
      "/home/andy/base/pism-emulator/pism_emulator/models/debm.py:703: RuntimeWarning: divide by zero encountered in divide\n",
      "  Z = temperature / (np.sqrt(2.0) * sigma)\n"
     ]
    },
    {
     "ename": "IndexError",
     "evalue": "index 12 is out of bounds for axis 0 with size 12",
     "output_type": "error",
     "traceback": [
      "\u001b[0;31m---------------------------------------------------------------------------\u001b[0m",
      "\u001b[0;31mIndexError\u001b[0m                                Traceback (most recent call last)",
      "Cell \u001b[0;32mIn[16], line 1\u001b[0m\n\u001b[0;32m----> 1\u001b[0m result_debm \u001b[38;5;241m=\u001b[39m \u001b[43mdebm\u001b[49m\u001b[43m(\u001b[49m\u001b[43mtemp_K\u001b[49m\u001b[43m,\u001b[49m\u001b[43m \u001b[49m\u001b[43msd\u001b[49m\u001b[43m,\u001b[49m\u001b[43m \u001b[49m\u001b[43mprecip\u001b[49m\u001b[43m,\u001b[49m\u001b[43m \u001b[49m\u001b[43msurface_elevation\u001b[49m\u001b[43m,\u001b[49m\u001b[43m \u001b[49m\u001b[43mlatitude\u001b[49m\u001b[43m)\u001b[49m\n",
      "File \u001b[0;32m~/base/pism-emulator/pism_emulator/models/debm.py:494\u001b[0m, in \u001b[0;36mDEBMModel.__call__\u001b[0;34m(self, temperature, temperature_std_deviation, precipitation, surface_elevation, latitude)\u001b[0m\n\u001b[1;32m    492\u001b[0m     runoff \u001b[38;5;241m+\u001b[39m\u001b[38;5;241m=\u001b[39m changes[\u001b[38;5;124m\"\u001b[39m\u001b[38;5;124mrunoff\u001b[39m\u001b[38;5;124m\"\u001b[39m]\n\u001b[1;32m    493\u001b[0m     smb \u001b[38;5;241m+\u001b[39m\u001b[38;5;241m=\u001b[39m changes[\u001b[38;5;124m\"\u001b[39m\u001b[38;5;124msmb\u001b[39m\u001b[38;5;124m\"\u001b[39m]\n\u001b[0;32m--> 494\u001b[0m     albedo \u001b[38;5;241m+\u001b[39m\u001b[38;5;241m=\u001b[39m \u001b[38;5;28mself\u001b[39m\u001b[38;5;241m.\u001b[39malbedo(\u001b[43mmelt\u001b[49m\u001b[43m[\u001b[49m\u001b[43mi\u001b[49m\u001b[43m]\u001b[49m \u001b[38;5;241m/\u001b[39m dt)  \u001b[38;5;66;03m## ????\u001b[39;00m\n\u001b[1;32m    496\u001b[0m result \u001b[38;5;241m=\u001b[39m {\n\u001b[1;32m    497\u001b[0m     \u001b[38;5;124m\"\u001b[39m\u001b[38;5;124mtemperature\u001b[39m\u001b[38;5;124m\"\u001b[39m: temperature,\n\u001b[1;32m    498\u001b[0m     \u001b[38;5;124m\"\u001b[39m\u001b[38;5;124mprecipitation\u001b[39m\u001b[38;5;124m\"\u001b[39m: precipitation,\n\u001b[0;32m   (...)\u001b[0m\n\u001b[1;32m    506\u001b[0m     \u001b[38;5;124m\"\u001b[39m\u001b[38;5;124maccumulation\u001b[39m\u001b[38;5;124m\"\u001b[39m: \u001b[38;5;28mself\u001b[39m\u001b[38;5;241m.\u001b[39m_integrate(accumulation),\n\u001b[1;32m    507\u001b[0m }\n\u001b[1;32m    509\u001b[0m \u001b[38;5;28;01mreturn\u001b[39;00m result\n",
      "\u001b[0;31mIndexError\u001b[0m: index 12 is out of bounds for axis 0 with size 12"
     ]
    }
   ],
   "source": [
    "result_debm = debm(temp_K, sd, precip, surface_elevation, latitude)"
   ]
  },
  {
   "cell_type": "code",
   "execution_count": null,
   "id": "1576d404-71a6-4fff-b46d-32a1e09adfb4",
   "metadata": {},
   "outputs": [],
   "source": [
    "plt.imshow(result_debm[\"temperature\"][0]-273.15, origin=\"lower\")\n",
    "plt.colorbar()"
   ]
  },
  {
   "cell_type": "code",
   "execution_count": null,
   "id": "1cf116a3-7794-4a63-af6f-c2f6dab421e9",
   "metadata": {},
   "outputs": [],
   "source": [
    "diff = result_ref[\"temp\"][0]-(result_debm[\"temperature\"][0]-273.15)\n",
    "plt.imshow(diff, origin=\"lower\")\n",
    "plt.colorbar()\n",
    "print(diff.min(), diff.max())"
   ]
  },
  {
   "cell_type": "code",
   "execution_count": null,
   "id": "9068fd3a-1963-46f7-ac37-d7d016560fac",
   "metadata": {},
   "outputs": [],
   "source": [
    "diff = result_ref[\"snow_depth\"][0]-(result_debm[\"snow_depth\"][0])\n",
    "plt.imshow(diff, origin=\"lower\")\n",
    "plt.colorbar()\n",
    "print(diff.min(), diff.max())"
   ]
  },
  {
   "cell_type": "code",
   "execution_count": null,
   "id": "183b6667-2168-44bc-8983-0d2a95e445e8",
   "metadata": {},
   "outputs": [],
   "source": [
    "diff = result_ref[\"accumulation\"]-(result_debm[\"accumulation\"])\n",
    "plt.imshow(diff, origin=\"lower\")\n",
    "plt.colorbar()\n",
    "print(diff.min(), diff.max())"
   ]
  },
  {
   "cell_type": "code",
   "execution_count": null,
   "id": "dce2f21a-c8bc-4f76-8d7a-2d1fac30cff0",
   "metadata": {},
   "outputs": [],
   "source": [
    "m_vars = [\"accumulation\", \"melt\", \"runoff\", \"smb\"]\n",
    "fig, axs = plt.subplots(len(m_vars),3, sharex=True, figsize=(24,24))\n",
    "for k, m_var in enumerate(m_vars):\n",
    "    axs[k, 0].imshow(result_ref[m_var], origin=\"lower\")\n",
    "    axs[k, 1].imshow(result_debm[m_var], origin=\"lower\")\n",
    "    dc = axs[k, 2].imshow(result_ref[m_var]-result_debm[m_var], origin=\"lower\")\n",
    "    plt.colorbar(dc)"
   ]
  },
  {
   "cell_type": "code",
   "execution_count": null,
   "id": "ab792523-f7b1-43bb-83cb-1ffbac0197ea",
   "metadata": {},
   "outputs": [],
   "source": [
    "diff = (result_debm[\"insolation_melt\"] + result_debm[\"temperature_melt\"] + result_debm[\"offset_melt\"]) \n",
    "plt.imshow(diff, origin=\"lower\", vmin=0)\n",
    "plt.colorbar()\n",
    "print(diff.min(), diff.max())"
   ]
  },
  {
   "cell_type": "code",
   "execution_count": null,
   "id": "8262829d-72bc-45ff-b6a5-a7e9a3cdc5d5",
   "metadata": {},
   "outputs": [],
   "source": [
    "diff = result_ref[\"melt\"] / result_debm[\"melt\"]\n",
    "plt.imshow(diff, origin=\"lower\")\n",
    "plt.colorbar()\n",
    "print(diff.min(), diff.max())"
   ]
  },
  {
   "cell_type": "code",
   "execution_count": null,
   "id": "f9aeb7d3-887b-4d93-b3d9-96882d74c3f6",
   "metadata": {},
   "outputs": [],
   "source": [
    "diff = result_debm[\"runoff_rate\"][0]  * debm.seconds_per_year() * 52\n",
    "plt.imshow(result_debm[\"temperature\"][0]-273.15, origin=\"lower\")\n",
    "plt.colorbar()"
   ]
  },
  {
   "cell_type": "code",
   "execution_count": null,
   "id": "57397e6e-ee2b-4b6d-ab92-7237c7ba7deb",
   "metadata": {},
   "outputs": [],
   "source": [
    "diff = result_ref[\"temp\"][0]\n",
    "plt.imshow(diff, origin=\"lower\")\n",
    "plt.colorbar()"
   ]
  },
  {
   "cell_type": "code",
   "execution_count": null,
   "id": "cdfead76-27e0-475a-8b99-ad314780bc5e",
   "metadata": {},
   "outputs": [],
   "source": [
    "diff = result_debm[\"melt_rate\"][0]\n",
    "plt.imshow(diff, origin=\"lower\")\n",
    "plt.colorbar()"
   ]
  },
  {
   "cell_type": "code",
   "execution_count": null,
   "id": "03be58c5-50eb-4933-9e46-6836f10ee447",
   "metadata": {},
   "outputs": [],
   "source": [
    "result_debm[\"melt\"].shape"
   ]
  },
  {
   "cell_type": "code",
   "execution_count": null,
   "id": "ce28553c-21fb-4e35-9a0a-530a05633031",
   "metadata": {},
   "outputs": [],
   "source": [
    "ds[\"temp\"].isel(time=0).plot()"
   ]
  },
  {
   "cell_type": "code",
   "execution_count": null,
   "id": "a63f5f5c-16ea-4b6e-a014-91a2935edf63",
   "metadata": {},
   "outputs": [],
   "source": [
    "plt.imshow(temp[0], vmin=-15, vmax=15, origin=\"lower\", cmap=\"RdBu_r\")\n",
    "plt.colorbar()"
   ]
  },
  {
   "cell_type": "code",
   "execution_count": null,
   "id": "f5bf352d-4491-4e74-8d09-238e4fa185eb",
   "metadata": {},
   "outputs": [],
   "source": [
    "year_fraction = 0\n",
    "dt = 1/ 12\n",
    "temp = 323.0\n",
    "temp_sd = 12.0\n",
    "s = 1000\n",
    "lat = np.pi/4 * 3\n",
    "albedo = 0.47\n",
    "melt_info = debm.melt(temp, temp_sd, albedo, s, lat, year_fraction, dt)\n"
   ]
  },
  {
   "cell_type": "code",
   "execution_count": null,
   "id": "802be6ab-ae13-49ae-bda3-5bcc286f2cb6",
   "metadata": {},
   "outputs": [],
   "source": [
    "make_fake_climate?"
   ]
  },
  {
   "cell_type": "code",
   "execution_count": null,
   "id": "6dcdea65-7c3b-4980-8b95-997d4b11465f",
   "metadata": {},
   "outputs": [],
   "source": [
    "debm.CalovGreveIntegrand(temp_sd, temp_sd - debm.positive_threshold_temp)"
   ]
  },
  {
   "cell_type": "code",
   "execution_count": null,
   "id": "bc6079a0-a979-4eb9-95aa-74ec47d10e0c",
   "metadata": {},
   "outputs": [],
   "source": [
    "year_fraction = 0.\n",
    "dt = 1.0 / 12 \n",
    "temp = 323.0\n",
    "temp_sd = 12.0\n",
    "surface_elevation = 1000\n",
    "latitude = np.pi/4 * 3\n",
    "albedo = 0.47\n",
    "\n",
    "orbital_parameters = debm.orbital_parameters(year_fraction)\n",
    "declination = orbital_parameters[0]\n",
    "distance_factor = orbital_parameters[-1]\n",
    "melt_info = debm.melt(temp, temp_sd, albedo, surface_elevation, latitude, year_fraction, dt)"
   ]
  },
  {
   "cell_type": "code",
   "execution_count": null,
   "id": "b1f1e8d4-68de-41be-bb7d-d9ddb6a948cd",
   "metadata": {},
   "outputs": [],
   "source": [
    "melt_info[\"total_melt\"]"
   ]
  },
  {
   "cell_type": "code",
   "execution_count": null,
   "id": "30e84db5-2b15-4d66-8bda-dfd3913a270f",
   "metadata": {},
   "outputs": [],
   "source": [
    "melt_info"
   ]
  },
  {
   "cell_type": "code",
   "execution_count": null,
   "id": "965449fe-8464-479e-b09e-5507953388b6",
   "metadata": {},
   "outputs": [],
   "source": [
    "plt.imshow(result_debm[\"accumulation\"])\n",
    "plt.colorbar()"
   ]
  },
  {
   "cell_type": "code",
   "execution_count": null,
   "id": "9ac07889-2036-4137-8ca2-b9d4b43783be",
   "metadata": {},
   "outputs": [],
   "source": [
    "plt.imshow(result_ref[\"melt_rate\"][0])\n",
    "plt.colorbar()"
   ]
  },
  {
   "cell_type": "code",
   "execution_count": null,
   "id": "cd9bcddf-f701-49ee-84a6-2dceaf483b3a",
   "metadata": {},
   "outputs": [],
   "source": [
    "plt.imshow(result_debm[\"melt_rate\"][0] * debm.seconds_per_year() * 52)\n",
    "plt.colorbar()"
   ]
  },
  {
   "cell_type": "code",
   "execution_count": null,
   "id": "3a5c0a9f-30df-4e65-beeb-005e2ce0b18b",
   "metadata": {},
   "outputs": [],
   "source": [
    "plt.imshow(result_ref[\"prec\"][0])\n",
    "plt.colorbar()"
   ]
  },
  {
   "cell_type": "code",
   "execution_count": null,
   "id": "1655c7c9-d6e8-455b-9c27-23a2d74dd5e9",
   "metadata": {},
   "outputs": [],
   "source": [
    "plt.imshow(result_debm[\"precipitation\"][0])\n",
    "plt.colorbar()"
   ]
  },
  {
   "cell_type": "code",
   "execution_count": null,
   "id": "9d5dfb63-aac6-4906-83cc-c35a287cabf3",
   "metadata": {},
   "outputs": [],
   "source": [
    "snow_acc = pdd_ref.accumulation_rate(result_debm[\"temperature\"][0], result_debm[\"precipitation\"][0])\n",
    "plt.imshow(snow_acc)\n",
    "plt.colorbar()"
   ]
  },
  {
   "cell_type": "code",
   "execution_count": null,
   "id": "499c2fa8-ae43-459b-b9f9-385e66c54ed0",
   "metadata": {},
   "outputs": [],
   "source": [
    "snow_acc = debm.snow_accumulation(result_debm[\"temperature\"][0], result_debm[\"precipitation\"][0])\n",
    "plt.imshow(snow_acc)\n",
    "plt.colorbar()"
   ]
  },
  {
   "cell_type": "code",
   "execution_count": null,
   "id": "7c3c2e08-de6f-4ee1-8f73-ea6724c2c54d",
   "metadata": {},
   "outputs": [],
   "source": [
    "result_debm[\"temperature\"][0, 0, 0], result_debm[\"precipitation\"][0, 0, 0]"
   ]
  },
  {
   "cell_type": "code",
   "execution_count": null,
   "id": "e1f2a073-2503-4580-881c-026123d06760",
   "metadata": {},
   "outputs": [],
   "source": [
    "pdd_ref.accumulation_rate(result_debm[\"temperature\"][0, 0, 0], result_debm[\"precipitation\"][0, 0, 0])"
   ]
  },
  {
   "cell_type": "code",
   "execution_count": null,
   "id": "58235b64-ee3f-44f5-a4a3-eafeb63cbbef",
   "metadata": {},
   "outputs": [],
   "source": [
    "debm.snow_accumulation(result_debm[\"temperature\"][0, 0, 0], result_debm[\"precipitation\"][0, 0, 0])"
   ]
  },
  {
   "cell_type": "code",
   "execution_count": null,
   "id": "a7786c00-0dd4-4c6a-846f-4d68a07ba6c4",
   "metadata": {},
   "outputs": [],
   "source": [
    "T = np.array([-10, -5, 0, 1, 4, 8])\n",
    "P = np.array([10, 0.2, 1.0, 0.2, 0.1, 0.4])"
   ]
  },
  {
   "cell_type": "code",
   "execution_count": null,
   "id": "9ed8c4e8-d683-4265-8761-3b45ac5f19c8",
   "metadata": {},
   "outputs": [],
   "source": [
    "pdd_ref.accumulation_rate(T, P)"
   ]
  },
  {
   "cell_type": "code",
   "execution_count": null,
   "id": "c667dc69-a1ee-4fe0-bb82-b20e33a015b8",
   "metadata": {},
   "outputs": [],
   "source": [
    "debm.snow_accumulation(T+273.15, P)"
   ]
  },
  {
   "cell_type": "code",
   "execution_count": null,
   "id": "7a129839-d3ff-48db-a823-a2d1e569821f",
   "metadata": {},
   "outputs": [],
   "source": [
    "result_debm[\"snow_depth\"][1]"
   ]
  },
  {
   "cell_type": "code",
   "execution_count": null,
   "id": "80871afb-44e3-4dc7-ad45-08c63459e867",
   "metadata": {},
   "outputs": [],
   "source": [
    "result_ref[\"melt_rate\"][1] / result_debm[\"melt_rate\"][1] / debm.seconds_per_year()"
   ]
  },
  {
   "cell_type": "code",
   "execution_count": null,
   "id": "dd7dc21c-5d29-4ca3-aa92-fe6ecdb1a1dc",
   "metadata": {},
   "outputs": [],
   "source": [
    "from typing import Union"
   ]
  },
  {
   "cell_type": "code",
   "execution_count": null,
   "id": "f8bfdcc6-7aa5-43ae-bd08-c09d211acc97",
   "metadata": {},
   "outputs": [],
   "source": [
    "a[\"a\"]"
   ]
  },
  {
   "cell_type": "code",
   "execution_count": null,
   "id": "5e5a15d8-c558-41bd-bb3c-d49a8ddfa654",
   "metadata": {},
   "outputs": [],
   "source": [
    "1 / 2 /3"
   ]
  },
  {
   "cell_type": "code",
   "execution_count": null,
   "id": "4bd36217-bdcd-4580-bfbc-f42c1c922beb",
   "metadata": {},
   "outputs": [],
   "source": [
    "1 / (2*3)"
   ]
  },
  {
   "cell_type": "code",
   "execution_count": null,
   "id": "999934c8-49e5-4201-a544-25d0e9b31eae",
   "metadata": {},
   "outputs": [],
   "source": []
  }
 ],
 "metadata": {
  "kernelspec": {
   "display_name": "Python 3 (ipykernel)",
   "language": "python",
   "name": "python3"
  },
  "language_info": {
   "codemirror_mode": {
    "name": "ipython",
    "version": 3
   },
   "file_extension": ".py",
   "mimetype": "text/x-python",
   "name": "python",
   "nbconvert_exporter": "python",
   "pygments_lexer": "ipython3",
   "version": "3.11.6"
  }
 },
 "nbformat": 4,
 "nbformat_minor": 5
}
