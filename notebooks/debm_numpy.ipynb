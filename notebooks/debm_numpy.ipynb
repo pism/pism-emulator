{
 "cells": [
  {
   "cell_type": "code",
   "execution_count": null,
   "id": "9d4ba4c0-bce6-4f92-943b-ce0b7e2b6bd2",
   "metadata": {},
   "outputs": [],
   "source": [
    "import numpy as np\n",
    "import torch\n",
    "from numpy.testing import assert_almost_equal, assert_array_almost_equal\n",
    "\n",
    "from pism_emulator.models.debm import DEBMModel, TorchDEBMModel"
   ]
  },
  {
   "cell_type": "code",
   "execution_count": null,
   "id": "0979f2e2-53c4-4644-8292-9553683f5bae",
   "metadata": {},
   "outputs": [],
   "source": [
    "debm = DEBMModel()"
   ]
  },
  {
   "cell_type": "code",
   "execution_count": null,
   "id": "955dc4ae-5137-4bdd-8580-636482ec3a10",
   "metadata": {},
   "outputs": [],
   "source": [
    "    eccentricity = np.array([0.0167, 0.03])\n",
    "    obliquity = np.deg2rad(np.array([23.14, 22.10]))\n",
    "    perihelion_longitude = np.deg2rad(np.array([102.94719, -44.3]))\n",
    "    debm = DEBMModel()\n",
    "    d = debm.distance_factor_paleo(eccentricity, perihelion_longitude, obliquity)\n"
   ]
  },
  {
   "cell_type": "code",
   "execution_count": null,
   "id": "2f52f0f6-b196-4b36-b021-1731b4e62661",
   "metadata": {},
   "outputs": [],
   "source": [
    "    solar_constant = np.array([1361.0])\n",
    "    distance_factor = np.array([1.1])\n",
    "    hour_angle = np.array([0.8])\n",
    "    latitude = np.array([np.pi / 4])\n",
    "    declination = np.array([np.pi / 8])\n",
    "\n",
    "    debm = DEBMModel()\n",
    "    insolation = debm.insolation(solar_constant, distance_factor, hour_angle, latitude, declination)\n"
   ]
  },
  {
   "cell_type": "code",
   "execution_count": null,
   "id": "319cf389-bae4-4937-bd29-aa509ba314dd",
   "metadata": {},
   "outputs": [],
   "source": [
    "time = np.array([2022.25])\n",
    "debm = DEBMModel()\n",
    "debm.orbital_parameters(time)"
   ]
  },
  {
   "cell_type": "code",
   "execution_count": null,
   "id": "5fc38abc-236c-45bb-91be-9ca20f7f7f2b",
   "metadata": {},
   "outputs": [],
   "source": [
    "debm = DEBMModel(paleo_enabled=True)\n",
    "debm.orbital_parameters(time)"
   ]
  },
  {
   "cell_type": "code",
   "execution_count": null,
   "id": "f14597b4-1a61-414e-85fa-d5cb15063966",
   "metadata": {},
   "outputs": [],
   "source": [
    "debm = DEBMModel()\n",
    "elevation = np.array([0.0, 1000.0, 2000.0])\n",
    "transmissivity = debm.atmosphere_transmissivity(elevation)\n"
   ]
  },
  {
   "cell_type": "code",
   "execution_count": null,
   "id": "3c96a33b-2a8a-4213-b79d-345573dbc100",
   "metadata": {},
   "outputs": [],
   "source": [
    "transmissivity"
   ]
  },
  {
   "cell_type": "code",
   "execution_count": null,
   "id": "1306a7a1-217b-40b5-8740-76acd1711dbd",
   "metadata": {},
   "outputs": [],
   "source": [
    "melt_rate = np.array([1.])\n",
    "debm = DEBMModel()\n",
    "albedo = debm.albedo(melt_rate)\n"
   ]
  },
  {
   "cell_type": "code",
   "execution_count": null,
   "id": "470a841c-08a6-4c41-aa3f-535ccf0d9a41",
   "metadata": {},
   "outputs": [],
   "source": [
    "albedo"
   ]
  },
  {
   "cell_type": "code",
   "execution_count": null,
   "id": "9112b809-92fc-4ccf-b46d-37b39df88425",
   "metadata": {},
   "outputs": [],
   "source": [
    "#    pism_config:surface.debm_simple.albedo_slope_units = \"m2 s kg-1\";\n"
   ]
  },
  {
   "cell_type": "code",
   "execution_count": null,
   "id": "e006681a-ce8d-4552-98ef-b8aed35f68e8",
   "metadata": {},
   "outputs": [],
   "source": [
    "\n",
    "import numpy as np\n",
    "import torch\n",
    "from numpy.testing import assert_array_almost_equal\n",
    "import xarray as xr\n",
    "\n",
    "from pism_emulator.models.pdd import ReferencePDDModel, TorchPDDModel\n",
    "\n",
    "\n",
    "def make_fake_climate() -> tuple[np.ndarray, np.ndarray, np.ndarray]:\n",
    "    \"\"\"\n",
    "    Make fake climate to test surface models\n",
    "    \"\"\"\n",
    "\n",
    "    temp = np.array(\n",
    "        [\n",
    "            [-3.12],\n",
    "            [-2.41],\n",
    "            [-0.62],\n",
    "            [1.93],\n",
    "            [4.41],\n",
    "            [6.20],\n",
    "            [6.91],\n",
    "            [6.21],\n",
    "            [4.40],\n",
    "            [1.92],\n",
    "            [-0.61],\n",
    "            [-2.41],\n",
    "        ],\n",
    "    )\n",
    "    precip = np.array(\n",
    "        [\n",
    "            [1.58],\n",
    "            [1.47],\n",
    "            [1.18],\n",
    "            [0.79],\n",
    "            [0.39],\n",
    "            [0.11],\n",
    "            [-0.01],\n",
    "            [0.10],\n",
    "            [0.39],\n",
    "            [0.79],\n",
    "            [1.18],\n",
    "            [1.47],\n",
    "        ],\n",
    "        dtype=np.float64,\n",
    "    )\n",
    "    sd = np.array(\n",
    "        [\n",
    "            [0.0],\n",
    "            [0.18],\n",
    "            [0.70],\n",
    "            [1.40],\n",
    "            [2.11],\n",
    "            [2.61],\n",
    "            [2.81],\n",
    "            [2.61],\n",
    "            [2.10],\n",
    "            [1.40],\n",
    "            [0.72],\n",
    "            [0.18],\n",
    "        ],\n",
    "    )\n",
    "    return temp, precip, sd\n",
    "\n",
    "\n",
    "def make_fake_climate_2d(filename=None):\n",
    "    \"\"\"Create an artificial temperature and precipitation file.\n",
    "\n",
    "    This function is used if pypdd.py is called as a script without an input\n",
    "    file. The file produced contains an idealized, three-dimensional (t, x, y)\n",
    "    distribution of near-surface air temperature, precipitation rate and\n",
    "    standard deviation of near-surface air temperature to be read by\n",
    "    `PDDModel.nco`.\n",
    "\n",
    "    filename: str, optional\n",
    "        Name of output file.\n",
    "    \"\"\"\n",
    "\n",
    "    ATTRIBUTES = {\n",
    "\n",
    "        # coordinate variables\n",
    "        'x': {\n",
    "            'axis': 'X',\n",
    "            'long_name': 'x-coordinate in Cartesian system',\n",
    "            'standard_name': 'projection_x_coordinate',\n",
    "            'units': 'm'},\n",
    "        'y': {\n",
    "            'axis': 'Y',\n",
    "            'long_name': 'y-coordinate in Cartesian system',\n",
    "            'standard_name': 'projection_y_coordinate',\n",
    "            'units': 'm'},\n",
    "        'time': {\n",
    "            'axis': 'T',\n",
    "            'long_name': 'time',\n",
    "            'standard_name': 'time',\n",
    "            'bounds': 'time_bounds',\n",
    "            'units': 'yr'},\n",
    "        'time_bounds': {},\n",
    "\n",
    "        # climatic variables\n",
    "        'temp': {\n",
    "            'long_name': 'near-surface air temperature',\n",
    "            'units':     'degC'},\n",
    "        'prec': {\n",
    "            'long_name': 'ice-equivalent precipitation rate',\n",
    "            'units':     'm yr-1'},\n",
    "        'stdv': {\n",
    "            'long_name': 'standard deviation of near-surface air temperature',\n",
    "            'units':     'K'},\n",
    "\n",
    "        # cumulative quantities\n",
    "        'smb': {\n",
    "            'standard_name': 'land_ice_surface_specific_mass_balance',\n",
    "            'long_name': 'cumulative ice-equivalent surface mass balance',\n",
    "            'units':     'm yr-1'},\n",
    "        'pdd': {\n",
    "            'long_name': 'cumulative number of positive degree days',\n",
    "            'units':     'degC day'},\n",
    "        'accu': {\n",
    "            'long_name': 'cumulative ice-equivalent surface accumulation',\n",
    "            'units':     'm'},\n",
    "        'snow_melt': {\n",
    "            'long_name': 'cumulative ice-equivalent surface melt of snow',\n",
    "            'units':     'm'},\n",
    "        'ice_melt': {\n",
    "            'long_name': 'cumulative ice-equivalent surface melt of ice',\n",
    "            'units':     'm'},\n",
    "        'melt': {\n",
    "            'long_name': 'cumulative ice-equivalent surface melt',\n",
    "            'units':     'm'},\n",
    "        'runoff': {\n",
    "            'long_name': 'cumulative ice-equivalent surface meltwater runoff',\n",
    "            'units':     'm yr-1'},\n",
    "\n",
    "        # instantaneous quantities\n",
    "        'inst_pdd': {\n",
    "            'long_name': 'instantaneous positive degree days',\n",
    "            'units':     'degC day'},\n",
    "        'accu_rate': {\n",
    "            'long_name': 'instantaneous ice-equivalent surface accumulation rate',\n",
    "            'units':     'm yr-1'},\n",
    "        'snow_melt_rate': {\n",
    "            'long_name': 'instantaneous ice-equivalent surface melt rate of snow',\n",
    "            'units':     'm yr-1'},\n",
    "        'ice_melt_rate': {\n",
    "            'long_name': 'instantaneous ice-equivalent surface melt rate of ice',\n",
    "            'units':     'm yr-1'},\n",
    "        'melt_rate': {\n",
    "            'long_name': 'instantaneous ice-equivalent surface melt rate',\n",
    "            'units':     'm yr-1'},\n",
    "        'runoff_rate': {\n",
    "            'long_name': 'instantaneous ice-equivalent surface runoff rate',\n",
    "            'units':     'm yr-1'},\n",
    "        'inst_smb': {\n",
    "            'long_name': 'instantaneous ice-equivalent surface mass balance',\n",
    "            'units':     'm yr-1'},\n",
    "        'snow_depth': {\n",
    "            'long_name': 'depth of snow cover',\n",
    "            'units':     'm'}}\n",
    "\n",
    "    # FIXME code could be simplified a lot more but we need a better test not\n",
    "    # relying on exact reproducibility of this toy climate data.\n",
    "\n",
    "    # assign coordinate values\n",
    "    lx = ly = 750000\n",
    "    x = xr.DataArray(np.linspace(-lx, lx, 201, dtype='f4'), dims='x')\n",
    "    y = xr.DataArray(np.linspace(-ly, ly, 201, dtype='f4'), dims='y')\n",
    "    time = xr.DataArray((np.arange(12, dtype='f4')+0.5) / 12, dims='time')\n",
    "    tboundsvar = np.empty((12, 2), dtype='f4')\n",
    "    tboundsvar[:, 0] = time[:] - 1.0/24\n",
    "    tboundsvar[:, 1] = time[:] + 1.0/24\n",
    "\n",
    "    # seasonality index from winter to summer\n",
    "    season = xr.DataArray(-np.cos(np.arange(12)*2*np.pi/12), dims='time')\n",
    "\n",
    "    # order of operation is dictated by test md5sum and legacy f4 dtype\n",
    "    temp = 5 * season - 10 * x / lx + 0 * y\n",
    "    prec = y / ly * (season.astype('f4') + 0 * x + np.sign(y))\n",
    "    stdv = (2+y/ly-x/lx) * (1+season)\n",
    "\n",
    "    # this is also why transpose is needed here, and final type conversion\n",
    "    temp = temp.transpose('time', 'x', 'y').astype('f4')\n",
    "    prec = prec.transpose('time', 'x', 'y').astype('f4')\n",
    "    stdv = stdv.transpose('time', 'x', 'y').astype('f4')\n",
    "\n",
    "    # assign variable attributes\n",
    "    temp.attrs.update(ATTRIBUTES['temp'])\n",
    "    prec.attrs.update(ATTRIBUTES['prec'])\n",
    "    stdv.attrs.update(ATTRIBUTES['stdv'])\n",
    "\n",
    "    # make a dataset\n",
    "    ds = xr.Dataset(\n",
    "        data_vars={'temp': temp, 'prec': prec, 'stdv': stdv},\n",
    "        coords={\n",
    "            'time': time, 'x': x, 'y': y,\n",
    "            'time_bounds': (['time', 'nv'], tboundsvar[:]),\n",
    "        },\n",
    "    )\n",
    "\n",
    "    # write dataset to file\n",
    "    if filename is not None:\n",
    "        ds.to_netcdf(filename)\n",
    "\n",
    "    # return dataset\n",
    "    return ds\n",
    "\n",
    "def test_torch_model():\n",
    "    \"\"\"\n",
    "    Test the TorchPDDModel by comparing it to the ReferencePDDModel\n",
    "    \"\"\"\n",
    "    temp, precip, sd = make_fake_climate()\n",
    "\n",
    "    pdd_ref = ReferencePDDModel(\n",
    "        pdd_factor_snow=0.003,\n",
    "        pdd_factor_ice=0.008,\n",
    "        refreeze_snow=0.6,\n",
    "        refreeze_ice=0.1,\n",
    "        temp_snow=0.0,\n",
    "        temp_rain=2.0,\n",
    "        interpolate_rule=\"linear\",\n",
    "        interpolate_n=52,\n",
    "    )\n",
    "    result_ref = pdd_ref(temp, precip, sd)\n",
    "\n",
    "    pdd_torch = TorchPDDModel(\n",
    "        pdd_factor_snow=3.0,\n",
    "        pdd_factor_ice=8.0,\n",
    "        refreeze_snow=0.6,\n",
    "        refreeze_ice=0.1,\n",
    "        temp_snow=0.0,\n",
    "        temp_rain=2.0,\n",
    "        interpolate_rule=\"linear\",\n",
    "        interpolate_n=52,\n",
    "    )\n",
    "    result_torch = pdd_torch.forward(temp, precip, sd)\n",
    "\n",
    "    for m_var in [\n",
    "        \"temp\",\n",
    "        \"prec\",\n",
    "        \"accumulation_rate\",\n",
    "        \"inst_pdd\",\n",
    "        \"snow_depth\",\n",
    "        \"snow_melt_rate\",\n",
    "        \"ice_melt_rate\",\n",
    "        \"melt_rate\",\n",
    "        \"smb\",\n",
    "    ]:\n",
    "        print(f\"Comparing Reference and Torch implementation for variable {m_var}\")\n",
    "        assert_array_almost_equal(result_ref[m_var], result_torch[m_var], decimal=3)\n",
    "\n",
    "def test_torch_model_2d():\n",
    "    \"\"\"\n",
    "    Test the TorchPDDModel by comparing it to the ReferencePDDModel\n",
    "    \"\"\"\n",
    "    ds = make_fake_climate_2d()\n",
    "    \n",
    "    temp = ds[\"temp\"].to_numpy()\n",
    "    precip = ds[\"prec\"].to_numpy()\n",
    "    sd = ds[\"stdv\"].to_numpy()\n",
    "\n",
    "    pdd_ref = ReferencePDDModel(\n",
    "        pdd_factor_snow=0.003,\n",
    "        pdd_factor_ice=0.008,\n",
    "        refreeze_snow=0.6,\n",
    "        refreeze_ice=0.1,\n",
    "        temp_snow=0.0,\n",
    "        temp_rain=2.0,\n",
    "        interpolate_rule=\"linear\",\n",
    "        interpolate_n=52,\n",
    "    )\n",
    "    result_ref = pdd_ref(temp, precip, sd)\n",
    "\n",
    "    pdd_torch = TorchPDDModel(\n",
    "        pdd_factor_snow=3.0,\n",
    "        pdd_factor_ice=8.0,\n",
    "        refreeze_snow=0.6,\n",
    "        refreeze_ice=0.1,\n",
    "        temp_snow=0.0,\n",
    "        temp_rain=2.0,\n",
    "        interpolate_rule=\"linear\",\n",
    "        interpolate_n=52,\n",
    "    )\n",
    "    result_torch = pdd_torch.forward(temp, precip, sd)\n",
    "\n",
    "    for m_var in [\n",
    "        \"temp\",\n",
    "        \"prec\",\n",
    "        \"accumulation_rate\",\n",
    "        \"inst_pdd\",\n",
    "        \"snow_depth\",\n",
    "        \"snow_melt_rate\",\n",
    "        \"ice_melt_rate\",\n",
    "        \"melt_rate\",\n",
    "        \"smb\",\n",
    "    ]:\n",
    "        print(f\"Comparing Reference and Torch implementation for variable {m_var}\")\n",
    "        assert_array_almost_equal(result_ref[m_var], result_torch[m_var], decimal=3)\n",
    "\n"
   ]
  },
  {
   "cell_type": "code",
   "execution_count": null,
   "id": "69fafd0c-4de4-4bba-8a80-29d2a767c16a",
   "metadata": {},
   "outputs": [],
   "source": [
    "    ds = make_fake_climate_2d()\n",
    "    \n",
    "    temp = ds[\"temp\"].to_numpy()\n",
    "    temp_K = ds[\"temp\"].to_numpy() + 273.15\n",
    "    precip = ds[\"prec\"].to_numpy()\n",
    "    sd = ds[\"stdv\"].to_numpy()\n",
    "\n",
    "    pdd_ref = ReferencePDDModel(\n",
    "        pdd_factor_snow=0.003,\n",
    "        pdd_factor_ice=0.008,\n",
    "        refreeze_snow=0.6,\n",
    "        refreeze_ice=0.1,\n",
    "        temp_snow=0.0,\n",
    "        temp_rain=2.0,\n",
    "        interpolate_rule=\"linear\",\n",
    "        interpolate_n=52,\n",
    "    )\n",
    "    result_ref = pdd_ref(temp, precip, sd)"
   ]
  },
  {
   "cell_type": "code",
   "execution_count": null,
   "id": "67770bce-ef53-462c-8182-ea47ad6f6556",
   "metadata": {},
   "outputs": [],
   "source": [
    "import pylab as plt\n",
    "\n",
    "plt.imshow(result_ref[\"snow_depth\"][0])\n",
    "plt.colorbar()"
   ]
  },
  {
   "cell_type": "code",
   "execution_count": null,
   "id": "fe3b7d43-3ee9-4b69-95a5-a4db6bd9aeb9",
   "metadata": {},
   "outputs": [],
   "source": [
    "debm = DEBMModel()\n",
    "surface_elevation = np.zeros_like(temp) + 10\n",
    "latitude = np.zeros_like(temp) \n",
    "albedo = np.zeros_like(temp) + 0.47\n",
    "result_debm = debm(temp_K, sd, precip, surface_elevation, latitude)"
   ]
  },
  {
   "cell_type": "code",
   "execution_count": null,
   "id": "1085a008-63cb-4562-a2f0-4857c805eaba",
   "metadata": {},
   "outputs": [],
   "source": [
    "result_debm = debm(temp_K, sd, precip, surface_elevation, latitude)"
   ]
  },
  {
   "cell_type": "code",
   "execution_count": null,
   "id": "1576d404-71a6-4fff-b46d-32a1e09adfb4",
   "metadata": {},
   "outputs": [],
   "source": [
    "plt.imshow(result_debm[\"temperature\"][0]-273.15, origin=\"lower\")\n",
    "plt.colorbar()"
   ]
  },
  {
   "cell_type": "code",
   "execution_count": null,
   "id": "1cf116a3-7794-4a63-af6f-c2f6dab421e9",
   "metadata": {},
   "outputs": [],
   "source": [
    "diff = result_ref[\"temp\"][0]-(result_debm[\"temperature\"][0]-273.15)\n",
    "plt.imshow(diff, origin=\"lower\")\n",
    "plt.colorbar()\n",
    "print(diff.min(), diff.max())"
   ]
  },
  {
   "cell_type": "code",
   "execution_count": null,
   "id": "9068fd3a-1963-46f7-ac37-d7d016560fac",
   "metadata": {},
   "outputs": [],
   "source": [
    "diff = result_ref[\"snow_depth\"][0]-(result_debm[\"snow_depth\"][0])\n",
    "plt.imshow(diff, origin=\"lower\")\n",
    "plt.colorbar()\n",
    "print(diff.min(), diff.max())"
   ]
  },
  {
   "cell_type": "code",
   "execution_count": null,
   "id": "183b6667-2168-44bc-8983-0d2a95e445e8",
   "metadata": {},
   "outputs": [],
   "source": [
    "diff = result_ref[\"accumulation\"]-(result_debm[\"accumulation\"])\n",
    "plt.imshow(diff, origin=\"lower\")\n",
    "plt.colorbar()\n",
    "print(diff.min(), diff.max())"
   ]
  },
  {
   "cell_type": "code",
   "execution_count": null,
   "id": "dce2f21a-c8bc-4f76-8d7a-2d1fac30cff0",
   "metadata": {},
   "outputs": [],
   "source": [
    "m_vars = [\"accumulation\", \"melt\", \"runoff\", \"smb\"]\n",
    "fig, axs = plt.subplots(len(m_vars),3, sharex=True, figsize=(24,24))\n",
    "for k, m_var in enumerate(m_vars):\n",
    "    axs[k, 0].imshow(result_ref[m_var], origin=\"lower\")\n",
    "    axs[k, 1].imshow(result_debm[m_var], origin=\"lower\")\n",
    "    dc = axs[k, 2].imshow(result_ref[m_var]-result_debm[m_var], origin=\"lower\")\n",
    "    plt.colorbar(dc)"
   ]
  },
  {
   "cell_type": "code",
   "execution_count": null,
   "id": "ab792523-f7b1-43bb-83cb-1ffbac0197ea",
   "metadata": {},
   "outputs": [],
   "source": [
    "diff = (result_debm[\"insolation_melt\"] + result_debm[\"temperature_melt\"] + result_debm[\"offset_melt\"]) \n",
    "plt.imshow(diff, origin=\"lower\", vmin=0)\n",
    "plt.colorbar()\n",
    "print(diff.min(), diff.max())"
   ]
  },
  {
   "cell_type": "code",
   "execution_count": null,
   "id": "8262829d-72bc-45ff-b6a5-a7e9a3cdc5d5",
   "metadata": {},
   "outputs": [],
   "source": [
    "diff = result_ref[\"melt\"] / result_debm[\"melt\"]\n",
    "plt.imshow(diff, origin=\"lower\")\n",
    "plt.colorbar()\n",
    "print(diff.min(), diff.max())"
   ]
  },
  {
   "cell_type": "code",
   "execution_count": null,
   "id": "57397e6e-ee2b-4b6d-ab92-7237c7ba7deb",
   "metadata": {},
   "outputs": [],
   "source": [
    "plt.imshow(result_ref[\"melt\"], origin=\"lower\")\n",
    "plt.colorbar()"
   ]
  },
  {
   "cell_type": "code",
   "execution_count": null,
   "id": "cdfead76-27e0-475a-8b99-ad314780bc5e",
   "metadata": {},
   "outputs": [],
   "source": [
    "diff = result_debm[\"melt\"]\n",
    "plt.imshow(diff, origin=\"lower\")\n",
    "plt.colorbar()"
   ]
  },
  {
   "cell_type": "code",
   "execution_count": null,
   "id": "03be58c5-50eb-4933-9e46-6836f10ee447",
   "metadata": {},
   "outputs": [],
   "source": [
    "result_debm[\"melt\"].shape"
   ]
  },
  {
   "cell_type": "code",
   "execution_count": null,
   "id": "ce28553c-21fb-4e35-9a0a-530a05633031",
   "metadata": {},
   "outputs": [],
   "source": [
    "ds[\"temp\"].isel(time=0).plot()"
   ]
  },
  {
   "cell_type": "code",
   "execution_count": null,
   "id": "a63f5f5c-16ea-4b6e-a014-91a2935edf63",
   "metadata": {},
   "outputs": [],
   "source": [
    "plt.imshow(temp[0], vmin=-15, vmax=15, origin=\"lower\", cmap=\"RdBu_r\")\n",
    "plt.colorbar()"
   ]
  },
  {
   "cell_type": "code",
   "execution_count": null,
   "id": "f5bf352d-4491-4e74-8d09-238e4fa185eb",
   "metadata": {},
   "outputs": [],
   "source": [
    "year_fraction = 0\n",
    "dt = 1/ 12\n",
    "temp = 323.0\n",
    "temp_sd = 12.0\n",
    "s = 1000\n",
    "lat = np.pi/4 * 3\n",
    "albedo = 0.47\n",
    "melt_info = debm.melt(temp, temp_sd, albedo, s, lat, year_fraction, dt)\n"
   ]
  },
  {
   "cell_type": "code",
   "execution_count": null,
   "id": "802be6ab-ae13-49ae-bda3-5bcc286f2cb6",
   "metadata": {},
   "outputs": [],
   "source": [
    "make_fake_climate?"
   ]
  },
  {
   "cell_type": "code",
   "execution_count": null,
   "id": "6dcdea65-7c3b-4980-8b95-997d4b11465f",
   "metadata": {},
   "outputs": [],
   "source": [
    "debm.CalovGreveIntegrand(temp_sd, temp_sd - debm.positive_threshold_temp)"
   ]
  },
  {
   "cell_type": "code",
   "execution_count": null,
   "id": "b1f1e8d4-68de-41be-bb7d-d9ddb6a948cd",
   "metadata": {},
   "outputs": [],
   "source": [
    "melt_info[\"total_melt\"]"
   ]
  },
  {
   "cell_type": "code",
   "execution_count": null,
   "id": "30e84db5-2b15-4d66-8bda-dfd3913a270f",
   "metadata": {},
   "outputs": [],
   "source": [
    "melt_info"
   ]
  },
  {
   "cell_type": "code",
   "execution_count": null,
   "id": "965449fe-8464-479e-b09e-5507953388b6",
   "metadata": {},
   "outputs": [],
   "source": [
    "plt.imshow(result_debm[\"accumulation\"])\n",
    "plt.colorbar()"
   ]
  },
  {
   "cell_type": "code",
   "execution_count": null,
   "id": "9ac07889-2036-4137-8ca2-b9d4b43783be",
   "metadata": {},
   "outputs": [],
   "source": [
    "plt.imshow(result_ref[\"melt_rate\"][0])\n",
    "plt.colorbar()"
   ]
  },
  {
   "cell_type": "code",
   "execution_count": null,
   "id": "3a5c0a9f-30df-4e65-beeb-005e2ce0b18b",
   "metadata": {},
   "outputs": [],
   "source": [
    "plt.imshow(result_ref[\"prec\"][0])\n",
    "plt.colorbar()"
   ]
  },
  {
   "cell_type": "code",
   "execution_count": null,
   "id": "1655c7c9-d6e8-455b-9c27-23a2d74dd5e9",
   "metadata": {},
   "outputs": [],
   "source": [
    "plt.imshow(result_debm[\"precipitation\"][0])\n",
    "plt.colorbar()"
   ]
  },
  {
   "cell_type": "code",
   "execution_count": null,
   "id": "9d5dfb63-aac6-4906-83cc-c35a287cabf3",
   "metadata": {},
   "outputs": [],
   "source": [
    "snow_acc = pdd_ref.accumulation_rate(result_debm[\"temperature\"][0], result_debm[\"precipitation\"][0])\n",
    "plt.imshow(snow_acc)\n",
    "plt.colorbar()"
   ]
  },
  {
   "cell_type": "code",
   "execution_count": null,
   "id": "499c2fa8-ae43-459b-b9f9-385e66c54ed0",
   "metadata": {},
   "outputs": [],
   "source": [
    "snow_acc = debm.snow_accumulation(result_debm[\"temperature\"][0], result_debm[\"precipitation\"][0])\n",
    "plt.imshow(snow_acc)\n",
    "plt.colorbar()"
   ]
  },
  {
   "cell_type": "code",
   "execution_count": null,
   "id": "7c3c2e08-de6f-4ee1-8f73-ea6724c2c54d",
   "metadata": {},
   "outputs": [],
   "source": [
    "result_debm[\"temperature\"][0, 0, 0], result_debm[\"precipitation\"][0, 0, 0]"
   ]
  },
  {
   "cell_type": "code",
   "execution_count": null,
   "id": "e1f2a073-2503-4580-881c-026123d06760",
   "metadata": {},
   "outputs": [],
   "source": [
    "pdd_ref.accumulation_rate(result_debm[\"temperature\"][0, 0, 0], result_debm[\"precipitation\"][0, 0, 0])"
   ]
  },
  {
   "cell_type": "code",
   "execution_count": null,
   "id": "58235b64-ee3f-44f5-a4a3-eafeb63cbbef",
   "metadata": {},
   "outputs": [],
   "source": [
    "debm.snow_accumulation(result_debm[\"temperature\"][0, 0, 0], result_debm[\"precipitation\"][0, 0, 0])"
   ]
  },
  {
   "cell_type": "code",
   "execution_count": null,
   "id": "a7786c00-0dd4-4c6a-846f-4d68a07ba6c4",
   "metadata": {},
   "outputs": [],
   "source": [
    "T = np.array([-10, -5, 0, 1, 4, 8])\n",
    "P = np.array([10, 0.2, 1.0, 0.2, 0.1, 0.4])"
   ]
  },
  {
   "cell_type": "code",
   "execution_count": null,
   "id": "9ed8c4e8-d683-4265-8761-3b45ac5f19c8",
   "metadata": {},
   "outputs": [],
   "source": [
    "pdd_ref.accumulation_rate(T, P)"
   ]
  },
  {
   "cell_type": "code",
   "execution_count": null,
   "id": "c667dc69-a1ee-4fe0-bb82-b20e33a015b8",
   "metadata": {},
   "outputs": [],
   "source": [
    "debm.snow_accumulation(T+273.15, P)"
   ]
  },
  {
   "cell_type": "code",
   "execution_count": null,
   "id": "7a129839-d3ff-48db-a823-a2d1e569821f",
   "metadata": {},
   "outputs": [],
   "source": [
    "result_debm[\"snow_depth\"][1]"
   ]
  },
  {
   "cell_type": "code",
   "execution_count": null,
   "id": "dd7dc21c-5d29-4ca3-aa92-fe6ecdb1a1dc",
   "metadata": {},
   "outputs": [],
   "source": [
    "from typing import Union"
   ]
  },
  {
   "cell_type": "code",
   "execution_count": null,
   "id": "7ef50543-139f-4d57-ae66-14a318b7a558",
   "metadata": {},
   "outputs": [],
   "source": [
    "import torch\n",
    "\n",
    "ds = make_fake_climate_2d()\n",
    "    \n",
    "temp = ds[\"temp\"].to_numpy()\n",
    "temp_K = ds[\"temp\"].to_numpy() + 273.15\n",
    "precip = ds[\"prec\"].to_numpy()\n",
    "sd = ds[\"stdv\"].to_numpy()\n",
    "\n",
    "\n",
    "temp_K_t = torch.from_numpy(temp_K)\n",
    "sd_t = torch.from_numpy(sd)\n",
    "precip_t = torch.from_numpy(precip)\n",
    "\n"
   ]
  },
  {
   "cell_type": "code",
   "execution_count": null,
   "id": "f83b6057-8d8d-466b-9eb0-5ebfa28cdd88",
   "metadata": {},
   "outputs": [],
   "source": [
    "debm = DEBMModel()\n",
    "surface_elevation_t = torch.zeros_like(temp_K_t) + 10.0\n",
    "latitude_t = torch.zeros_like(temp_K_t) \n",
    "albedo_t = torch.zeros_like(temp_K_t) + 0.47\n",
    "debm_torch = TorchDEBMModel()\n",
    "result_debm = debm_torch(temp_K_t, sd_t, precip_t, surface_elevation_t, latitude_t)"
   ]
  },
  {
   "cell_type": "code",
   "execution_count": null,
   "id": "29ee27b4-d46d-4bc7-9bf6-a1e47b33f004",
   "metadata": {},
   "outputs": [],
   "source": [
    "plt.imshow(result_debm[\"melt\"], origin=\"lower\")\n",
    "plt.colorbar()"
   ]
  },
  {
   "cell_type": "code",
   "execution_count": null,
   "id": "4de037b5-168f-41b3-838d-78e52ff34b79",
   "metadata": {},
   "outputs": [],
   "source": [
    "[s for s in torch.rand_like(temp_K).size()[1::]]"
   ]
  },
  {
   "cell_type": "code",
   "execution_count": null,
   "id": "02062e64-d6f5-40a8-88a8-8a7f2ee4a8a0",
   "metadata": {},
   "outputs": [],
   "source": [
    "sd.shape"
   ]
  },
  {
   "cell_type": "code",
   "execution_count": null,
   "id": "907e4ade-dfde-47d8-a6e9-0df85f24482f",
   "metadata": {},
   "outputs": [],
   "source": [
    "debm_torch?"
   ]
  },
  {
   "cell_type": "code",
   "execution_count": null,
   "id": "8f3d511c-8577-4ad4-856d-aacd96f54112",
   "metadata": {},
   "outputs": [],
   "source": [
    "    def step(\n",
    "        max_melt: np.ndarray, old_snow_depth: np.ndarray, accumulation: np.ndarray\n",
    "    ) -> dict:\n",
    "        snow_depth = old_snow_depth\n",
    "        snow_depth += accumulation\n",
    "\n",
    "        snow_melted = np.where(max_melt < 0, 0.0, max_melt)\n",
    "        snow_melted = np.where(max_melt <= snow_depth, snow_melted, snow_depth)\n",
    "        ice_melted = np.minimum(max_melt - snow_melted, snow_depth)\n",
    "        snow_depth = np.maximum(snow_depth - snow_melted, 0.0)\n",
    "        snow_depth -= old_snow_depth\n",
    "        ice_melted = max_melt - snow_melted\n",
    "        total_melt = snow_melted + ice_melted\n",
    "        ice_created_by_refreeze = refreeze * snow_melted\n",
    "        runoff = total_melt - ice_created_by_refreeze\n",
    "        smb = accumulation - runoff\n",
    "        result = {\n",
    "            \"snow_depth\": snow_depth,\n",
    "            \"melt\": total_melt,\n",
    "            \"runoff\": runoff,\n",
    "            \"smb\": smb,\n",
    "        }\n",
    "        return result\n"
   ]
  },
  {
   "cell_type": "code",
   "execution_count": null,
   "id": "7f493ad5-1ac7-4311-95be-d8c220e13fac",
   "metadata": {},
   "outputs": [],
   "source": [
    "    max_melt = 2.0\n",
    "    old_snow_depth = 1.0\n",
    "    accumulation = 0.1\n",
    "\n",
    "    refreeze: float = 0.6,\n"
   ]
  },
  {
   "cell_type": "code",
   "execution_count": null,
   "id": "5196a87a-7fa8-491d-bf4e-7ca26062580c",
   "metadata": {},
   "outputs": [],
   "source": [
    "step(max_melt, old_snow_depth, accumulation)"
   ]
  },
  {
   "cell_type": "code",
   "execution_count": null,
   "id": "41897872-b30e-4146-a49a-6d6d0e663c56",
   "metadata": {},
   "outputs": [],
   "source": [
    "    max_melt = np.array([2.0])\n",
    "    old_snow_depth = np.array([1.0])\n",
    "    accumulation = np.array([0.1])\n"
   ]
  },
  {
   "cell_type": "code",
   "execution_count": null,
   "id": "99ad9632-2002-408c-977a-34326e5e9f4e",
   "metadata": {},
   "outputs": [],
   "source": [
    "step(max_melt, old_snow_depth, accumulation)"
   ]
  },
  {
   "cell_type": "code",
   "execution_count": null,
   "id": "4c82809b-f592-4a99-a043-bd8303152a4c",
   "metadata": {},
   "outputs": [],
   "source": [
    "np.ones((12, 1, 1))"
   ]
  },
  {
   "cell_type": "code",
   "execution_count": null,
   "id": "1161560e-b0aa-4531-8412-4551d15f7314",
   "metadata": {},
   "outputs": [],
   "source": [
    " ds = xr.open_dataset(\"../data/observed_speeds/greenland_vel_mosaic250_v1_g9000m.nc\", decode_times=False)"
   ]
  },
  {
   "cell_type": "code",
   "execution_count": null,
   "id": "40ae7097-5028-41ec-87e5-dc012cb0c1b4",
   "metadata": {},
   "outputs": [],
   "source": [
    "def preprocess(ds, thinning_factor: int = 1, mapplane_vars: list[str] = [\"x\", \"y\"]):\n",
    "    \"\"\"\n",
    "    Select slices from dataset\n",
    "    \"\"\"\n",
    "    slices = {key: slice(0, value, thinning_factor) for key, value in ds.sizes.items()}\n",
    "    drop_dims = [key for (key, val) in slices.items() if key not in mapplane_vars]\n",
    "    for d in drop_dims:\n",
    "        del slices[d]\n",
    "    return ds.isel(slices)\n"
   ]
  },
  {
   "cell_type": "code",
   "execution_count": null,
   "id": "dde965e5-4738-4aba-818d-030bc09a5ec7",
   "metadata": {},
   "outputs": [],
   "source": [
    "\n",
    "ds = preprocess(ds, thinning_factor=1)\n"
   ]
  },
  {
   "cell_type": "code",
   "execution_count": null,
   "id": "59346c6c-7bb6-40f2-aa18-bedb96331d96",
   "metadata": {},
   "outputs": [],
   "source": [
    "ds.variables[\"velsurf_mag\"].squeeze()"
   ]
  },
  {
   "cell_type": "code",
   "execution_count": null,
   "id": "1d8c82be-70f5-4c52-8c27-b1af2a58a649",
   "metadata": {},
   "outputs": [],
   "source": [
    "import numpy as np"
   ]
  },
  {
   "cell_type": "code",
   "execution_count": null,
   "id": "5ab190db-e3e7-4bd4-ad8d-1f52eb91776a",
   "metadata": {},
   "outputs": [],
   "source": [
    "a = np.array([1, 2, 3])\n",
    "b = np.array([2, 3, 4])"
   ]
  },
  {
   "cell_type": "code",
   "execution_count": null,
   "id": "8fbbd5ca-dcc7-48d0-a756-0f67e0cc1a16",
   "metadata": {},
   "outputs": [],
   "source": [
    "def magnitude(a, b):\n",
    "    return np.sqrt(np.sum(a**2 + b**2))"
   ]
  },
  {
   "cell_type": "code",
   "execution_count": null,
   "id": "9ee3c3e7-9624-4f0c-b885-bfcff6918cb3",
   "metadata": {},
   "outputs": [],
   "source": [
    "magnitude(a, b)"
   ]
  },
  {
   "cell_type": "code",
   "execution_count": null,
   "id": "e3e600f2-1756-420c-b758-c991cab9aa2d",
   "metadata": {},
   "outputs": [],
   "source": [
    "# Copyright (C) 2019-21 Andy Aschwanden\n",
    "#\n",
    "# This file is part of pism-emulator.\n",
    "#\n",
    "# PISM-EMULATOR is free software; you can redistribute it and/or modify it under the\n",
    "# terms of the GNU General Public License as published by the Free Software\n",
    "# Foundation; either version 3 of the License, or (at your option) any later\n",
    "# version.\n",
    "#\n",
    "# PISM-EMULATOR is distributed in the hope that it will be useful, but WITHOUT ANY\n",
    "# WARRANTY; without even the implied warranty of MERCHANTABILITY or FITNESS\n",
    "# FOR A PARTICULAR PURPOSE.  See the GNU General Public License for more\n",
    "# details.\n",
    "#\n",
    "# You should have received a copy of the GNU General Public License\n",
    "# along with PISM; if not, write to the Free Software\n",
    "# Foundation, Inc., 51 Franklin St, Fifth Floor, Boston, MA  02110-1301  USA\n",
    "\n",
    "# utils.py contains generic functions to read data or perform statistical analyses.\n",
    "\n",
    "import sys\n",
    "from math import sqrt\n",
    "from os import mkdir\n",
    "from os.path import isdir, join\n",
    "from typing import Union\n",
    "\n",
    "import numpy as np\n",
    "import pandas as pd\n",
    "import pylab as plt\n",
    "import xarray as xr\n",
    "from matplotlib.colors import LogNorm\n",
    "from pyDOE2 import lhs\n",
    "from SALib.sample import saltelli\n",
    "from scipy.stats.distributions import gamma, randint, truncnorm, uniform\n",
    "from sklearn.linear_model import LinearRegression\n",
    "from sklearn.metrics import mean_squared_error\n",
    "\n",
    "np.random.seed(0)\n",
    "\n",
    "\n",
    "param_keys_dict = {\n",
    "    \"GCM\": \"GCM (1)\",\n",
    "    \"FICE\": \"$f_i$ (mm K$^{-1}$ day$^{-1}$)\",\n",
    "    \"FSNOW\": \"$f_s$ (mm K$^{-1}$ day$^{-1}$)\",\n",
    "    \"RFR\": \"$\\psi (1)$\",\n",
    "    \"PRS\": \"$\\omega$ (% K$^{-1}$)\",\n",
    "    \"OCM\": \"$m_{t}$ (1)\",\n",
    "    \"OCS\": \"$m_{x}$ (1)\",\n",
    "    \"TCT\": \"$h_{\\mathrm{min}}$ (1)\",\n",
    "    \"VCM\": \"$\\sigma_{\\mathrm{max}}$ (MPa)\",\n",
    "    \"SIAE\": \"$E_{\\mathrm{SIA}}$ (1)\",\n",
    "    \"SSAN\": \"$n_{\\mathrm{SSA}}$ (1)\",\n",
    "    \"TEFO\": \"$\\delta$ (1)\",\n",
    "    \"PPQ\": \"$q$ (1)\",\n",
    "    \"PHIMIN\": \"$\\phi_{\\mathrm{min}}$ ($^{\\circ}$)\",\n",
    "    \"PHIMAX\": \"$\\phi_{\\mathrm{max}}$ ($^{\\circ}$)\",\n",
    "    \"ZMIN\": \"$z_{\\mathrm{min}}$ (m)\",\n",
    "    \"ZMAX\": \"$z_{\\mathrm{max}}$ (m)\",\n",
    "    \"a_glen\": \"A (Pa^{-n} s^{-1})\",\n",
    "    \"sia_e\": \"$E_{\\mathrm{SIA}}$ (1)\",\n",
    "    \"ssa_e\": \"$E_{\\mathrm{SSA}}$ (1)\",\n",
    "    \"ssa_n\": \"$n_{\\mathrm{SSA}}$ (1)\",\n",
    "    \"ppq\": \"$q$ (1)\",\n",
    "    \"tefo\": \"$\\delta$ (1)\",\n",
    "    \"till_effective_fraction_overburden\": \"$\\delta$ (1)\",\n",
    "    \"pseudo_plastic_uthershold\": \"u_{\\mathrm{thr} (m yr^{-1})}\",\n",
    "    \"phi_min\": \"$\\phi_{\\mathrm{min}}$ ($^{\\circ}$)\",\n",
    "    \"z_min\": \"$z_{\\mathrm{min}}$ (m)\",\n",
    "    \"z_max\": \"$z_{\\mathrm{max}}$ (m)\",\n",
    "    \"pseudo_plastic_uthreshold\": \"$u_{\\mathrm{th}}$ (m yr$^{-1}$)\",\n",
    "    \"SIAe\": \"$E_{\\mathrm{SIA}}$ (1)\",\n",
    "    \"SSAe\": \"$E_{\\mathrm{SSA}}$ (1)\",\n",
    "    \"topg_to_phi_base\": \"$b_{\\mathrm{base}}$ (m)\",\n",
    "    \"topg_to_phi_range\": \"$b_{\\mathrm{range}}$ (m)\",\n",
    "}\n",
    "\n",
    "\n",
    "def load_hirham_climate(file=\"DMI-HIRHAM5_1980_MM.nc\", thinning_factor=1):\n",
    "    \"\"\"\n",
    "    Read and return Obs\n",
    "    \"\"\"\n",
    "\n",
    "    with xr.open_dataset(file) as Obs:\n",
    "        stacked = Obs.stack(z=(\"rlat\", \"rlon\"))\n",
    "        ncl_stacked = Obs.stack(z=(\"ncl4\", \"ncl5\"))\n",
    "\n",
    "        temp = stacked.tas.dropna(dim=\"z\").values - 273.15\n",
    "        rainfall = stacked.rainfall.dropna(dim=\"z\").values * 365.242198781 / 1000\n",
    "        snowfall = stacked.snfall.dropna(dim=\"z\").values * 365.242198781 / 1000\n",
    "        smb = stacked.gld.dropna(dim=\"z\").values * 365.242198781 / 1000 / 12\n",
    "        refreeze = ncl_stacked.rfrz.dropna(dim=\"z\").values * 365.242198781 / 1000 / 12\n",
    "        melt = stacked.snmel.dropna(dim=\"z\").values * 365.242198781 / 1000 / 12\n",
    "        runoff = stacked.rogl.dropna(dim=\"z\").values * 365.242198781 / 1000 / 12\n",
    "        precip = rainfall + snowfall\n",
    "\n",
    "    return (\n",
    "        temp[..., ::thinning_factor],\n",
    "        precip[..., ::thinning_factor],\n",
    "        snowfall.sum(axis=0)[::thinning_factor],\n",
    "        melt.sum(axis=0)[::thinning_factor],\n",
    "        runoff.sum(axis=0)[::thinning_factor],\n",
    "        refreeze.sum(axis=0)[::thinning_factor],\n",
    "        smb.sum(axis=0)[::thinning_factor],\n",
    "    )\n",
    "\n",
    "\n",
    "def load_hirham_climate_w_std_dev(\n",
    "    file=\"DMI-HIRHAM5_1980_2020_MMS.nc\", thinning_factor=1\n",
    "):\n",
    "    \"\"\"\n",
    "    Read and return HIRHAM5 data grouped by year\n",
    "\n",
    "    n: monthly forcing (12\n",
    "\n",
    "    Returns\n",
    "\n",
    "    temp (n, m) array\n",
    "    precip (n, m) array\n",
    "    std_dev (n, m) array\n",
    "    a (1, m) array\n",
    "    m (1, m) array\n",
    "    r (1, m) array\n",
    "    f (1, m) array\n",
    "    b (1, m) array\n",
    "\n",
    "    \"\"\"\n",
    "\n",
    "    with xr.open_dataset(file) as Obs:\n",
    "        Obs = Obs.isel(rlat=slice(0, nlat, thinning_factor), rlon=slice(0, nlon, thinning_factor), ncl4=slice(0, nlat, thinning_factor), ncl5=slice(0, nlon, thinning_factor))\n",
    "        stacked = Obs.stack(z=(\"rlat\", \"rlon\"))\n",
    "        ncl_stacked = Obs.stack(z=(\"ncl4\", \"ncl5\"))\n",
    "\n",
    "        temp = (\n",
    "            np.hstack(\n",
    "                [d.dropna(dim=\"z\").values for _, d in stacked.tas.groupby(\"time.year\")]\n",
    "            )\n",
    "            - 273.15\n",
    "        )\n",
    "        temp_std_dev = np.hstack(\n",
    "            [\n",
    "                d.dropna(dim=\"z\").values\n",
    "                for _, d in stacked.tas_std_dev.groupby(\"time.year\")\n",
    "            ]\n",
    "        )\n",
    "        rainfall = (\n",
    "            np.hstack(\n",
    "                [\n",
    "                    d.dropna(dim=\"z\").values\n",
    "                    for _, d in stacked.rainfall.groupby(\"time.year\")\n",
    "                ]\n",
    "            )\n",
    "            * 365.242198781\n",
    "            / 1000\n",
    "        )\n",
    "        snowfall = (\n",
    "            np.hstack(\n",
    "                [\n",
    "                    d.dropna(dim=\"z\").values\n",
    "                    for _, d in stacked.snfall.groupby(\"time.year\")\n",
    "                ]\n",
    "            )\n",
    "            * 365.242198781\n",
    "            / 1000\n",
    "        )\n",
    "        smb = (\n",
    "            np.hstack(\n",
    "                [d.dropna(dim=\"z\").values for _, d in stacked.gld.groupby(\"time.year\")]\n",
    "            )\n",
    "            * 365.242198781\n",
    "            / 1000\n",
    "            / 12\n",
    "        )\n",
    "        refreeze = (\n",
    "            np.hstack(\n",
    "                [\n",
    "                    d.dropna(dim=\"z\").values\n",
    "                    for _, d in ncl_stacked.rfrz.groupby(\"time.year\")\n",
    "                ]\n",
    "            )\n",
    "            * 365.242198781\n",
    "            / 1000\n",
    "            / 12\n",
    "        )\n",
    "        snowmelt = (\n",
    "            np.hstack(\n",
    "                [\n",
    "                    d.dropna(dim=\"z\").values\n",
    "                    for _, d in stacked.snmel.groupby(\"time.year\")\n",
    "                ]\n",
    "            )\n",
    "            * 365.242198781\n",
    "            / 1000\n",
    "            / 12\n",
    "        )\n",
    "        snowdepth = np.hstack(\n",
    "            [d.dropna(dim=\"z\").values for _, d in stacked.sn.groupby(\"time.year\")]\n",
    "        )\n",
    "        runoff = (\n",
    "            np.hstack(\n",
    "                [d.dropna(dim=\"z\").values for _, d in stacked.rogl.groupby(\"time.year\")]\n",
    "            )\n",
    "            * 365.242198781\n",
    "            / 1000\n",
    "            / 12\n",
    "        )\n",
    "        precip = rainfall + snowfall\n",
    "\n",
    "        obs = {\n",
    "            \"snow_depth\": snowdepth\n",
    "            - snowdepth[0] ,\n",
    "            \"accumulation\": snowfall.sum(axis=0),\n",
    "            \"melt\": snowmelt.sum(axis=0),\n",
    "            \"runoff\": runoff.sum(axis=0),\n",
    "            \"refreeze\": refreeze.sum(axis=0),\n",
    "            \"smb\": smb.sum(axis=0),\n",
    "        }\n",
    "\n",
    "    return (\n",
    "        temp,\n",
    "        precip,\n",
    "        temp_std_dev,\n",
    "        obs,\n",
    "    )\n"
   ]
  },
  {
   "cell_type": "code",
   "execution_count": null,
   "id": "b2a33b3b-d263-4c4d-a86a-f52aedcd01d3",
   "metadata": {},
   "outputs": [],
   "source": [
    "file=\"../pddsampler/DMI-HIRHAM5_1980_2020_MMS.nc\"\n",
    "ds = xr.open_dataset(file)"
   ]
  },
  {
   "cell_type": "code",
   "execution_count": null,
   "id": "6c1ef70d-a153-4de9-9a73-3f31cf506fb9",
   "metadata": {},
   "outputs": [],
   "source": [
    "load_hirham_climate_w_std_dev(file, thinning_factor=100)"
   ]
  },
  {
   "cell_type": "code",
   "execution_count": null,
   "id": "1c04ca5f-82da-467e-a6d4-fdccee3c296f",
   "metadata": {},
   "outputs": [],
   "source": [
    "ds"
   ]
  },
  {
   "cell_type": "code",
   "execution_count": null,
   "id": "e247e4a1-53c2-47d3-802b-6d3b71bba1d0",
   "metadata": {},
   "outputs": [],
   "source": [
    "slice?"
   ]
  },
  {
   "cell_type": "code",
   "execution_count": null,
   "id": "7e93fa20-d9ac-4639-b5e8-70149a043270",
   "metadata": {},
   "outputs": [],
   "source": [
    "nlat = len(ds[\"rlat\"])\n",
    "nlon = len(ds[\"rlon\"])"
   ]
  },
  {
   "cell_type": "code",
   "execution_count": null,
   "id": "169938e7-7331-48c7-941c-596209ddc044",
   "metadata": {},
   "outputs": [],
   "source": [
    "thinning_factor = 2"
   ]
  },
  {
   "cell_type": "code",
   "execution_count": null,
   "id": "22ae3a1b-961b-41f5-9518-356bff6cafeb",
   "metadata": {},
   "outputs": [],
   "source": [
    "ds.isel(rlat=slice(0, nlat, thinning_factor), rlon=slice(0, nlon, thinning_factor), ncl4=slice(0, nlat, thinning_factor), ncl5=slice(0, nlon, thinning_factor))"
   ]
  },
  {
   "cell_type": "code",
   "execution_count": null,
   "id": "ceb06116-0e4f-42db-ac70-19eca7142e97",
   "metadata": {},
   "outputs": [],
   "source": [
    ".i?"
   ]
  },
  {
   "cell_type": "code",
   "execution_count": null,
   "id": "05931c82-b738-4064-b0c2-d6e564b57114",
   "metadata": {},
   "outputs": [],
   "source": []
  }
 ],
 "metadata": {
  "kernelspec": {
   "display_name": "Python 3 (ipykernel)",
   "language": "python",
   "name": "python3"
  },
  "language_info": {
   "codemirror_mode": {
    "name": "ipython",
    "version": 3
   },
   "file_extension": ".py",
   "mimetype": "text/x-python",
   "name": "python",
   "nbconvert_exporter": "python",
   "pygments_lexer": "ipython3"
  }
 },
 "nbformat": 4,
 "nbformat_minor": 5
}
