{
 "cells": [
  {
   "cell_type": "code",
   "execution_count": 1,
   "id": "d52677e6",
   "metadata": {},
   "outputs": [],
   "source": [
    "import numpy as np\n",
    "import torch\n",
    "from numpy.testing import assert_array_almost_equal\n",
    "\n",
    "from pism_emulator.models.pdd import ReferencePDDModel, TorchPDDModel\n",
    "from pism_emulator.utils import load_hirham_climate_w_std_dev"
   ]
  },
  {
   "cell_type": "code",
   "execution_count": 3,
   "id": "2e750f9b-13a4-44bc-a35c-13cbb93f4218",
   "metadata": {},
   "outputs": [],
   "source": [
    "import numpy as np\n",
    "from pism_emulator.models.debm import DEBMModel\n",
    "\n",
    "debm = DEBMModel()\n",
    "\n",
    "time = np.array([1980.5])\n",
    "year_fraction = debm.year_fraction(time)\n"
   ]
  },
  {
   "cell_type": "code",
   "execution_count": 29,
   "id": "b3f849f1-11a8-4650-a837-f9ffe4b82276",
   "metadata": {},
   "outputs": [
    {
     "data": {
      "text/plain": [
       "array([0., 1., 2.])"
      ]
     },
     "execution_count": 29,
     "metadata": {},
     "output_type": "execute_result"
    }
   ],
   "source": [
    "eps = 1e-4\n",
    "temp = np.array([1e-5, 1, 2])\n",
    "np.where( temp < eps, 0, temp)"
   ]
  },
  {
   "cell_type": "code",
   "execution_count": 5,
   "id": "4c1bb97d-3323-4b2c-8073-461046e56005",
   "metadata": {},
   "outputs": [],
   "source": [
    "year_fraction = np.array([0.5])\n",
    "eccentricity = np.array([0.1])\n",
    "perihelion_longitude = np.array([np.pi/4])\n",
    "distance_factor_paleo = debm.distance_factor_paleo(year_fraction, eccentricity, perihelion_longitude)\n"
   ]
  },
  {
   "cell_type": "code",
   "execution_count": 30,
   "id": "9d10206d-cf6d-4dce-adad-13174a3b7db2",
   "metadata": {},
   "outputs": [
    {
     "ename": "ModuleNotFoundError",
     "evalue": "No module named 'geopandas'",
     "output_type": "error",
     "traceback": [
      "\u001b[0;31m---------------------------------------------------------------------------\u001b[0m",
      "\u001b[0;31mModuleNotFoundError\u001b[0m                       Traceback (most recent call last)",
      "Cell \u001b[0;32mIn[30], line 1\u001b[0m\n\u001b[0;32m----> 1\u001b[0m \u001b[38;5;28;01mimport\u001b[39;00m \u001b[38;5;21;01mgeopandas\u001b[39;00m\n",
      "\u001b[0;31mModuleNotFoundError\u001b[0m: No module named 'geopandas'"
     ]
    }
   ],
   "source": [
    "import geopandas"
   ]
  },
  {
   "cell_type": "code",
   "execution_count": 7,
   "id": "da2e5205-649d-4da4-b688-ba64a682b5c4",
   "metadata": {},
   "outputs": [],
   "source": [
    "solar_declination = debm.solar_declination_present_day(year_fraction)"
   ]
  },
  {
   "cell_type": "code",
   "execution_count": 8,
   "id": "18dcd868-eb67-42ed-86ae-bf350f6b1120",
   "metadata": {},
   "outputs": [
    {
     "data": {
      "text/plain": [
       "array([0.402769])"
      ]
     },
     "execution_count": 8,
     "metadata": {},
     "output_type": "execute_result"
    }
   ],
   "source": [
    "solar_declination"
   ]
  },
  {
   "cell_type": "code",
   "execution_count": 9,
   "id": "3ec8f72f-3d4f-4b19-9347-7a7280b242a7",
   "metadata": {},
   "outputs": [],
   "source": [
    "obliquity = np.array([np.pi / 4])\n",
    "solar_longitude = np.array([np.pi * 3 / 4])\n",
    "solar_declination = debm.solar_declination_paleo(obliquity, solar_longitude)\n"
   ]
  },
  {
   "cell_type": "code",
   "execution_count": 10,
   "id": "783461ed-06cc-47bd-ac6e-95421f41c080",
   "metadata": {},
   "outputs": [
    {
     "data": {
      "text/plain": [
       "array([0.55536037])"
      ]
     },
     "execution_count": 10,
     "metadata": {},
     "output_type": "execute_result"
    }
   ],
   "source": [
    "assertsolar_declination"
   ]
  },
  {
   "cell_type": "code",
   "execution_count": 17,
   "id": "cdc5d324-c75f-4c73-ad09-525d1c37b73f",
   "metadata": {},
   "outputs": [],
   "source": [
    "solar_constant = np.array([1361.0])\n",
    "distance_factor = np.array([1.1])\n",
    "hour_angle = np.array([0.8])\n",
    "latitude = np.array([np.pi / 4])\n",
    "declination = np.array([np.pi / 8])\n",
    "insolation = debm.insolation(solar_constant, distance_factor, hour_angle, latitude, declination)\n"
   ]
  },
  {
   "cell_type": "code",
   "execution_count": 19,
   "id": "d3a0ce1e-e56f-4fc5-a325-118044d70e44",
   "metadata": {},
   "outputs": [
    {
     "data": {
      "text/plain": [
       "array([0.698])"
      ]
     },
     "execution_count": 19,
     "metadata": {},
     "output_type": "execute_result"
    }
   ],
   "source": [
    "elevation = np.array([1500.0])\n",
    "debm.atmosphere_transmissivity(elevation)"
   ]
  },
  {
   "cell_type": "code",
   "execution_count": 13,
   "id": "067281b3-6fc0-4073-a29b-83754ddfa705",
   "metadata": {},
   "outputs": [
    {
     "data": {
      "text/plain": [
       "\u001b[0;31mSignature:\u001b[0m       \u001b[0mnp\u001b[0m\u001b[0;34m.\u001b[0m\u001b[0mall\u001b[0m\u001b[0;34m(\u001b[0m\u001b[0ma\u001b[0m\u001b[0;34m,\u001b[0m \u001b[0maxis\u001b[0m\u001b[0;34m=\u001b[0m\u001b[0;32mNone\u001b[0m\u001b[0;34m,\u001b[0m \u001b[0mout\u001b[0m\u001b[0;34m=\u001b[0m\u001b[0;32mNone\u001b[0m\u001b[0;34m,\u001b[0m \u001b[0mkeepdims\u001b[0m\u001b[0;34m=\u001b[0m\u001b[0;34m<\u001b[0m\u001b[0mno\u001b[0m \u001b[0mvalue\u001b[0m\u001b[0;34m>\u001b[0m\u001b[0;34m,\u001b[0m \u001b[0;34m*\u001b[0m\u001b[0;34m,\u001b[0m \u001b[0mwhere\u001b[0m\u001b[0;34m=\u001b[0m\u001b[0;34m<\u001b[0m\u001b[0mno\u001b[0m \u001b[0mvalue\u001b[0m\u001b[0;34m>\u001b[0m\u001b[0;34m)\u001b[0m\u001b[0;34m\u001b[0m\u001b[0;34m\u001b[0m\u001b[0m\n",
       "\u001b[0;31mCall signature:\u001b[0m  \u001b[0mnp\u001b[0m\u001b[0;34m.\u001b[0m\u001b[0mall\u001b[0m\u001b[0;34m(\u001b[0m\u001b[0;34m*\u001b[0m\u001b[0margs\u001b[0m\u001b[0;34m,\u001b[0m \u001b[0;34m**\u001b[0m\u001b[0mkwargs\u001b[0m\u001b[0;34m)\u001b[0m\u001b[0;34m\u001b[0m\u001b[0;34m\u001b[0m\u001b[0m\n",
       "\u001b[0;31mType:\u001b[0m            _ArrayFunctionDispatcher\n",
       "\u001b[0;31mString form:\u001b[0m     <function all at 0x10421e980>\n",
       "\u001b[0;31mFile:\u001b[0m            ~/miniconda3/envs/pism-emulator/lib/python3.11/site-packages/numpy/core/fromnumeric.py\n",
       "\u001b[0;31mDocstring:\u001b[0m      \n",
       "Test whether all array elements along a given axis evaluate to True.\n",
       "\n",
       "Parameters\n",
       "----------\n",
       "a : array_like\n",
       "    Input array or object that can be converted to an array.\n",
       "axis : None or int or tuple of ints, optional\n",
       "    Axis or axes along which a logical AND reduction is performed.\n",
       "    The default (``axis=None``) is to perform a logical AND over all\n",
       "    the dimensions of the input array. `axis` may be negative, in\n",
       "    which case it counts from the last to the first axis.\n",
       "\n",
       "    .. versionadded:: 1.7.0\n",
       "\n",
       "    If this is a tuple of ints, a reduction is performed on multiple\n",
       "    axes, instead of a single axis or all the axes as before.\n",
       "out : ndarray, optional\n",
       "    Alternate output array in which to place the result.\n",
       "    It must have the same shape as the expected output and its\n",
       "    type is preserved (e.g., if ``dtype(out)`` is float, the result\n",
       "    will consist of 0.0's and 1.0's). See :ref:`ufuncs-output-type` for more\n",
       "    details.\n",
       "\n",
       "keepdims : bool, optional\n",
       "    If this is set to True, the axes which are reduced are left\n",
       "    in the result as dimensions with size one. With this option,\n",
       "    the result will broadcast correctly against the input array.\n",
       "\n",
       "    If the default value is passed, then `keepdims` will not be\n",
       "    passed through to the `all` method of sub-classes of\n",
       "    `ndarray`, however any non-default value will be.  If the\n",
       "    sub-class' method does not implement `keepdims` any\n",
       "    exceptions will be raised.\n",
       "\n",
       "where : array_like of bool, optional\n",
       "    Elements to include in checking for all `True` values.\n",
       "    See `~numpy.ufunc.reduce` for details.\n",
       "\n",
       "    .. versionadded:: 1.20.0\n",
       "\n",
       "Returns\n",
       "-------\n",
       "all : ndarray, bool\n",
       "    A new boolean or array is returned unless `out` is specified,\n",
       "    in which case a reference to `out` is returned.\n",
       "\n",
       "See Also\n",
       "--------\n",
       "ndarray.all : equivalent method\n",
       "\n",
       "any : Test whether any element along a given axis evaluates to True.\n",
       "\n",
       "Notes\n",
       "-----\n",
       "Not a Number (NaN), positive infinity and negative infinity\n",
       "evaluate to `True` because these are not equal to zero.\n",
       "\n",
       "Examples\n",
       "--------\n",
       ">>> np.all([[True,False],[True,True]])\n",
       "False\n",
       "\n",
       ">>> np.all([[True,False],[True,True]], axis=0)\n",
       "array([ True, False])\n",
       "\n",
       ">>> np.all([-1, 4, 5])\n",
       "True\n",
       "\n",
       ">>> np.all([1.0, np.nan])\n",
       "True\n",
       "\n",
       ">>> np.all([[True, True], [False, True]], where=[[True], [False]])\n",
       "True\n",
       "\n",
       ">>> o=np.array(False)\n",
       ">>> z=np.all([-1, 4, 5], out=o)\n",
       ">>> id(z), id(o), z\n",
       "(28293632, 28293632, array(True)) # may vary\n",
       "\u001b[0;31mClass docstring:\u001b[0m\n",
       "Class to wrap functions with checks for __array_function__ overrides.\n",
       "\n",
       "All arguments are required, and can only be passed by position.\n",
       "\n",
       "Parameters\n",
       "----------\n",
       "dispatcher : function or None\n",
       "    The dispatcher function that returns a single sequence-like object\n",
       "    of all arguments relevant.  It must have the same signature (except\n",
       "    the default values) as the actual implementation.\n",
       "    If ``None``, this is a ``like=`` dispatcher and the\n",
       "    ``_ArrayFunctionDispatcher`` must be called with ``like`` as the\n",
       "    first (additional and positional) argument.\n",
       "implementation : function\n",
       "    Function that implements the operation on NumPy arrays without\n",
       "    overrides.  Arguments passed calling the ``_ArrayFunctionDispatcher``\n",
       "    will be forwarded to this (and the ``dispatcher``) as if using\n",
       "    ``*args, **kwargs``.\n",
       "\n",
       "Attributes\n",
       "----------\n",
       "_implementation : function\n",
       "    The original implementation passed in."
      ]
     },
     "metadata": {},
     "output_type": "display_data"
    }
   ],
   "source": [
    "np.all?"
   ]
  },
  {
   "cell_type": "code",
   "execution_count": null,
   "id": "2d3786b3-9894-4433-8874-6f6b562e9b60",
   "metadata": {},
   "outputs": [],
   "source": []
  }
 ],
 "metadata": {
  "kernelspec": {
   "display_name": "Python 3 (ipykernel)",
   "language": "python",
   "name": "python3"
  },
  "language_info": {
   "codemirror_mode": {
    "name": "ipython",
    "version": 3
   },
   "file_extension": ".py",
   "mimetype": "text/x-python",
   "name": "python",
   "nbconvert_exporter": "python",
   "pygments_lexer": "ipython3",
   "version": "3.11.6"
  }
 },
 "nbformat": 4,
 "nbformat_minor": 5
}
