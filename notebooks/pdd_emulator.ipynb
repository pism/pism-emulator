{
 "cells": [
  {
   "cell_type": "code",
   "execution_count": null,
   "id": "d52677e6",
   "metadata": {},
   "outputs": [],
   "source": [
    "import numpy as np\n",
    "import torch\n",
    "from numpy.testing import assert_array_almost_equal\n",
    "\n",
    "from pism_emulator.models.pdd import ReferencePDDModel, TorchPDDModel\n",
    "from pism_emulator.utils import load_hirham_climate_w_std_dev"
   ]
  },
  {
   "cell_type": "code",
   "execution_count": null,
   "id": "2e750f9b-13a4-44bc-a35c-13cbb93f4218",
   "metadata": {},
   "outputs": [],
   "source": [
    "import numpy as np\n",
    "from pism_emulator.models.debm import DEBMModel\n",
    "\n",
    "debm = DEBMModel()\n",
    "\n",
    "time = np.array([1980.5])\n",
    "year_fraction = debm.year_fraction(time)\n"
   ]
  },
  {
   "cell_type": "code",
   "execution_count": null,
   "id": "b3f849f1-11a8-4650-a837-f9ffe4b82276",
   "metadata": {},
   "outputs": [],
   "source": [
    "eps = 1e-4\n",
    "temp = np.array([1e-5, 1, 2])\n",
    "np.where( temp < eps, 0, temp)"
   ]
  },
  {
   "cell_type": "code",
   "execution_count": null,
   "id": "4c1bb97d-3323-4b2c-8073-461046e56005",
   "metadata": {},
   "outputs": [],
   "source": [
    "year_fraction = np.array([0.5])\n",
    "eccentricity = np.array([0.1])\n",
    "perihelion_longitude = np.array([np.pi/4])\n",
    "distance_factor_paleo = debm.distance_factor_paleo(year_fraction, eccentricity, perihelion_longitude)\n"
   ]
  },
  {
   "cell_type": "code",
   "execution_count": null,
   "id": "9d10206d-cf6d-4dce-adad-13174a3b7db2",
   "metadata": {},
   "outputs": [],
   "source": [
    "import geopandas"
   ]
  },
  {
   "cell_type": "code",
   "execution_count": null,
   "id": "da2e5205-649d-4da4-b688-ba64a682b5c4",
   "metadata": {},
   "outputs": [],
   "source": [
    "solar_declination = debm.solar_declination_present_day(year_fraction)"
   ]
  },
  {
   "cell_type": "code",
   "execution_count": null,
   "id": "18dcd868-eb67-42ed-86ae-bf350f6b1120",
   "metadata": {},
   "outputs": [],
   "source": [
    "solar_declination"
   ]
  },
  {
   "cell_type": "code",
   "execution_count": null,
   "id": "3ec8f72f-3d4f-4b19-9347-7a7280b242a7",
   "metadata": {},
   "outputs": [],
   "source": [
    "obliquity = np.array([np.pi / 4])\n",
    "solar_longitude = np.array([np.pi * 3 / 4])\n",
    "solar_declination = debm.solar_declination_paleo(obliquity, solar_longitude)\n"
   ]
  },
  {
   "cell_type": "code",
   "execution_count": null,
   "id": "783461ed-06cc-47bd-ac6e-95421f41c080",
   "metadata": {},
   "outputs": [],
   "source": [
    "assertsolar_declination"
   ]
  },
  {
   "cell_type": "code",
   "execution_count": null,
   "id": "cdc5d324-c75f-4c73-ad09-525d1c37b73f",
   "metadata": {},
   "outputs": [],
   "source": [
    "solar_constant = np.array([1361.0])\n",
    "distance_factor = np.array([1.1])\n",
    "hour_angle = np.array([0.8])\n",
    "latitude = np.array([np.pi / 4])\n",
    "declination = np.array([np.pi / 8])\n",
    "insolation = debm.insolation(solar_constant, distance_factor, hour_angle, latitude, declination)\n"
   ]
  },
  {
   "cell_type": "code",
   "execution_count": null,
   "id": "d3a0ce1e-e56f-4fc5-a325-118044d70e44",
   "metadata": {},
   "outputs": [],
   "source": [
    "elevation = np.array([1500.0])\n",
    "debm.atmosphere_transmissivity(elevation)"
   ]
  },
  {
   "cell_type": "code",
   "execution_count": null,
   "id": "067281b3-6fc0-4073-a29b-83754ddfa705",
   "metadata": {},
   "outputs": [],
   "source": [
    "np.all?"
   ]
  },
  {
   "cell_type": "code",
   "execution_count": null,
   "id": "2d3786b3-9894-4433-8874-6f6b562e9b60",
   "metadata": {},
   "outputs": [],
   "source": []
  }
 ],
 "metadata": {
  "kernelspec": {
   "display_name": "Python 3 (ipykernel)",
   "language": "python",
   "name": "python3"
  },
  "language_info": {
   "codemirror_mode": {
    "name": "ipython",
    "version": 3
   },
   "file_extension": ".py",
   "mimetype": "text/x-python",
   "name": "python",
   "nbconvert_exporter": "python",
   "pygments_lexer": "ipython3"
  }
 },
 "nbformat": 4,
 "nbformat_minor": 5
}
