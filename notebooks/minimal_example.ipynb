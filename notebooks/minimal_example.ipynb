{
 "cells": [
  {
   "cell_type": "markdown",
   "id": "1af30e11",
   "metadata": {},
   "source": [
    "# Minimal Example"
   ]
  },
  {
   "cell_type": "markdown",
   "id": "55a00662",
   "metadata": {},
   "source": [
    "First we train the surrogate model. To avoid over-fitting, we train `no_models` models, each with slightly different weights."
   ]
  },
  {
   "cell_type": "code",
   "execution_count": 1,
   "id": "1110a90e",
   "metadata": {},
   "outputs": [],
   "source": [
    "no_models = 4"
   ]
  },
  {
   "cell_type": "code",
   "execution_count": null,
   "id": "c58388b7",
   "metadata": {},
   "outputs": [
    {
     "name": "stdout",
     "output_type": "stream",
     "text": [
      "The following simulations are missing:\n",
      "   [337]\n",
      "  ... adjusting priors\n",
      "  Loading data sets...\n",
      "385it [00:03, 106.74it/s]"
     ]
    }
   ],
   "source": [
    "emulator_dir = \"minimal_example\"\n",
    "for model_index in range(no_models):\n",
    "    !python ../speedemulator/train_emulator.py --model_index {model_index} --emulator_dir {emulator_dir} --max_epochs 25"
   ]
  },
  {
   "cell_type": "markdown",
   "id": "5d85f528",
   "metadata": {},
   "source": [
    "Show the first six eigen-glaciers for model 0"
   ]
  },
  {
   "cell_type": "markdown",
   "id": "6b332fd7",
   "metadata": {},
   "source": [
    "![Eigen-glaciers](minimal_example/eigenglaciers/eigenglaciers_0.pdf)"
   ]
  },
  {
   "cell_type": "markdown",
   "id": "61c1fe3d",
   "metadata": {},
   "source": [
    "Now we run the MALA Sampler, using only a short chain"
   ]
  },
  {
   "cell_type": "code",
   "execution_count": null,
   "id": "cdcd0e56",
   "metadata": {},
   "outputs": [],
   "source": [
    "for model_index in range(no_models):\n",
    "    !python ../speedemulator/sample_posterior_p.py --model_index {model_index} --emulator_dir {emulator_dir} --num_posterior_samples 20000"
   ]
  },
  {
   "cell_type": "code",
   "execution_count": null,
   "id": "35d7ab46",
   "metadata": {},
   "outputs": [],
   "source": []
  }
 ],
 "metadata": {
  "kernelspec": {
   "display_name": "Python 3 (ipykernel)",
   "language": "python",
   "name": "python3"
  },
  "language_info": {
   "codemirror_mode": {
    "name": "ipython",
    "version": 3
   },
   "file_extension": ".py",
   "mimetype": "text/x-python",
   "name": "python",
   "nbconvert_exporter": "python",
   "pygments_lexer": "ipython3",
   "version": "3.9.10"
  }
 },
 "nbformat": 4,
 "nbformat_minor": 5
}
