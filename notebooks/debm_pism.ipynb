{
 "cells": [
  {
   "cell_type": "code",
   "execution_count": 1,
   "id": "27f09cae-c9c2-4660-ae73-fe415a8e67f5",
   "metadata": {},
   "outputs": [
    {
     "name": "stdout",
     "output_type": "stream",
     "text": [
      "Reading configuration parameters (pism_config) from file '/home/andy/pism-conda/share/pism/pism_config.nc'.\n"
     ]
    }
   ],
   "source": [
    "import numpy as np\n",
    "from numpy.testing import assert_almost_equal, assert_array_almost_equal\n",
    "\n",
    "import PISM\n",
    "context = PISM.Context().ctx"
   ]
  },
  {
   "cell_type": "code",
   "execution_count": 2,
   "id": "8b3d592b-5643-4404-a60a-ef1dbabe7ccb",
   "metadata": {},
   "outputs": [],
   "source": [
    "def make_fake_climate() -> tuple[np.ndarray, np.ndarray, np.ndarray]:\n",
    "    \"\"\"\n",
    "    Make fake climate to test surface models\n",
    "    \"\"\"\n",
    "\n",
    "    temp = np.array(\n",
    "        [\n",
    "            [-3.12],\n",
    "            [-2.41],\n",
    "            [-0.62],\n",
    "            [1.93],\n",
    "            [4.41],\n",
    "            [6.20],\n",
    "            [6.91],\n",
    "            [6.21],\n",
    "            [4.40],\n",
    "            [1.92],\n",
    "            [-0.61],\n",
    "            [-2.41],\n",
    "        ],\n",
    "    )\n",
    "    precip = np.array(\n",
    "        [\n",
    "            [1.58],\n",
    "            [1.47],\n",
    "            [1.18],\n",
    "            [0.79],\n",
    "            [0.39],\n",
    "            [0.11],\n",
    "            [-0.01],\n",
    "            [0.10],\n",
    "            [0.39],\n",
    "            [0.79],\n",
    "            [1.18],\n",
    "            [1.47],\n",
    "        ],\n",
    "        dtype=np.float64,\n",
    "    )\n",
    "    sd = np.array(\n",
    "        [\n",
    "            [0.0],\n",
    "            [0.18],\n",
    "            [0.70],\n",
    "            [1.40],\n",
    "            [2.11],\n",
    "            [2.61],\n",
    "            [2.81],\n",
    "            [2.61],\n",
    "            [2.10],\n",
    "            [1.40],\n",
    "            [0.72],\n",
    "            [0.18],\n",
    "        ],\n",
    "    )\n",
    "    return temp, precip, sd\n",
    "\n"
   ]
  },
  {
   "cell_type": "code",
   "execution_count": 32,
   "id": "cb7bb5fd-ccf2-4a7c-987e-840a8e2bc8e3",
   "metadata": {},
   "outputs": [],
   "source": [
    "temp, precip, temp_sd = make_fake_climate()\n",
    "\n",
    "\n",
    "year_fraction = 0.\n",
    "dt = 1.0 / 12 \n",
    "temp = 323.0\n",
    "temp_sd = 12.0\n",
    "surface_elevation = 1000\n",
    "latitude = np.pi/4 * 3\n",
    "albedo = 0.47"
   ]
  },
  {
   "cell_type": "code",
   "execution_count": 33,
   "id": "48c7763e-f133-4ee0-b12d-0b5494c36388",
   "metadata": {},
   "outputs": [],
   "source": [
    "\n",
    "debm = PISM.SurfaceDEBMSimplePointwise(context)\n",
    "\n",
    "orbital_parameters = debm.orbital_parameters(year_fraction)\n",
    "declination = orbital_parameters.declination\n",
    "distance_factor = orbital_parameters.distance_factor\n",
    "melt_info = debm.melt(declination, distance_factor, dt, temp_sd, temp, surface_elevation, latitude, albedo)"
   ]
  },
  {
   "cell_type": "code",
   "execution_count": 35,
   "id": "9b48e6d1-aae7-4b51-b436-a5016ffd5358",
   "metadata": {},
   "outputs": [
    {
     "data": {
      "text/plain": [
       "1.6505499864374886e-07"
      ]
     },
     "execution_count": 35,
     "metadata": {},
     "output_type": "execute_result"
    }
   ],
   "source": [
    "debm."
   ]
  },
  {
   "cell_type": "code",
   "execution_count": 37,
   "id": "679bb0bc-d7e6-451c-96c7-0468df08757f",
   "metadata": {},
   "outputs": [],
   "source": [
    "temp, precip, temp_sd = make_fake_climate()\n"
   ]
  },
  {
   "cell_type": "code",
   "execution_count": 41,
   "id": "b598f4e6-5db6-4ec1-8674-24fb0fad8e6d",
   "metadata": {},
   "outputs": [],
   "source": [
    "orbital_parameters = debm.orbital_parameters(year_fraction)\n",
    "declination = orbital_parameters.declination\n",
    "distance_factor = orbital_parameters.distance_factor\n",
    "albedo_vec = np.ones_like(temp) * albedo\n",
    "surface_elevation_vec = np.ones_like(temp) * surface_elevation\n",
    "melt_info = np.vectorize(debm.melt)(declination, distance_factor, dt, temp_sd, temp, surface_elevation_vec, latitude, albedo_vec)"
   ]
  },
  {
   "cell_type": "code",
   "execution_count": 47,
   "id": "2fde9192-e1a1-489f-9e73-23bbaa6a32bd",
   "metadata": {},
   "outputs": [],
   "source": [
    "m = melt_info[0]"
   ]
  },
  {
   "cell_type": "code",
   "execution_count": 48,
   "id": "6655a976-6649-4100-abda-94cb9a0eafb0",
   "metadata": {},
   "outputs": [
    {
     "data": {
      "text/plain": [
       "array([<PISM.cpp.DEBMSimpleMelt; proxy of <Swig Object of type 'pism::surface::DEBMSimpleMelt *' at 0x7f4e056e0de0> >],\n",
       "      dtype=object)"
      ]
     },
     "execution_count": 48,
     "metadata": {},
     "output_type": "execute_result"
    }
   ],
   "source": [
    "m"
   ]
  },
  {
   "cell_type": "code",
   "execution_count": null,
   "id": "34185ccf-d6b3-4142-ae9e-e04cfbaf1563",
   "metadata": {},
   "outputs": [],
   "source": []
  }
 ],
 "metadata": {
  "kernelspec": {
   "display_name": "Python 3 (ipykernel)",
   "language": "python",
   "name": "python3"
  },
  "language_info": {
   "codemirror_mode": {
    "name": "ipython",
    "version": 3
   },
   "file_extension": ".py",
   "mimetype": "text/x-python",
   "name": "python",
   "nbconvert_exporter": "python",
   "pygments_lexer": "ipython3",
   "version": "3.12.1"
  }
 },
 "nbformat": 4,
 "nbformat_minor": 5
}
