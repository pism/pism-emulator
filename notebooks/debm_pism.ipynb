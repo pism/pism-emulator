{
 "cells": [
  {
   "cell_type": "code",
   "execution_count": 1,
   "id": "27f09cae-c9c2-4660-ae73-fe415a8e67f5",
   "metadata": {},
   "outputs": [
    {
     "ename": "ModuleNotFoundError",
     "evalue": "No module named 'PISM'",
     "output_type": "error",
     "traceback": [
      "\u001b[0;31m---------------------------------------------------------------------------\u001b[0m",
      "\u001b[0;31mModuleNotFoundError\u001b[0m                       Traceback (most recent call last)",
      "Cell \u001b[0;32mIn[1], line 4\u001b[0m\n\u001b[1;32m      1\u001b[0m \u001b[38;5;28;01mimport\u001b[39;00m \u001b[38;5;21;01mnumpy\u001b[39;00m \u001b[38;5;28;01mas\u001b[39;00m \u001b[38;5;21;01mnp\u001b[39;00m\n\u001b[1;32m      2\u001b[0m \u001b[38;5;28;01mfrom\u001b[39;00m \u001b[38;5;21;01mnumpy\u001b[39;00m\u001b[38;5;21;01m.\u001b[39;00m\u001b[38;5;21;01mtesting\u001b[39;00m \u001b[38;5;28;01mimport\u001b[39;00m assert_almost_equal, assert_array_almost_equal\n\u001b[0;32m----> 4\u001b[0m \u001b[38;5;28;01mimport\u001b[39;00m \u001b[38;5;21;01mPISM\u001b[39;00m\n\u001b[1;32m      5\u001b[0m context \u001b[38;5;241m=\u001b[39m PISM\u001b[38;5;241m.\u001b[39mContext()\u001b[38;5;241m.\u001b[39mctx\n",
      "\u001b[0;31mModuleNotFoundError\u001b[0m: No module named 'PISM'"
     ]
    }
   ],
   "source": [
    "import numpy as np\n",
    "from numpy.testing import assert_almost_equal, assert_array_almost_equal\n",
    "\n",
    "import PISM\n",
    "context = PISM.Context().ctx"
   ]
  },
  {
   "cell_type": "code",
   "execution_count": null,
   "id": "8b3d592b-5643-4404-a60a-ef1dbabe7ccb",
   "metadata": {},
   "outputs": [],
   "source": [
    "import PISM"
   ]
  },
  {
   "cell_type": "code",
   "execution_count": null,
   "id": "cb7bb5fd-ccf2-4a7c-987e-840a8e2bc8e3",
   "metadata": {},
   "outputs": [],
   "source": []
  }
 ],
 "metadata": {
  "kernelspec": {
   "display_name": "Python 3 (ipykernel)",
   "language": "python",
   "name": "python3"
  },
  "language_info": {
   "codemirror_mode": {
    "name": "ipython",
    "version": 3
   },
   "file_extension": ".py",
   "mimetype": "text/x-python",
   "name": "python",
   "nbconvert_exporter": "python",
   "pygments_lexer": "ipython3",
   "version": "3.12.2"
  }
 },
 "nbformat": 4,
 "nbformat_minor": 5
}
