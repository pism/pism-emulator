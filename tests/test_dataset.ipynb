{
 "cells": [
  {
   "cell_type": "code",
   "execution_count": null,
   "id": "c10166e0",
   "metadata": {},
   "outputs": [],
   "source": [
    "from collections import OrderedDict\n",
    "from glob import glob\n",
    "import numpy as np\n",
    "import pandas as pd\n",
    "from os.path import join\n",
    "import re\n",
    "from sklearn.model_selection import train_test_split\n",
    "from tqdm import tqdm\n",
    "import xarray as xr\n",
    "\n",
    "import torch\n",
    "import torch.nn as nn\n",
    "from torch import Tensor\n",
    "from torchmetrics.utilities.checks import _check_same_shape\n",
    "from torchmetrics import Metric\n",
    "import pytorch_lightning as pl\n",
    "from torch.optim.lr_scheduler import ExponentialLR, ReduceLROnPlateau\n",
    "from torch.utils.data import DataLoader, TensorDataset\n",
    "import pylab as plt\n",
    "import matplotlib"
   ]
  },
  {
   "cell_type": "code",
   "execution_count": null,
   "id": "7c714859",
   "metadata": {},
   "outputs": [],
   "source": [
    "import sys\n",
    "sys.path.insert(0, \"../pismemulator/\")\n",
    "\n",
    "from nnemulator import PISMDataset"
   ]
  },
  {
   "cell_type": "code",
   "execution_count": null,
   "id": "445ea2c7",
   "metadata": {},
   "outputs": [],
   "source": [
    "dataset = PISMDataset(data_dir=\"../data/speeds_v2/\",\n",
    "                      samples_file=\"../data/samples/velocity_calibration_samples_100.csv\",\n",
    "                      target_file=\"../data/observed_speeds/greenland_obs_g1800m.nc\",\n",
    "                     target_corr_threshold=25)\n",
    "            "
   ]
  },
  {
   "cell_type": "code",
   "execution_count": null,
   "id": "ed2d3b25",
   "metadata": {},
   "outputs": [],
   "source": [
    "cd ../speedemulator/"
   ]
  },
  {
   "cell_type": "code",
   "execution_count": 21,
   "id": "ea194b6b",
   "metadata": {},
   "outputs": [
    {
     "name": "stderr",
     "output_type": "stream",
     "text": [
      "/Users/andy/Library/Python/3.9/lib/python/site-packages/pismemulator/nnemulator.py:416: FutureWarning: The squeeze argument has been deprecated and will be removed in a future version. Append .squeeze(\"columns\") to the call to squeeze.\n",
      "\n",
      "\n",
      "  samples = pd.read_csv(\n"
     ]
    },
    {
     "name": "stdout",
     "output_type": "stream",
     "text": [
      "The following simulations are missing:\n",
      "   [337, 595, 539, 542]\n",
      "  ... adjusting priors\n",
      "  Loading data sets...\n"
     ]
    },
    {
     "name": "stderr",
     "output_type": "stream",
     "text": [
      "996it [00:45, 21.94it/s]\n"
     ]
    },
    {
     "name": "stdout",
     "output_type": "stream",
     "text": [
      "(array([  13,   13,   14, ..., 1487, 1487, 1487]), array([412, 413, 405, ..., 518, 519, 520]))\n"
     ]
    },
    {
     "name": "stderr",
     "output_type": "stream",
     "text": [
      "/Users/andy/Library/Python/3.9/lib/python/site-packages/pismemulator/nnemulator.py:471: RuntimeWarning: divide by zero encountered in log10\n",
      "  response = np.log10(response)\n"
     ]
    },
    {
     "name": "stdout",
     "output_type": "stream",
     "text": [
      "***********************************************\n",
      "***********************************************\n",
      "Finding MAP point\n",
      "***********************************************\n",
      "***********************************************\n"
     ]
    },
    {
     "ename": "IndexError",
     "evalue": "too many indices for tensor of dimension 1",
     "output_type": "error",
     "traceback": [
      "\u001b[0;31m---------------------------------------------------------------------------\u001b[0m",
      "\u001b[0;31mIndexError\u001b[0m                                Traceback (most recent call last)",
      "File \u001b[0;32m~/base/pism-emulator/speedemulator/sample_posterior.py:356\u001b[0m, in \u001b[0;36m<module>\u001b[0;34m\u001b[0m\n\u001b[1;32m    353\u001b[0m U_target \u001b[38;5;241m=\u001b[39m dataset\u001b[38;5;241m.\u001b[39mY_target\u001b[38;5;241m.\u001b[39mto(device)\n\u001b[1;32m    355\u001b[0m mala \u001b[38;5;241m=\u001b[39m MALASampler(e, emulator_dir\u001b[38;5;241m=\u001b[39memulator_dir)\n\u001b[0;32m--> 356\u001b[0m X_map \u001b[38;5;241m=\u001b[39m \u001b[43mmala\u001b[49m\u001b[38;5;241;43m.\u001b[39;49m\u001b[43mfind_MAP\u001b[49m\u001b[43m(\u001b[49m\u001b[43mX_0\u001b[49m\u001b[43m,\u001b[49m\u001b[43m \u001b[49m\u001b[43mU_target\u001b[49m\u001b[43m,\u001b[49m\u001b[43m \u001b[49m\u001b[43mX_min\u001b[49m\u001b[43m,\u001b[49m\u001b[43m \u001b[49m\u001b[43mX_max\u001b[49m\u001b[43m)\u001b[49m\n\u001b[1;32m    357\u001b[0m \u001b[38;5;66;03m# To reproduce the paper, n_iters should be 10^5\u001b[39;00m\n\u001b[1;32m    358\u001b[0m X_posterior \u001b[38;5;241m=\u001b[39m mala\u001b[38;5;241m.\u001b[39mMALA(\n\u001b[1;32m    359\u001b[0m     X_map,\n\u001b[1;32m    360\u001b[0m     U_target,\n\u001b[0;32m   (...)\u001b[0m\n\u001b[1;32m    364\u001b[0m     print_interval\u001b[38;5;241m=\u001b[39m\u001b[38;5;241m100\u001b[39m,\n\u001b[1;32m    365\u001b[0m )\n",
      "File \u001b[0;32m~/base/pism-emulator/speedemulator/sample_posterior.py:45\u001b[0m, in \u001b[0;36mMALASampler.find_MAP\u001b[0;34m(self, X, Y_target, X_min, X_max, n_iters, print_interval)\u001b[0m\n\u001b[1;32m     43\u001b[0m \u001b[38;5;66;03m# Find MAP point\u001b[39;00m\n\u001b[1;32m     44\u001b[0m \u001b[38;5;28;01mfor\u001b[39;00m i \u001b[38;5;129;01min\u001b[39;00m \u001b[38;5;28mrange\u001b[39m(n_iters):\n\u001b[0;32m---> 45\u001b[0m     log_pi, g, _, Hinv, log_det_Hinv \u001b[38;5;241m=\u001b[39m \u001b[38;5;28;43mself\u001b[39;49m\u001b[38;5;241;43m.\u001b[39;49m\u001b[43mget_log_like_gradient_and_hessian\u001b[49m\u001b[43m(\u001b[49m\n\u001b[1;32m     46\u001b[0m \u001b[43m        \u001b[49m\u001b[43mX\u001b[49m\u001b[43m,\u001b[49m\u001b[43m \u001b[49m\u001b[43mY_target\u001b[49m\u001b[43m,\u001b[49m\u001b[43m \u001b[49m\u001b[43mX_min\u001b[49m\u001b[43m,\u001b[49m\u001b[43m \u001b[49m\u001b[43mX_max\u001b[49m\u001b[43m,\u001b[49m\u001b[43m \u001b[49m\u001b[43mcompute_hessian\u001b[49m\u001b[38;5;241;43m=\u001b[39;49m\u001b[38;5;28;43;01mTrue\u001b[39;49;00m\n\u001b[1;32m     47\u001b[0m \u001b[43m    \u001b[49m\u001b[43m)\u001b[49m\n\u001b[1;32m     48\u001b[0m     p \u001b[38;5;241m=\u001b[39m Hinv \u001b[38;5;241m@\u001b[39m \u001b[38;5;241m-\u001b[39mg\n\u001b[1;32m     49\u001b[0m     alpha_index \u001b[38;5;241m=\u001b[39m np\u001b[38;5;241m.\u001b[39mnanargmin(\n\u001b[1;32m     50\u001b[0m         [\n\u001b[1;32m     51\u001b[0m             \u001b[38;5;28mself\u001b[39m\u001b[38;5;241m.\u001b[39mget_log_like_gradient_and_hessian(\n\u001b[0;32m   (...)\u001b[0m\n\u001b[1;32m     58\u001b[0m         ]\n\u001b[1;32m     59\u001b[0m     )\n",
      "File \u001b[0;32m~/base/pism-emulator/speedemulator/sample_posterior.py:111\u001b[0m, in \u001b[0;36mMALASampler.get_log_like_gradient_and_hessian\u001b[0;34m(self, X, Y_target, X_min, X_max, eps, compute_hessian)\u001b[0m\n\u001b[1;32m    109\u001b[0m lamda, Q \u001b[38;5;241m=\u001b[39m torch\u001b[38;5;241m.\u001b[39mlinalg\u001b[38;5;241m.\u001b[39meig(H)\n\u001b[1;32m    110\u001b[0m lamda, Q \u001b[38;5;241m=\u001b[39m lamda\u001b[38;5;241m.\u001b[39mtype(torch\u001b[38;5;241m.\u001b[39mfloat), Q\u001b[38;5;241m.\u001b[39mtype(torch\u001b[38;5;241m.\u001b[39mfloat)\n\u001b[0;32m--> 111\u001b[0m lamda_prime \u001b[38;5;241m=\u001b[39m torch\u001b[38;5;241m.\u001b[39msqrt(\u001b[43mlamda\u001b[49m\u001b[43m[\u001b[49m\u001b[43m:\u001b[49m\u001b[43m,\u001b[49m\u001b[43m \u001b[49m\u001b[38;5;241;43m0\u001b[39;49m\u001b[43m]\u001b[49m \u001b[38;5;241m*\u001b[39m\u001b[38;5;241m*\u001b[39m \u001b[38;5;241m2\u001b[39m \u001b[38;5;241m+\u001b[39m eps)\n\u001b[1;32m    112\u001b[0m lamda_prime_inv \u001b[38;5;241m=\u001b[39m \u001b[38;5;241m1.0\u001b[39m \u001b[38;5;241m/\u001b[39m torch\u001b[38;5;241m.\u001b[39msqrt(lamda[:, \u001b[38;5;241m0\u001b[39m] \u001b[38;5;241m*\u001b[39m\u001b[38;5;241m*\u001b[39m \u001b[38;5;241m2\u001b[39m \u001b[38;5;241m+\u001b[39m eps)\n\u001b[1;32m    113\u001b[0m H \u001b[38;5;241m=\u001b[39m Q \u001b[38;5;241m@\u001b[39m torch\u001b[38;5;241m.\u001b[39mdiag(lamda_prime) \u001b[38;5;241m@\u001b[39m Q\u001b[38;5;241m.\u001b[39mT\n",
      "\u001b[0;31mIndexError\u001b[0m: too many indices for tensor of dimension 1"
     ]
    }
   ],
   "source": [
    "run ../speedemulator/sample_posterior.py --emulator_dir ../speedemulator/2021_11_gris_2km_cpu --data_dir ../data/speeds_v2/ --target_file ../data/observed_speeds/greenland_obs_g1800m.nc"
   ]
  },
  {
   "cell_type": "code",
   "execution_count": 6,
   "id": "bcf3e359",
   "metadata": {},
   "outputs": [],
   "source": [
    "data_dir=\"../data/speeds_v2/\"\n",
    "samples_file=\"../data/samples/velocity_calibration_samples_100.csv\"\n",
    "target_file=\"../data/observed_speeds/greenland_obs_g1800m.nc\"\n",
    "target_var=\"velsurf_mag\"\n",
    "target_corr_threshold=25.0\n",
    "target_corr_var=\"thickness\"\n",
    "target_error_var=\"velsurf_mag_error\"\n",
    "training_var=\"velsurf_mag\"\n",
    "thinning_factor=1\n",
    "normalize_x=True\n",
    "log_y=True\n",
    "threshold=100e3\n",
    "epsilon=0\n",
    "return_numpy=False\n"
   ]
  },
  {
   "cell_type": "code",
   "execution_count": 7,
   "id": "7a967f6e",
   "metadata": {},
   "outputs": [],
   "source": [
    "A = torch.randn(2, 2, dtype=torch.complex128)"
   ]
  },
  {
   "cell_type": "code",
   "execution_count": 8,
   "id": "7ad67d5c",
   "metadata": {},
   "outputs": [
    {
     "data": {
      "text/plain": [
       "tensor([[ 0.1921+0.0062j,  0.6773+0.8533j],\n",
       "        [-0.9775+0.3516j, -0.1907+0.4130j]], dtype=torch.complex128)"
      ]
     },
     "execution_count": 8,
     "metadata": {},
     "output_type": "execute_result"
    }
   ],
   "source": [
    "A"
   ]
  },
  {
   "cell_type": "code",
   "execution_count": 11,
   "id": "77d75811",
   "metadata": {},
   "outputs": [],
   "source": [
    "B = torch.randn(2, 2, dtype=torch.float)"
   ]
  },
  {
   "cell_type": "code",
   "execution_count": 12,
   "id": "c00853cc",
   "metadata": {},
   "outputs": [
    {
     "data": {
      "text/plain": [
       "tensor([[-1.2980, -0.0163],\n",
       "        [-1.6737, -0.4782]])"
      ]
     },
     "execution_count": 12,
     "metadata": {},
     "output_type": "execute_result"
    }
   ],
   "source": [
    "B"
   ]
  },
  {
   "cell_type": "code",
   "execution_count": 15,
   "id": "f9709145",
   "metadata": {},
   "outputs": [],
   "source": [
    "U, V = torch.linalg.eig(B)"
   ]
  },
  {
   "cell_type": "code",
   "execution_count": 4,
   "id": "052c3512",
   "metadata": {},
   "outputs": [],
   "source": [
    "import torch\n",
    "import torch.nn as nn\n",
    "from torch import Tensor\n",
    "from torchmetrics.utilities.checks import _check_same_shape\n",
    "from torchmetrics import Metric\n",
    "import pytorch_lightning as pl\n",
    "from collections import OrderedDict\n"
   ]
  },
  {
   "cell_type": "code",
   "execution_count": 41,
   "id": "55359aba",
   "metadata": {},
   "outputs": [],
   "source": [
    "n_hidden = [128, 256, 256, 128]\n",
    "n_layers = 5\n",
    "n = 0\n",
    "\n",
    "models = []\n",
    "for  n in range(n_layers - 2):\n",
    "    models.append(nn.Sequential(\n",
    "        OrderedDict(\n",
    "            [\n",
    "                (\"Linear\", nn.Linear(n_hidden[n], n_hidden[n+1])),\n",
    "                (\"LayerNorm\", nn.LayerNorm(n_hidden)),\n",
    "                (\"Dropout\", nn.Dropout(p=0.1)),\n",
    "            ]\n",
    "        ))\n",
    "                 )"
   ]
  },
  {
   "cell_type": "code",
   "execution_count": 43,
   "id": "3fd6d575",
   "metadata": {},
   "outputs": [
    {
     "ename": "TypeError",
     "evalue": "'type' object is not subscriptable",
     "output_type": "error",
     "traceback": [
      "\u001b[0;31m---------------------------------------------------------------------------\u001b[0m",
      "\u001b[0;31mTypeError\u001b[0m                                 Traceback (most recent call last)",
      "Input \u001b[0;32mIn [43]\u001b[0m, in \u001b[0;36m<module>\u001b[0;34m\u001b[0m\n\u001b[0;32m----> 1\u001b[0m \u001b[43mnn\u001b[49m\u001b[38;5;241;43m.\u001b[39;49m\u001b[43mModuleList\u001b[49m\u001b[43m[\u001b[49m\u001b[43mmodels\u001b[49m\u001b[43m]\u001b[49m\n",
      "\u001b[0;31mTypeError\u001b[0m: 'type' object is not subscriptable"
     ]
    }
   ],
   "source": [
    "nn.ModuleList[models]"
   ]
  },
  {
   "cell_type": "code",
   "execution_count": null,
   "id": "fe09ce7d",
   "metadata": {},
   "outputs": [],
   "source": []
  }
 ],
 "metadata": {
  "kernelspec": {
   "display_name": "Python 3 (ipykernel)",
   "language": "python",
   "name": "python3"
  },
  "language_info": {
   "codemirror_mode": {
    "name": "ipython",
    "version": 3
   },
   "file_extension": ".py",
   "mimetype": "text/x-python",
   "name": "python",
   "nbconvert_exporter": "python",
   "pygments_lexer": "ipython3",
   "version": "3.9.10"
  }
 },
 "nbformat": 4,
 "nbformat_minor": 5
}
