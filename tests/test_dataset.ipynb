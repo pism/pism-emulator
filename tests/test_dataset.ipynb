{
 "cells": [
  {
   "cell_type": "code",
   "execution_count": null,
   "id": "58e7aba0",
   "metadata": {},
   "outputs": [],
   "source": [
    "from collections import OrderedDict\n",
    "from glob import glob\n",
    "import numpy as np\n",
    "import pandas as pd\n",
    "from os.path import join\n",
    "import re\n",
    "from sklearn.model_selection import train_test_split\n",
    "from tqdm import tqdm\n",
    "import xarray as xr\n",
    "\n",
    "import torch\n",
    "import torch.nn as nn\n",
    "from torch import Tensor\n",
    "from torchmetrics.utilities.checks import _check_same_shape\n",
    "from torchmetrics import Metric\n",
    "import pytorch_lightning as pl\n",
    "from torch.optim.lr_scheduler import ExponentialLR, ReduceLROnPlateau\n",
    "from torch.utils.data import DataLoader, TensorDataset\n",
    "import pylab as plt\n",
    "import matplotlib"
   ]
  },
  {
   "cell_type": "code",
   "execution_count": null,
   "id": "7c714859",
   "metadata": {},
   "outputs": [],
   "source": [
    "import sys\n",
    "sys.path.insert(0, \"../pismemulator/\")\n",
    "\n",
    "from nnemulator import PISMDataset"
   ]
  },
  {
   "cell_type": "code",
   "execution_count": null,
   "id": "445ea2c7",
   "metadata": {},
   "outputs": [],
   "source": [
    "dataset = PISMDataset(data_dir=\"../data/speeds_v2/\",\n",
    "                      samples_file=\"../data/samples/velocity_calibration_samples_100.csv\",\n",
    "                      target_file=\"../data/observed_speeds/greenland_obs_g1800m.nc\",\n",
    "                     target_corr_threshold=25)\n",
    "            "
   ]
  },
  {
   "cell_type": "code",
   "execution_count": null,
   "id": "ed2d3b25",
   "metadata": {},
   "outputs": [],
   "source": [
    "cd ../speedemulator/"
   ]
  },
  {
   "cell_type": "code",
   "execution_count": null,
   "id": "ea194b6b",
   "metadata": {},
   "outputs": [],
   "source": [
    "run ../speedemulator/sample_posterior.py --thinning_factor 10 --emulator_dir 2021_11_gris_2km_cpu --data_dir ../data/speeds_v2/ --target_file ../data/observed_speeds/greenland_obs_g1800m.nc"
   ]
  },
  {
   "cell_type": "code",
   "execution_count": null,
   "id": "865da093",
   "metadata": {},
   "outputs": [],
   "source": [
    "data_dir=\"../data/speeds_v2/\"\n",
    "samples_file=\"../data/samples/velocity_calibration_samples_100.csv\"\n",
    "target_file=\"../data/observed_speeds/greenland_obs_g1800m.nc\"\n",
    "target_var=\"velsurf_mag\"\n",
    "target_corr_threshold=25.0\n",
    "target_corr_var=\"thickness\"\n",
    "target_error_var=\"velsurf_mag_error\"\n",
    "training_var=\"velsurf_mag\"\n",
    "thinning_factor=1\n",
    "normalize_x=True\n",
    "log_y=True\n",
    "threshold=100e3\n",
    "epsilon=0\n",
    "return_numpy=False\n"
   ]
  }
 ],
 "metadata": {
  "kernelspec": {
   "display_name": "Python 3 (ipykernel)",
   "language": "python",
   "name": "python3"
  },
  "language_info": {
   "codemirror_mode": {
    "name": "ipython",
    "version": 3
   },
   "file_extension": ".py",
   "mimetype": "text/x-python",
   "name": "python",
   "nbconvert_exporter": "python",
   "pygments_lexer": "ipython3",
   "version": "3.9.10"
  }
 },
 "nbformat": 4,
 "nbformat_minor": 5
}
