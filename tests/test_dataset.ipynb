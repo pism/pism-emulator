{
 "cells": [
  {
   "cell_type": "code",
   "execution_count": null,
   "id": "c10166e0",
   "metadata": {},
   "outputs": [],
   "source": [
    "from collections import OrderedDict\n",
    "from glob import glob\n",
    "import numpy as np\n",
    "import pandas as pd\n",
    "from os.path import join\n",
    "import re\n",
    "from sklearn.model_selection import train_test_split\n",
    "from tqdm import tqdm\n",
    "import xarray as xr\n",
    "\n",
    "import torch\n",
    "import torch.nn as nn\n",
    "from torch import Tensor\n",
    "from torchmetrics.utilities.checks import _check_same_shape\n",
    "from torchmetrics import Metric\n",
    "import pytorch_lightning as pl\n",
    "from torch.optim.lr_scheduler import ExponentialLR, ReduceLROnPlateau\n",
    "from torch.utils.data import DataLoader, TensorDataset\n",
    "import pylab as plt\n",
    "import matplotlib"
   ]
  },
  {
   "cell_type": "code",
   "execution_count": null,
   "id": "7c714859",
   "metadata": {},
   "outputs": [],
   "source": [
    "import sys\n",
    "sys.path.insert(0, \"../pismemulator/\")\n",
    "\n",
    "from nnemulator import PISMDataset"
   ]
  },
  {
   "cell_type": "code",
   "execution_count": null,
   "id": "445ea2c7",
   "metadata": {},
   "outputs": [],
   "source": [
    "dataset = PISMDataset(data_dir=\"../data/speeds_v2/\",\n",
    "                      samples_file=\"../data/samples/velocity_calibration_samples_100.csv\",\n",
    "                      target_file=\"../data/observed_speeds/greenland_obs_g1800m.nc\",\n",
    "                     target_corr_threshold=25)\n",
    "            "
   ]
  },
  {
   "cell_type": "code",
   "execution_count": null,
   "id": "ed2d3b25",
   "metadata": {},
   "outputs": [],
   "source": [
    "cd ../speedemulator/"
   ]
  },
  {
   "cell_type": "code",
   "execution_count": null,
   "id": "ea194b6b",
   "metadata": {},
   "outputs": [],
   "source": [
    "run ../speedemulator/sample_posterior.py --emulator_dir ../speedemulator/2021_11_gris_2km_cpu --data_dir ../data/speeds_v2/ --target_file ../data/observed_speeds/greenland_obs_g1800m.nc"
   ]
  },
  {
   "cell_type": "code",
   "execution_count": null,
   "id": "bcf3e359",
   "metadata": {},
   "outputs": [],
   "source": [
    "data_dir=\"../data/speeds_v2/\"\n",
    "samples_file=\"../data/samples/velocity_calibration_samples_100.csv\"\n",
    "target_file=\"../data/observed_speeds/greenland_obs_g1800m.nc\"\n",
    "target_var=\"velsurf_mag\"\n",
    "target_corr_threshold=25.0\n",
    "target_corr_var=\"thickness\"\n",
    "target_error_var=\"velsurf_mag_error\"\n",
    "training_var=\"velsurf_mag\"\n",
    "thinning_factor=1\n",
    "normalize_x=True\n",
    "log_y=True\n",
    "threshold=100e3\n",
    "epsilon=0\n",
    "return_numpy=False\n"
   ]
  },
  {
   "cell_type": "code",
   "execution_count": null,
   "id": "7a967f6e",
   "metadata": {},
   "outputs": [],
   "source": [
    "A = torch.randn(2, 2, dtype=torch.complex128)"
   ]
  },
  {
   "cell_type": "code",
   "execution_count": null,
   "id": "7ad67d5c",
   "metadata": {},
   "outputs": [],
   "source": [
    "A"
   ]
  },
  {
   "cell_type": "code",
   "execution_count": null,
   "id": "77d75811",
   "metadata": {},
   "outputs": [],
   "source": [
    "B = torch.randn(2, 2, dtype=torch.float)"
   ]
  },
  {
   "cell_type": "code",
   "execution_count": null,
   "id": "c00853cc",
   "metadata": {},
   "outputs": [],
   "source": [
    "B"
   ]
  },
  {
   "cell_type": "code",
   "execution_count": null,
   "id": "f9709145",
   "metadata": {},
   "outputs": [],
   "source": [
    "U, V = torch.linalg.eig(B)"
   ]
  },
  {
   "cell_type": "code",
   "execution_count": null,
   "id": "052c3512",
   "metadata": {},
   "outputs": [],
   "source": [
    "import torch\n",
    "import torch.nn as nn\n",
    "from torch import Tensor\n",
    "from torchmetrics.utilities.checks import _check_same_shape\n",
    "from torchmetrics import Metric\n",
    "import pytorch_lightning as pl\n",
    "from collections import OrderedDict\n"
   ]
  },
  {
   "cell_type": "code",
   "execution_count": null,
   "id": "55359aba",
   "metadata": {},
   "outputs": [],
   "source": [
    "n_hidden = [128, 256, 256, 128]\n",
    "n_layers = 5\n",
    "n = 0\n",
    "\n",
    "models = []\n",
    "for  n in range(n_layers - 2):\n",
    "    models.append(nn.Sequential(\n",
    "        OrderedDict(\n",
    "            [\n",
    "                (\"Linear\", nn.Linear(n_hidden[n], n_hidden[n+1])),\n",
    "                (\"LayerNorm\", nn.LayerNorm(n_hidden)),\n",
    "                (\"Dropout\", nn.Dropout(p=0.1)),\n",
    "            ]\n",
    "        ))\n",
    "                 )"
   ]
  },
  {
   "cell_type": "code",
   "execution_count": null,
   "id": "3fd6d575",
   "metadata": {},
   "outputs": [],
   "source": [
    "nn.ModuleList(models)"
   ]
  },
  {
   "cell_type": "code",
   "execution_count": null,
   "id": "48a693e9",
   "metadata": {},
   "outputs": [],
   "source": [
    "import numpy as np\n",
    "import matplotlib.pyplot as plt\n",
    "import pandas as pd\n",
    "import seaborn as sns"
   ]
  },
  {
   "cell_type": "code",
   "execution_count": null,
   "id": "8ace3473",
   "metadata": {},
   "outputs": [],
   "source": [
    "import pymc3 as pm"
   ]
  },
  {
   "cell_type": "code",
   "execution_count": null,
   "id": "34873737",
   "metadata": {},
   "outputs": [],
   "source": [
    "rng = np.random.RandomState(1)\n",
    "x = 10 * rng.rand(50)\n",
    "y = 2 * x - 5 + 2*rng.randn(50)\n",
    "x = x.reshape(-1, 1)\n",
    "y = y.reshape(-1, 1)\n",
    "\n",
    "plt.scatter(x, y)\n"
   ]
  },
  {
   "cell_type": "code",
   "execution_count": null,
   "id": "b064c908",
   "metadata": {},
   "outputs": [],
   "source": [
    "basic_model =  pm.Model()"
   ]
  },
  {
   "cell_type": "code",
   "execution_count": null,
   "id": "873d4dc4",
   "metadata": {},
   "outputs": [],
   "source": [
    "with basic_model as bm:\n",
    "\n",
    "    #Priors\n",
    "    alpha = pm.Normal('alpha', mu=0, sd=10)\n",
    "    beta = pm.Normal('beta', mu=0, sd=10)\n",
    "    sigma = pm.HalfNormal('sigma', sd=1)\n",
    "\n",
    "    # Deterministics\n",
    "    mu = alpha + beta*x\n",
    "    \n",
    "    # Likelihood \n",
    "    Ylikelihood = pm.Normal('Ylikelihood', mu=mu, sd=sigma, observed=y)"
   ]
  },
  {
   "cell_type": "code",
   "execution_count": null,
   "id": "6627fb76",
   "metadata": {},
   "outputs": [],
   "source": [
    "trace = pm.sample(draws=2000,model=bm)"
   ]
  },
  {
   "cell_type": "code",
   "execution_count": null,
   "id": "93921c22",
   "metadata": {},
   "outputs": [],
   "source": [
    "pm.traceplot(trace)"
   ]
  },
  {
   "cell_type": "code",
   "execution_count": null,
   "id": "f8e36d66",
   "metadata": {},
   "outputs": [],
   "source": [
    "print(pm.summary(trace).round(2))"
   ]
  },
  {
   "cell_type": "code",
   "execution_count": null,
   "id": "763a7e1d",
   "metadata": {},
   "outputs": [],
   "source": [
    "model =  pm.Model()\n",
    "with model as m:\n",
    "\n",
    "    #Priors\n",
    "    alpha = pm.Normal('alpha', mu=0, sd=10)\n",
    "    beta = pm.Normal('beta', mu=0, sd=10)\n",
    "    xn = pm.Normal('x', mu=0, sd=10)\n",
    "    sigma = pm.HalfNormal('sigma', sd=1)\n",
    "\n",
    "    # Deterministics\n",
    "    mu = alpha + beta*xn\n",
    "    \n",
    "    # Likelihood \n",
    "    Ylikelihood = pm.Normal('Ylikelihood', mu=mu, sd=sigma, observed=y)"
   ]
  },
  {
   "cell_type": "code",
   "execution_count": null,
   "id": "e18cfc9c",
   "metadata": {},
   "outputs": [],
   "source": [
    "intercept = 0 \n",
    "gradient = 2.5\n",
    "size = 10000\n",
    "\n",
    "x_true = np.array(np.linspace(0,1,size))\n",
    "y_true = intercept + gradient * x_true\n",
    "\n",
    "# adding noise to data\n",
    "x = x_true + np.random.normal(loc=0, scale=0.5, size=size)\n",
    "y = y_true + np.random.normal(loc=0, scale=0.5, size=size)"
   ]
  },
  {
   "cell_type": "code",
   "execution_count": null,
   "id": "dc3986df",
   "metadata": {},
   "outputs": [],
   "source": [
    "with pm.Model() as model:\n",
    "    err_odr = pm.HalfNormal('err_odr', 5.)\n",
    "    err_param = pm.HalfNormal('err_param', 5.)\n",
    "    x_lat = pm.Normal('x_mu', 0, 5., shape=x.shape[0])\n",
    "    x_obs = pm.Normal('x_obs', mu=x_lat, sd=err_odr, observed=x, shape=x.shape[0])\n",
    "    offset = pm.Normal('offset', 0, err_param)\n",
    "    slope = pm.Normal('slope', 0, err_param)\n",
    "    y_pred = pm.Deterministic('y_pred', offset + slope * x_lat)\n",
    "    y_obs = pm.Normal('y', mu=y_pred, sd=err_odr, observed=y)\n",
    "    \n",
    "    trace = pm.sample(800, tune=1500, chains=4, cores=8, init='jitter+adapt_diag')\n",
    "    pm.traceplot(trace)"
   ]
  },
  {
   "cell_type": "code",
   "execution_count": null,
   "id": "74fcce5b",
   "metadata": {},
   "outputs": [],
   "source": [
    "85*1.1 * 1.1"
   ]
  },
  {
   "cell_type": "code",
   "execution_count": null,
   "id": "8d0621d9",
   "metadata": {},
   "outputs": [],
   "source": [
    "clear"
   ]
  },
  {
   "cell_type": "code",
   "execution_count": null,
   "id": "bfc5b4b6",
   "metadata": {},
   "outputs": [],
   "source": []
  }
 ],
 "metadata": {
  "kernelspec": {
   "display_name": "Python 3 (ipykernel)",
   "language": "python",
   "name": "python3"
  },
  "language_info": {
   "codemirror_mode": {
    "name": "ipython",
    "version": 3
   },
   "file_extension": ".py",
   "mimetype": "text/x-python",
   "name": "python",
   "nbconvert_exporter": "python",
   "pygments_lexer": "ipython3"
  }
 },
 "nbformat": 4,
 "nbformat_minor": 5
}
