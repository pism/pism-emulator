{
 "cells": [
  {
   "cell_type": "code",
   "execution_count": null,
   "id": "7c714859",
   "metadata": {},
   "outputs": [],
   "source": [
    "import sys\n",
    "sys.path.insert(0, \"../pismemulator/\")\n",
    "\n",
    "from nnemulator import PISMDataset"
   ]
  },
  {
   "cell_type": "code",
   "execution_count": null,
   "id": "445ea2c7",
   "metadata": {},
   "outputs": [],
   "source": [
    "dataset = PISMDataset(data_dir=\"../data/speeds_v2/\",\n",
    "           samples_file=\"../data/samples/velocity_calibration_samples_100.csv\",\n",
    "           target_file=\"../data/observed_speeds/greenland_vel_mosaic250_v1_g1800m.nc\")"
   ]
  }
 ],
 "metadata": {
  "kernelspec": {
   "display_name": "Python 3 (ipykernel)",
   "language": "python",
   "name": "python3"
  },
  "language_info": {
   "codemirror_mode": {
    "name": "ipython",
    "version": 3
   },
   "file_extension": ".py",
   "mimetype": "text/x-python",
   "name": "python",
   "nbconvert_exporter": "python",
   "pygments_lexer": "ipython3",
   "version": "3.9.10"
  }
 },
 "nbformat": 4,
 "nbformat_minor": 5
}
