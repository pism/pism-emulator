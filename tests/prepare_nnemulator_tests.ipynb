{
 "cells": [
  {
   "cell_type": "markdown",
   "id": "e69a0052",
   "metadata": {},
   "source": [
    "# Generate the testing data"
   ]
  },
  {
   "cell_type": "code",
   "execution_count": null,
   "id": "7efc3295",
   "metadata": {},
   "outputs": [],
   "source": [
    "import numpy as np\n",
    "from pismemulator.nnemulator import PISMDataset"
   ]
  },
  {
   "cell_type": "code",
   "execution_count": null,
   "id": "60bafedf",
   "metadata": {},
   "outputs": [],
   "source": [
    "dataset = PISMDataset(\n",
    "    data_dir=\"training_data\",\n",
    "    samples_file=\"../data/samples/velocity_calibration_samples_100.csv\",\n",
    "    target_file=\"test_data/greenland_vel_mosaic250_v1_g9000m.nc\",\n",
    "    thinning_factor=1,\n",
    ")"
   ]
  },
  {
   "cell_type": "code",
   "execution_count": null,
   "id": "02fa5b5f",
   "metadata": {},
   "outputs": [],
   "source": [
    "np.savez_compressed(\"training_samples.npz\", dataset.X.detach().numpy())\n",
    "np.savez_compressed(\"training_responses.npz\", dataset.Y.detach().numpy())\n",
    "np.savez_compressed(\"training_areas.npz\", dataset.normed_area.detach().numpy())"
   ]
  },
  {
   "cell_type": "code",
   "execution_count": null,
   "id": "437c2adf",
   "metadata": {},
   "outputs": [],
   "source": []
  }
 ],
 "metadata": {
  "kernelspec": {
   "display_name": "Python 3",
   "language": "python",
   "name": "python3"
  },
  "language_info": {
   "codemirror_mode": {
    "name": "ipython",
    "version": 3
   },
   "file_extension": ".py",
   "mimetype": "text/x-python",
   "name": "python",
   "nbconvert_exporter": "python",
   "pygments_lexer": "ipython3"
  }
 },
 "nbformat": 4,
 "nbformat_minor": 5
}
