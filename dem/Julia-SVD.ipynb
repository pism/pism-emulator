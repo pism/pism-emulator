{
 "cells": [
  {
   "cell_type": "markdown",
   "id": "e4e659b1",
   "metadata": {},
   "source": [
    "# Julia "
   ]
  },
  {
   "cell_type": "code",
   "execution_count": 1,
   "id": "dfbeed94",
   "metadata": {},
   "outputs": [
    {
     "name": "stderr",
     "output_type": "stream",
     "text": [
      "\u001b[32m\u001b[1m    Updating\u001b[22m\u001b[39m registry at `~/.julia/registries/General.toml`\n",
      "\u001b[32m\u001b[1m   Resolving\u001b[22m\u001b[39m package versions...\n",
      "\u001b[32m\u001b[1m  No Changes\u001b[22m\u001b[39m to `~/.julia/environments/v1.8/Project.toml`\n",
      "\u001b[32m\u001b[1m  No Changes\u001b[22m\u001b[39m to `~/.julia/environments/v1.8/Manifest.toml`\n",
      "\u001b[32m\u001b[1m   Resolving\u001b[22m\u001b[39m package versions...\n",
      "\u001b[32m\u001b[1m  No Changes\u001b[22m\u001b[39m to `~/.julia/environments/v1.8/Project.toml`\n",
      "\u001b[32m\u001b[1m  No Changes\u001b[22m\u001b[39m to `~/.julia/environments/v1.8/Manifest.toml`\n",
      "\u001b[32m\u001b[1m   Resolving\u001b[22m\u001b[39m package versions...\n",
      "\u001b[32m\u001b[1m  No Changes\u001b[22m\u001b[39m to `~/.julia/environments/v1.8/Project.toml`\n",
      "\u001b[32m\u001b[1m  No Changes\u001b[22m\u001b[39m to `~/.julia/environments/v1.8/Manifest.toml`\n",
      "\u001b[32m\u001b[1m   Resolving\u001b[22m\u001b[39m package versions...\n",
      "\u001b[32m\u001b[1m  No Changes\u001b[22m\u001b[39m to `~/.julia/environments/v1.8/Project.toml`\n",
      "\u001b[32m\u001b[1m  No Changes\u001b[22m\u001b[39m to `~/.julia/environments/v1.8/Manifest.toml`\n",
      "\u001b[32m\u001b[1m   Resolving\u001b[22m\u001b[39m package versions...\n",
      "\u001b[32m\u001b[1m  No Changes\u001b[22m\u001b[39m to `~/.julia/environments/v1.8/Project.toml`\n",
      "\u001b[32m\u001b[1m  No Changes\u001b[22m\u001b[39m to `~/.julia/environments/v1.8/Manifest.toml`\n",
      "\u001b[32m\u001b[1m   Resolving\u001b[22m\u001b[39m package versions...\n",
      "\u001b[32m\u001b[1m  No Changes\u001b[22m\u001b[39m to `~/.julia/environments/v1.8/Project.toml`\n",
      "\u001b[32m\u001b[1m  No Changes\u001b[22m\u001b[39m to `~/.julia/environments/v1.8/Manifest.toml`\n",
      "\u001b[32m\u001b[1m   Resolving\u001b[22m\u001b[39m package versions...\n",
      "\u001b[32m\u001b[1m  No Changes\u001b[22m\u001b[39m to `~/.julia/environments/v1.8/Project.toml`\n",
      "\u001b[32m\u001b[1m  No Changes\u001b[22m\u001b[39m to `~/.julia/environments/v1.8/Manifest.toml`\n",
      "\u001b[32m\u001b[1m   Resolving\u001b[22m\u001b[39m package versions...\n",
      "\u001b[32m\u001b[1m  No Changes\u001b[22m\u001b[39m to `~/.julia/environments/v1.8/Project.toml`\n",
      "\u001b[32m\u001b[1m  No Changes\u001b[22m\u001b[39m to `~/.julia/environments/v1.8/Manifest.toml`\n",
      "\u001b[32m\u001b[1m   Resolving\u001b[22m\u001b[39m package versions...\n",
      "\u001b[32m\u001b[1m  No Changes\u001b[22m\u001b[39m to `~/.julia/environments/v1.8/Project.toml`\n",
      "\u001b[32m\u001b[1m  No Changes\u001b[22m\u001b[39m to `~/.julia/environments/v1.8/Manifest.toml`\n"
     ]
    }
   ],
   "source": [
    "import Pkg\n",
    "Pkg.add(\"Flux\")\n",
    "Pkg.add(\"Plots\")\n",
    "Pkg.add(\"NetCDF\")\n",
    "Pkg.add(\"TSVD\")\n",
    "Pkg.add(\"IterTools\")\n",
    "Pkg.add(\"Statistics\")\n",
    "Pkg.add(\"Compat\")\n",
    "Pkg.add(\"LinearAlgebra\")\n",
    "Pkg.add(\"Glob\")\n",
    "using Flux\n",
    "using Flux: train!\n",
    "using Plots\n",
    "using TSVD\n",
    "using IterTools\n",
    "using IterTools: ncycle \n",
    "using Statistics\n",
    "using LinearAlgebra\n",
    "using Compat\n",
    "using Glob\n",
    "using NetCDF"
   ]
  },
  {
   "cell_type": "code",
   "execution_count": 2,
   "id": "5b93275c",
   "metadata": {},
   "outputs": [
    {
     "name": "stdout",
     "output_type": "stream",
     "text": [
      "usurf_gris_g1800m_v5_RAGIS_id_0_1980-1-1_2020-1-1_YM.nc\n",
      "usurf_gris_g1800m_v5_RAGIS_id_10_1980-1-1_2020-1-1_YM.nc\n",
      "usurf_gris_g1800m_v5_RAGIS_id_11_1980-1-1_2020-1-1_YM.nc\n",
      "usurf_gris_g1800m_v5_RAGIS_id_12_1980-1-1_2020-1-1_YM.nc\n",
      "usurf_gris_g1800m_v5_RAGIS_id_13_1980-1-1_2020-1-1_YM.nc\n",
      "usurf_gris_g1800m_v5_RAGIS_id_14_1980-1-1_2020-1-1_YM.nc\n",
      "usurf_gris_g1800m_v5_RAGIS_id_15_1980-1-1_2020-1-1_YM.nc\n",
      "usurf_gris_g1800m_v5_RAGIS_id_16_1980-1-1_2020-1-1_YM.nc\n",
      "usurf_gris_g1800m_v5_RAGIS_id_17_1980-1-1_2020-1-1_YM.nc\n",
      "usurf_gris_g1800m_v5_RAGIS_id_18_1980-1-1_2020-1-1_YM.nc\n",
      "usurf_gris_g1800m_v5_RAGIS_id_19_1980-1-1_2020-1-1_YM.nc\n",
      "usurf_gris_g1800m_v5_RAGIS_id_1_1980-1-1_2020-1-1_YM.nc\n",
      "usurf_gris_g1800m_v5_RAGIS_id_20_1980-1-1_2020-1-1_YM.nc\n",
      "usurf_gris_g1800m_v5_RAGIS_id_21_1980-1-1_2020-1-1_YM.nc\n",
      "usurf_gris_g1800m_v5_RAGIS_id_22_1980-1-1_2020-1-1_YM.nc\n",
      "usurf_gris_g1800m_v5_RAGIS_id_23_1980-1-1_2020-1-1_YM.nc\n",
      "usurf_gris_g1800m_v5_RAGIS_id_24_1980-1-1_2020-1-1_YM.nc\n",
      "usurf_gris_g1800m_v5_RAGIS_id_25_1980-1-1_2020-1-1_YM.nc\n",
      "usurf_gris_g1800m_v5_RAGIS_id_26_1980-1-1_2020-1-1_YM.nc\n",
      "usurf_gris_g1800m_v5_RAGIS_id_27_1980-1-1_2020-1-1_YM.nc\n",
      "usurf_gris_g1800m_v5_RAGIS_id_28_1980-1-1_2020-1-1_YM.nc\n",
      "usurf_gris_g1800m_v5_RAGIS_id_29_1980-1-1_2020-1-1_YM.nc\n",
      "usurf_gris_g1800m_v5_RAGIS_id_2_1980-1-1_2020-1-1_YM.nc\n",
      "usurf_gris_g1800m_v5_RAGIS_id_3_1980-1-1_2020-1-1_YM.nc\n",
      "usurf_gris_g1800m_v5_RAGIS_id_4_1980-1-1_2020-1-1_YM.nc\n",
      "usurf_gris_g1800m_v5_RAGIS_id_5_1980-1-1_2020-1-1_YM.nc\n",
      "usurf_gris_g1800m_v5_RAGIS_id_6_1980-1-1_2020-1-1_YM.nc\n",
      "usurf_gris_g1800m_v5_RAGIS_id_8_1980-1-1_2020-1-1_YM.nc\n"
     ]
    }
   ],
   "source": [
    "training_files = glob(\"usurf_gris_g1800m_v5_RAGIS_id_*_1980-1-1_2020-1-1_YM.nc\")\n",
    "nf = length(training_files)\n",
    "d = ncread(training_files[1], \"usurf\")\n",
    "nx, ny, nt = size(d)\n",
    "x = ncread(training_files[1], \"x\")\n",
    "y = ncread(training_files[1], \"y\")\n",
    "\n",
    "Data = zeros(nf * nt, nx*ny)\n",
    "for (k, training_file) in enumerate(training_files)\n",
    "    println(training_file)\n",
    "    d = ncread(training_file, \"usurf\")\n",
    "    data = transpose(reshape(d, ny * nx, nt))\n",
    "    Data[(k - 1 ) * nt + 1:k * nt, :] = data\n",
    "end\n",
    "\n",
    "\n",
    "obs_file =\"aerodem_1978_1987_wgs84_g1800m.nc\"\n",
    "obs = ncread(obs_file, \"surface_altitude\")\n",
    "nx_obs, ny_obs = size(obs)\n",
    "\n",
    "R = reshape(obs, 1, nx * ny);\n",
    "I = findall(x->x!=-9999, R);"
   ]
  },
  {
   "cell_type": "code",
   "execution_count": 3,
   "id": "056aa919",
   "metadata": {},
   "outputs": [
    {
     "name": "stdout",
     "output_type": "stream",
     "text": [
      "V= (1337600, 10)\n",
      "S= (10,)\n",
      "U= (1120, 10)\n",
      "R= (1, 1337600)\n",
      "SV= (10, 1337600)\n"
     ]
    },
    {
     "data": {
      "text/plain": [
       "1×176918 Matrix{Float32}:\n",
       " 24.5947  -2.37123  202.58  -3.77586  …  -8.43288  -13.9553  -7.86059"
      ]
     },
     "execution_count": 3,
     "metadata": {},
     "output_type": "execute_result"
    }
   ],
   "source": [
    "q = 10\n",
    "\n",
    "Data_mean = mean(Data, dims=1)\n",
    "Data_scaled = Data .- Data_mean\n",
    "U, S, V = tsvd(Data_scaled, q)\n",
    "println(\"dim V = \", size(V))\n",
    "println(\"dim S = \", size(S))\n",
    "println(\"dim U = \", size(U))\n",
    "println(\"dim R = \", size(R))\n",
    "\n",
    "SV = transpose(V * diagm(S))\n",
    "\n",
    "println(\"SV= \",size(SV))\n",
    "\n",
    "x_train = transpose(SV[repeat(I, 1, q)])\n",
    "_, n_obs = size(x_train)\n",
    "y_train = reshape(R[I], 1, n_obs)\n",
    "\n"
   ]
  },
  {
   "cell_type": "code",
   "execution_count": null,
   "id": "c5cdf711",
   "metadata": {},
   "outputs": [
    {
     "name": "stdout",
     "output_type": "stream",
     "text": [
      "0.0\n",
      "Initial loss: 535137.848512128\n",
      "Final loss: 274503.15228713304\n",
      "100000.0\n",
      "Initial loss: 595094.1244531599\n"
     ]
    }
   ],
   "source": [
    "for K in [0 1e5 1e6 1e7 1e8]\n",
    "    println(K)\n",
    "    model = Dense(q, 1)\n",
    "    ps = Flux.params(model)\n",
    "    penalty() = K * mean(abs2, model.weight)\n",
    "    loss(x, y) = Flux.Losses.mse(model(x), y) + penalty()\n",
    "    opt = Adam(0.1)\n",
    "\n",
    "\n",
    "    loss_0 = loss(x_train, y_train)\n",
    "    println(\"Initial loss: $loss_0\")\n",
    "\n",
    "    data = [(x_train, y_train)]\n",
    "    n_epochs = 100\n",
    "\n",
    "    train_loader = Flux.DataLoader((x_train, y_train), batchsize = 128, shuffle = true)\n",
    "\n",
    "    Flux.train!(loss, ps, ncycle(train_loader, n_epochs), opt)\n",
    "\n",
    "    loss_e = loss(x_train, y_train)\n",
    "    println(\"Final loss: $loss_e\")\n",
    "\n",
    "    M =  reshape(model.weight * SV + Data_mean, nx, ny)\n",
    "    M[findall(x->x<0, M)] .= 0\n",
    "\n",
    "    Ms = copy(reshape(M, nx, ny, 1))\n",
    "    heatmap(x, y, transpose(M))\n",
    "\n",
    "    filename = \"dem_q_$(q)_K_$(K).nc\"\n",
    "    varname  = \"usurf\"\n",
    "    attribs  = Dict(\"units\"   => \"m\",\n",
    "                    \"data_min\" => 0.0)\n",
    "\n",
    "    nccreate(filename, varname, \"x\", x, \"y\", y, \"time\", 1, atts=attribs)\n",
    "    ncwrite(Ms, filename, varname)\n",
    "end"
   ]
  },
  {
   "cell_type": "code",
   "execution_count": null,
   "id": "17c41884",
   "metadata": {},
   "outputs": [],
   "source": []
  }
 ],
 "metadata": {
  "kernelspec": {
   "display_name": "Julia 1.8.2",
   "language": "julia",
   "name": "julia-1.8"
  },
  "language_info": {
   "file_extension": ".jl",
   "mimetype": "application/julia",
   "name": "julia",
   "version": "1.8.2"
  }
 },
 "nbformat": 4,
 "nbformat_minor": 5
}
