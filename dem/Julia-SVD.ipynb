{
 "cells": [
  {
   "cell_type": "markdown",
   "id": "e4e659b1",
   "metadata": {},
   "source": [
    "# Julia DEM SVD"
   ]
  },
  {
   "cell_type": "code",
   "execution_count": 1,
   "id": "dfbeed94",
   "metadata": {},
   "outputs": [
    {
     "name": "stderr",
     "output_type": "stream",
     "text": [
      "\u001b[32m\u001b[1m    Updating\u001b[22m\u001b[39m registry at `~/.julia/registries/General.toml`\n",
      "\u001b[32m\u001b[1m   Resolving\u001b[22m\u001b[39m package versions...\n",
      "\u001b[32m\u001b[1m   Installed\u001b[22m\u001b[39m Libiconv_jll ─ v1.16.1+2\n",
      "\u001b[32m\u001b[1m   Installed\u001b[22m\u001b[39m Glib_jll ───── v2.74.0+2\n",
      "\u001b[32m\u001b[1m   Installed\u001b[22m\u001b[39m Qt5Base_jll ── v5.15.3+2\n",
      "\u001b[32m\u001b[1m  No Changes\u001b[22m\u001b[39m to `~/.julia/environments/v1.8/Project.toml`\n",
      "\u001b[32m\u001b[1m    Updating\u001b[22m\u001b[39m `~/.julia/environments/v1.8/Manifest.toml`\n",
      " \u001b[90m [7746bdde] \u001b[39m\u001b[93m↑ Glib_jll v2.74.0+1 ⇒ v2.74.0+2\u001b[39m\n",
      " \u001b[90m [94ce4f54] \u001b[39m\u001b[93m↑ Libiconv_jll v1.16.1+1 ⇒ v1.16.1+2\u001b[39m\n",
      " \u001b[90m [ea2cea3b] \u001b[39m\u001b[93m↑ Qt5Base_jll v5.15.3+1 ⇒ v5.15.3+2\u001b[39m\n",
      "\u001b[32m\u001b[1mPrecompiling\u001b[22m\u001b[39m project...\n",
      "\u001b[32m  ✓ \u001b[39m\u001b[90mLibiconv_jll\u001b[39m\n",
      "\u001b[32m  ✓ \u001b[39m\u001b[90mXML2_jll\u001b[39m\n",
      "\u001b[32m  ✓ \u001b[39m\u001b[90mWayland_jll\u001b[39m\n",
      "\u001b[32m  ✓ \u001b[39m\u001b[90mXSLT_jll\u001b[39m\n",
      "\u001b[32m  ✓ \u001b[39m\u001b[90mNetCDF_jll\u001b[39m\n",
      "\u001b[32m  ✓ \u001b[39m\u001b[90mGettext_jll\u001b[39m\n",
      "\u001b[32m  ✓ \u001b[39m\u001b[90mXorg_libxcb_jll\u001b[39m\n",
      "\u001b[32m  ✓ \u001b[39m\u001b[90mGlib_jll\u001b[39m\n",
      "\u001b[32m  ✓ \u001b[39m\u001b[90mXorg_libX11_jll\u001b[39m\n",
      "\u001b[32m  ✓ \u001b[39m\u001b[90mXorg_xcb_util_jll\u001b[39m\n",
      "\u001b[32m  ✓ \u001b[39m\u001b[90mXorg_libXext_jll\u001b[39m\n",
      "\u001b[32m  ✓ \u001b[39m\u001b[90mXorg_libXfixes_jll\u001b[39m\n",
      "\u001b[32m  ✓ \u001b[39m\u001b[90mXorg_libXrender_jll\u001b[39m\n",
      "\u001b[32m  ✓ \u001b[39m\u001b[90mXorg_libxkbfile_jll\u001b[39m\n",
      "\u001b[32m  ✓ \u001b[39m\u001b[90mXorg_xcb_util_image_jll\u001b[39m\n",
      "\u001b[32m  ✓ \u001b[39m\u001b[90mXorg_xcb_util_renderutil_jll\u001b[39m\n",
      "\u001b[32m  ✓ \u001b[39m\u001b[90mXorg_xcb_util_keysyms_jll\u001b[39m\n",
      "\u001b[32m  ✓ \u001b[39m\u001b[90mXorg_xcb_util_wm_jll\u001b[39m\n",
      "\u001b[32m  ✓ \u001b[39mNetCDF\n",
      "\u001b[32m  ✓ \u001b[39m\u001b[90mLibglvnd_jll\u001b[39m\n",
      "\u001b[32m  ✓ \u001b[39m\u001b[90mXorg_libXinerama_jll\u001b[39m\n",
      "\u001b[32m  ✓ \u001b[39m\u001b[90mXorg_libXi_jll\u001b[39m\n",
      "\u001b[32m  ✓ \u001b[39m\u001b[90mXorg_libXrandr_jll\u001b[39m\n",
      "\u001b[32m  ✓ \u001b[39m\u001b[90mXorg_xkbcomp_jll\u001b[39m\n",
      "\u001b[32m  ✓ \u001b[39m\u001b[90mXorg_libXcursor_jll\u001b[39m\n",
      "\u001b[32m  ✓ \u001b[39m\u001b[90mXorg_xkeyboard_config_jll\u001b[39m\n",
      "\u001b[32m  ✓ \u001b[39m\u001b[90mGLFW_jll\u001b[39m\n",
      "\u001b[32m  ✓ \u001b[39m\u001b[90mxkbcommon_jll\u001b[39m\n",
      "\u001b[32m  ✓ \u001b[39m\u001b[90mCairo_jll\u001b[39m\n",
      "\u001b[32m  ✓ \u001b[39m\u001b[90mQt5Base_jll\u001b[39m\n",
      "\u001b[32m  ✓ \u001b[39m\u001b[90mHarfBuzz_jll\u001b[39m\n",
      "\u001b[32m  ✓ \u001b[39m\u001b[90mlibass_jll\u001b[39m\n",
      "\u001b[32m  ✓ \u001b[39m\u001b[90mFFMPEG_jll\u001b[39m\n",
      "\u001b[32m  ✓ \u001b[39m\u001b[90mFFMPEG\u001b[39m\n",
      "\u001b[32m  ✓ \u001b[39m\u001b[90mGR_jll\u001b[39m\n",
      "\u001b[32m  ✓ \u001b[39m\u001b[90mGR\u001b[39m\n",
      "\u001b[32m  ✓ \u001b[39mPlots\n",
      "  37 dependencies successfully precompiled in 26 seconds. 180 already precompiled.\n",
      "\u001b[32m\u001b[1m   Resolving\u001b[22m\u001b[39m package versions...\n",
      "\u001b[32m\u001b[1m  No Changes\u001b[22m\u001b[39m to `~/.julia/environments/v1.8/Project.toml`\n",
      "\u001b[32m\u001b[1m  No Changes\u001b[22m\u001b[39m to `~/.julia/environments/v1.8/Manifest.toml`\n",
      "\u001b[32m\u001b[1m   Resolving\u001b[22m\u001b[39m package versions...\n",
      "\u001b[32m\u001b[1m  No Changes\u001b[22m\u001b[39m to `~/.julia/environments/v1.8/Project.toml`\n",
      "\u001b[32m\u001b[1m  No Changes\u001b[22m\u001b[39m to `~/.julia/environments/v1.8/Manifest.toml`\n",
      "\u001b[32m\u001b[1m   Resolving\u001b[22m\u001b[39m package versions...\n",
      "\u001b[32m\u001b[1m  No Changes\u001b[22m\u001b[39m to `~/.julia/environments/v1.8/Project.toml`\n",
      "\u001b[32m\u001b[1m  No Changes\u001b[22m\u001b[39m to `~/.julia/environments/v1.8/Manifest.toml`\n",
      "\u001b[32m\u001b[1m   Resolving\u001b[22m\u001b[39m package versions...\n",
      "\u001b[32m\u001b[1m  No Changes\u001b[22m\u001b[39m to `~/.julia/environments/v1.8/Project.toml`\n",
      "\u001b[32m\u001b[1m  No Changes\u001b[22m\u001b[39m to `~/.julia/environments/v1.8/Manifest.toml`\n",
      "\u001b[32m\u001b[1m   Resolving\u001b[22m\u001b[39m package versions...\n",
      "\u001b[32m\u001b[1m  No Changes\u001b[22m\u001b[39m to `~/.julia/environments/v1.8/Project.toml`\n",
      "\u001b[32m\u001b[1m  No Changes\u001b[22m\u001b[39m to `~/.julia/environments/v1.8/Manifest.toml`\n",
      "\u001b[32m\u001b[1m   Resolving\u001b[22m\u001b[39m package versions...\n",
      "\u001b[32m\u001b[1m  No Changes\u001b[22m\u001b[39m to `~/.julia/environments/v1.8/Project.toml`\n",
      "\u001b[32m\u001b[1m  No Changes\u001b[22m\u001b[39m to `~/.julia/environments/v1.8/Manifest.toml`\n",
      "\u001b[32m\u001b[1m   Resolving\u001b[22m\u001b[39m package versions...\n",
      "\u001b[32m\u001b[1m  No Changes\u001b[22m\u001b[39m to `~/.julia/environments/v1.8/Project.toml`\n",
      "\u001b[32m\u001b[1m  No Changes\u001b[22m\u001b[39m to `~/.julia/environments/v1.8/Manifest.toml`\n",
      "\u001b[32m\u001b[1m   Resolving\u001b[22m\u001b[39m package versions...\n",
      "\u001b[32m\u001b[1m  No Changes\u001b[22m\u001b[39m to `~/.julia/environments/v1.8/Project.toml`\n",
      "\u001b[32m\u001b[1m  No Changes\u001b[22m\u001b[39m to `~/.julia/environments/v1.8/Manifest.toml`\n"
     ]
    }
   ],
   "source": [
    "import Pkg\n",
    "Pkg.add(\"Flux\")\n",
    "Pkg.add(\"Plots\")\n",
    "Pkg.add(\"NetCDF\")\n",
    "Pkg.add(\"TSVD\")\n",
    "Pkg.add(\"IterTools\")\n",
    "Pkg.add(\"Statistics\")\n",
    "Pkg.add(\"Compat\")\n",
    "Pkg.add(\"LinearAlgebra\")\n",
    "Pkg.add(\"Glob\")\n",
    "using Flux\n",
    "using Flux: train!\n",
    "using Plots\n",
    "using TSVD\n",
    "using IterTools\n",
    "using IterTools: ncycle \n",
    "using Statistics\n",
    "using LinearAlgebra\n",
    "using Compat\n",
    "using Glob\n",
    "using NetCDF"
   ]
  },
  {
   "cell_type": "code",
   "execution_count": 4,
   "id": "5b93275c",
   "metadata": {},
   "outputs": [
    {
     "ename": "LoadError",
     "evalue": "BoundsError: attempt to access 0-element Vector{String} at index [1]",
     "output_type": "error",
     "traceback": [
      "BoundsError: attempt to access 0-element Vector{String} at index [1]",
      "",
      "Stacktrace:",
      " [1] getindex(A::Vector{String}, i1::Int64)",
      "   @ Base ./array.jl:924",
      " [2] top-level scope",
      "   @ In[4]:4",
      " [3] eval",
      "   @ ./boot.jl:368 [inlined]",
      " [4] include_string(mapexpr::typeof(REPL.softscope), mod::Module, code::String, filename::String)",
      "   @ Base ./loading.jl:1428"
     ]
    }
   ],
   "source": [
    "training_files = glob(\"usurf_ex_gris_g1800m_v5_RAGIS_id_*_1980-1-1_1990-1-1.nc\")\n",
    "\n",
    "nf = length(training_files)\n",
    "d = ncread(training_files[1], \"usurf\")\n",
    "nx, ny, nt = size(d)\n",
    "x = ncread(training_files[1], \"x\")\n",
    "y = ncread(training_files[1], \"y\")\n",
    "\n",
    "Data = zeros(nf * nt, nx*ny)\n",
    "for (k, training_file) in enumerate(training_files)\n",
    "    println(training_file)\n",
    "    d = ncread(training_file, \"usurf\")\n",
    "    data = transpose(reshape(d, ny * nx, nt))\n",
    "    Data[(k - 1 ) * nt + 1:k * nt, :] = data\n",
    "end\n",
    "\n",
    "\n",
    "obs_file =\"aerodem_1978_1987_wgs84_g1800m.nc\"\n",
    "obs = ncread(obs_file, \"surface_altitude\")\n",
    "nx_obs, ny_obs = size(obs)\n",
    "\n",
    "R = reshape(obs, 1, nx * ny);\n",
    "I = findall(x->x!=-9999, R);"
   ]
  },
  {
   "cell_type": "code",
   "execution_count": 3,
   "id": "056aa919",
   "metadata": {},
   "outputs": [
    {
     "ename": "LoadError",
     "evalue": "UndefVarError: Data not defined",
     "output_type": "error",
     "traceback": [
      "UndefVarError: Data not defined",
      "",
      "Stacktrace:",
      " [1] top-level scope",
      "   @ In[3]:3",
      " [2] eval",
      "   @ ./boot.jl:368 [inlined]",
      " [3] include_string(mapexpr::typeof(REPL.softscope), mod::Module, code::String, filename::String)",
      "   @ Base ./loading.jl:1428"
     ]
    }
   ],
   "source": [
    "q = 10\n",
    "\n",
    "Data_mean = mean(Data, dims=1)\n",
    "Data_scaled = Data .- Data_mean\n",
    "U, S, V = tsvd(Data_scaled, q)\n",
    "println(\"dim V = \", size(V))\n",
    "println(\"dim S = \", size(S))\n",
    "println(\"dim U = \", size(U))\n",
    "println(\"dim R = \", size(R))\n",
    "\n",
    "SV = transpose(V * diagm(S))\n",
    "\n",
    "println(\"SV= \",size(SV))\n",
    "\n",
    "x_train = transpose(SV[repeat(I, 1, q)])\n",
    "_, n_obs = size(x_train)\n",
    "y_train = reshape(R[I], 1, n_obs)"
   ]
  },
  {
   "cell_type": "code",
   "execution_count": 19,
   "id": "d0d2df34",
   "metadata": {},
   "outputs": [
    {
     "name": "stdout",
     "output_type": "stream",
     "text": [
      "0.0\n",
      "Initial loss: 605223.3035895247\n",
      "Final loss: 271742.13113388815\n",
      "10000.0\n",
      "Initial loss: 552618.1580774006\n",
      "Final loss: 274975.4951375171\n",
      "100000.0\n",
      "Initial loss: 545330.4120321254\n",
      "Final loss: 271452.43984731\n",
      "1.0e6\n",
      "Initial loss: 673385.0616154557\n",
      "Final loss: 273487.98514266516\n",
      "1.0e7\n",
      "Initial loss: 2.704817590303704e6\n",
      "Final loss: 274854.53437216865\n"
     ]
    }
   ],
   "source": [
    "n_epochs = 100\n",
    "\n",
    "for K in [0 1e4 1e5 1e6 1e7]\n",
    "    println(K)\n",
    "    model = Dense(q, 1)\n",
    "    ps = Flux.params(model)\n",
    "    penalty() = K * mean(abs2, model.weight)\n",
    "    loss(x, y) = Flux.Losses.mse(model(x), y) + penalty()\n",
    "    opt = Adam(0.1)\n",
    "\n",
    "    loss_0 = loss(x_train, y_train)\n",
    "    println(\"Initial loss: $loss_0\")\n",
    "\n",
    "    data = [(x_train, y_train)]\n",
    "\n",
    "    train_loader = Flux.DataLoader((x_train, y_train), batchsize = 128, shuffle = true)\n",
    "    Flux.train!(loss, ps, ncycle(train_loader, n_epochs), opt)\n",
    "\n",
    "    loss_e = loss(x_train, y_train)\n",
    "    println(\"Final loss: $loss_e\")\n",
    "\n",
    "    M =  reshape(model.weight * SV + Data_mean, nx, ny)\n",
    "    M[findall(x->x<0, M)] .= 0\n",
    "\n",
    "    Ms = copy(reshape(M, nx, ny, 1))\n",
    "\n",
    "    filename = \"dem_ragis_q_$(q)_K_$(K).nc\"\n",
    "    varname  = \"usurf\"\n",
    "    attribs  = Dict(\"units\"   => \"m\",\n",
    "                    \"data_min\" => 0.0)\n",
    "\n",
    "    nccreate(filename, varname, \"x\", x, \"y\", y, \"time\", 1, atts=attribs)\n",
    "    ncwrite(Ms, filename, varname)\n",
    "end"
   ]
  },
  {
   "cell_type": "code",
   "execution_count": 21,
   "id": "352ea0c3",
   "metadata": {},
   "outputs": [
    {
     "ename": "LoadError",
     "evalue": "UndefVarError: M not defined",
     "output_type": "error",
     "traceback": [
      "UndefVarError: M not defined",
      "",
      "Stacktrace:",
      " [1] top-level scope",
      "   @ In[21]:1",
      " [2] eval",
      "   @ ./boot.jl:368 [inlined]",
      " [3] include_string(mapexpr::typeof(REPL.softscope), mod::Module, code::String, filename::String)",
      "   @ Base ./loading.jl:1428"
     ]
    }
   ],
   "source": [
    "heatmap(x, y, transpose(M))\n",
    "\n"
   ]
  },
  {
   "cell_type": "code",
   "execution_count": null,
   "id": "f5659b95",
   "metadata": {},
   "outputs": [],
   "source": []
  }
 ],
 "metadata": {
  "kernelspec": {
   "display_name": "Julia 1.8.2",
   "language": "julia",
   "name": "julia-1.8"
  },
  "language_info": {
   "file_extension": ".jl",
   "mimetype": "application/julia",
   "name": "julia",
   "version": "1.8.3"
  }
 },
 "nbformat": 4,
 "nbformat_minor": 5
}
